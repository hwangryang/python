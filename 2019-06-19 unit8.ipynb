{
 "cells": [
  {
   "cell_type": "markdown",
   "metadata": {},
   "source": [
    "#### unit8 인구 구조를 다양한 형태로 시각화하기"
   ]
  },
  {
   "cell_type": "code",
   "execution_count": 1,
   "metadata": {},
   "outputs": [],
   "source": [
    "import numpy as np\n",
    "import pandas as pd\n",
    "import matplotlib.pyplot as plt"
   ]
  },
  {
   "cell_type": "code",
   "execution_count": 2,
   "metadata": {},
   "outputs": [
    {
     "data": {
      "text/plain": [
       "<BarContainer object of 10 artists>"
      ]
     },
     "execution_count": 2,
     "metadata": {},
     "output_type": "execute_result"
    },
    {
     "data": {
      "image/png": "[encoded data removed]",
      "text/plain": [
       "<Figure size 360x72 with 1 Axes>"
      ]
     },
     "metadata": {
      "needs_background": "light"
     },
     "output_type": "display_data"
    }
   ],
   "source": [
    "# 막대그래프 (X,Y)\n",
    "plt.figure(figsize=(5,1))\n",
    "plt.bar(np.arange(10), np.random.randint(1,10,size=10))"
   ]
  },
  {
   "cell_type": "code",
   "execution_count": 3,
   "metadata": {},
   "outputs": [
    {
     "data": {
      "text/plain": [
       "<matplotlib.legend.Legend at 0x290bb5a7c88>"
      ]
     },
     "execution_count": 3,
     "metadata": {},
     "output_type": "execute_result"
    },
    {
     "data": {
      "image/png": "[encoded data removed]",
      "text/plain": [
       "<Figure size 360x72 with 1 Axes>"
      ]
     },
     "metadata": {
      "needs_background": "light"
     },
     "output_type": "display_data"
    }
   ],
   "source": [
    "plt.figure(figsize=(5,1))\n",
    "plt.barh(np.arange(10), np.random.randint(1,10,size=10), label='1')\n",
    "plt.barh(np.arange(10), -np.random.randint(1,10,size=10), label='2')\n",
    "plt.legend()\n",
    "# barh -> 수평 막대그래프"
   ]
  },
  {
   "cell_type": "code",
   "execution_count": 4,
   "metadata": {},
   "outputs": [
    {
     "data": {
      "text/plain": [
       "(3842, 207)"
      ]
     },
     "execution_count": 4,
     "metadata": {},
     "output_type": "execute_result"
    }
   ],
   "source": [
    "# p.155\n",
    "df = pd.read_csv('gender.csv', encoding='cp949')\n",
    "df = df.replace(',', '', regex = True)\n",
    "df.shape"
   ]
  },
  {
   "cell_type": "markdown",
   "metadata": {},
   "source": [
    "- 특정 도시(영암)의 여성과 남성의 나이별 인구수 대조\n",
    "- 컬럼 위치 찾기 : 남 0세 ~ 남90세, 여 0세 ~ 여 90세\n",
    "- 0세:10명 1세:20명.... 도시에서 모두 누적 > 막대 그래프로 표현"
   ]
  },
  {
   "cell_type": "code",
   "execution_count": 5,
   "metadata": {},
   "outputs": [
    {
     "name": "stdout",
     "output_type": "stream",
     "text": [
      "3 106\n"
     ]
    },
    {
     "data": {
      "text/plain": [
       "('2019년05월_여_0세', '2019년05월_여_90세')"
      ]
     },
     "execution_count": 5,
     "metadata": {},
     "output_type": "execute_result"
    }
   ],
   "source": [
    "max_age = 90\n",
    "man_0 = '2019년05월_남_0세'\n",
    "woman_0 = '2019년05월_여_0세'\n",
    "city = '영암군'\n",
    "columns = list(df.columns) # df.columns 1행 = columns\n",
    "type(list(df.columns))\n",
    "man_0_index = columns.index(man_0) # man_0_index : 남 0세 N 열\n",
    "woman_0_index = columns.index(woman_0) # man_0_index : 여 0세 N 열\n",
    "print(man_0_index, woman_0_index)\n",
    "columns[man_0_index], columns[man_0_index + max_age]\n",
    "columns[woman_0_index], columns[woman_0_index + max_age]"
   ]
  },
  {
   "cell_type": "code",
   "execution_count": 6,
   "metadata": {},
   "outputs": [
    {
     "name": "stdout",
     "output_type": "stream",
     "text": [
      "2979 전라남도 영암군 (4683000000)\n",
      "2980 전라남도 영암군 영암읍(4683025000)\n",
      "2981 전라남도 영암군 삼호읍(4683025300)\n",
      "2982 전라남도 영암군 삼호읍서부출장소(4683025400)\n",
      "2983 전라남도 영암군 덕진면(4683031000)\n",
      "2984 전라남도 영암군 금정면(4683032000)\n",
      "2985 전라남도 영암군 신북면(4683033000)\n",
      "2986 전라남도 영암군 시종면(4683034000)\n",
      "2987 전라남도 영암군 도포면(4683035000)\n",
      "2988 전라남도 영암군 군서면(4683036000)\n",
      "2989 전라남도 영암군 서호면(4683037000)\n",
      "2990 전라남도 영암군 학산면(4683038000)\n",
      "2991 전라남도 영암군 미암면(4683039000)\n"
     ]
    },
    {
     "data": {
      "text/plain": [
       "2991"
      ]
     },
     "execution_count": 6,
     "metadata": {},
     "output_type": "execute_result"
    }
   ],
   "source": [
    "data = np.array(df)\n",
    "area = data[:, 0]\n",
    "area # 1열 : 주소\n",
    "for i in range(len(area)):\n",
    "    if city in area[i]:\n",
    "        print(i, area[i])\n",
    "        city_row_index = i\n",
    "city_row_index"
   ]
  },
  {
   "cell_type": "code",
   "execution_count": 7,
   "metadata": {},
   "outputs": [
    {
     "data": {
      "text/plain": [
       "((90,), (90,))"
      ]
     },
     "execution_count": 7,
     "metadata": {},
     "output_type": "execute_result"
    }
   ],
   "source": [
    "city_data = data[city_row_index]\n",
    "city_man = city_data[man_0_index:man_0_index +  max_age]\n",
    "city_woman = city_data[woman_0_index:woman_0_index +  max_age]\n",
    "city_man = city_man.astype(np.int)\n",
    "city_woman = city_woman.astype(np.int)\n",
    "city_man.shape, city_woman.shape"
   ]
  },
  {
   "cell_type": "code",
   "execution_count": 8,
   "metadata": {},
   "outputs": [
    {
     "data": {
      "image/png": "[encoded data removed]",
      "text/plain": [
       "<Figure size 360x144 with 1 Axes>"
      ]
     },
     "metadata": {
      "needs_background": "light"
     },
     "output_type": "display_data"
    }
   ],
   "source": [
    "plt.figure(figsize=(5,2))\n",
    "m = plt.barh(np.arange(len(city_man)), city_man)\n",
    "m = plt.barh(np.arange(len(city_woman)), -city_woman)\n"
   ]
  },
  {
   "cell_type": "code",
   "execution_count": 9,
   "metadata": {},
   "outputs": [
    {
     "data": {
      "text/plain": [
       "(13, 207)"
      ]
     },
     "execution_count": 9,
     "metadata": {},
     "output_type": "execute_result"
    }
   ],
   "source": [
    "city = '영암' # 이 글자가 들어간 행은 전부 찾자, 조건부 검색, 마스크(True)검색\n",
    "is_contain = []\n",
    "for i in range(len(area)):\n",
    "    is_contain.append(city in area[i])\n",
    "    \n",
    "is_contain[0], is_contain[-1]\n",
    "np.mean(is_contain)\n",
    "city_data = data[is_contain]\n",
    "city_data.shape"
   ]
  },
  {
   "cell_type": "code",
   "execution_count": 10,
   "metadata": {},
   "outputs": [
    {
     "data": {
      "text/plain": [
       "array([['전라남도 영암군 (4683000000)', '27837', '27837', ..., 8, 10, '23'],\n",
       "       ['전라남도 영암군 영암읍(4683025000)', '4194', '4194', ..., 1, 2, '1'],\n",
       "       ['전라남도 영암군 삼호읍(4683025300)', '7260', '7260', ..., 1, 0, '3'],\n",
       "       ...,\n",
       "       ['전라남도 영암군 서호면(4683037000)', '959', '959', ..., 0, 2, '2'],\n",
       "       ['전라남도 영암군 학산면(4683038000)', '1506', '1506', ..., 0, 3, '2'],\n",
       "       ['전라남도 영암군 미암면(4683039000)', '1209', '1209', ..., 0, 1, '1']],\n",
       "      dtype=object)"
      ]
     },
     "execution_count": 10,
     "metadata": {},
     "output_type": "execute_result"
    }
   ],
   "source": [
    "city_data"
   ]
  },
  {
   "cell_type": "code",
   "execution_count": 27,
   "metadata": {},
   "outputs": [
    {
     "data": {
      "text/plain": [
       "(90,)"
      ]
     },
     "execution_count": 27,
     "metadata": {},
     "output_type": "execute_result"
    }
   ],
   "source": [
    "city_man = city_data[:, man_0_index:man_0_index+max_age].astype(np.int)\n",
    "city_woman = city_data[:, woman_0_index:woman_0_index+max_age].astype(np.int)\n",
    "city_man.shape, city_woman.shape #(영암 포함13개/행, 90세/열)\n",
    "#man_0_index # 남 0세\n",
    "city_man = np.sum(city_man, axis=0) # 행기준으로 더해라, 결과 90개 데이터\n",
    "city_woman = np.sum(city_woman, axis=0)\n",
    "city_man.shape"
   ]
  },
  {
   "cell_type": "code",
   "execution_count": 38,
   "metadata": {},
   "outputs": [
    {
     "data": {
      "text/plain": [
       "(array([ 316,  380,  392,  422,  416,  422,  438,  394,  460,  422,  446,\n",
       "         412,  478,  382,  460,  518,  458,  582,  674,  680,  632,  644,\n",
       "         656,  614,  608,  538,  536,  462,  390,  412,  376,  430,  508,\n",
       "         492,  498,  616,  786,  786,  790,  860,  724,  788,  770,  834,\n",
       "         862,  968, 1088,  974, 1084,  966, 1130,  992, 1034, 1148, 1020,\n",
       "        1014, 1160,  992, 1170, 1018,  912,  964,  830,  756,  816,  588,\n",
       "         630,  616,  614,  654,  604,  594,  564,  428,  546,  422,  586,\n",
       "         604,  438,  488,  414,  358,  326,  266,  260,  210,  182,  124,\n",
       "          78,   82]),\n",
       " array([370, 410, 346, 366, 400, 420, 436, 406, 464, 384, 390, 404, 400,\n",
       "        346, 356, 424, 438, 506, 574, 618, 536, 546, 446, 450, 398, 380,\n",
       "        418, 406, 348, 396, 390, 384, 420, 452, 454, 522, 538, 566, 554,\n",
       "        564, 518, 534, 500, 574, 570, 638, 680, 744, 716, 716, 734, 780,\n",
       "        726, 720, 810, 738, 856, 856, 972, 944, 840, 780, 818, 732, 814,\n",
       "        670, 680, 652, 742, 700, 624, 704, 736, 630, 740, 702, 838, 906,\n",
       "        838, 864, 782, 724, 646, 630, 608, 456, 424, 354, 288, 242]))"
      ]
     },
     "execution_count": 38,
     "metadata": {},
     "output_type": "execute_result"
    },
    {
     "data": {
      "image/png": "[encoded data removed]",
      "text/plain": [
       "<Figure size 576x216 with 1 Axes>"
      ]
     },
     "metadata": {
      "needs_background": "light"
     },
     "output_type": "display_data"
    }
   ],
   "source": [
    "plt.figure(figsize=(8,3))\n",
    "m = plt.barh(np.arange(len(city_man)), city_man, label='man')\n",
    "m = plt.barh(np.arange(len(city_woman)), -city_woman, label='woman')\n",
    "m = plt.legend()\n",
    "city_man, city_woman"
   ]
  },
  {
   "cell_type": "code",
   "execution_count": 45,
   "metadata": {},
   "outputs": [
    {
     "ename": "SyntaxError",
     "evalue": "can't assign to function call (<ipython-input-45-5e62c6d0a0cf>, line 1)",
     "output_type": "error",
     "traceback": [
      "\u001b[1;36m  File \u001b[1;32m\"<ipython-input-45-5e62c6d0a0cf>\"\u001b[1;36m, line \u001b[1;32m1\u001b[0m\n\u001b[1;33m    n = plt.pie( [np.sum(city_man), np.sum(city_woman)], labels==['M', 'W'] ), autopct='%.1f%%', colors=colors, explore=(0,0.1)\u001b[0m\n\u001b[1;37m       ^\u001b[0m\n\u001b[1;31mSyntaxError\u001b[0m\u001b[1;31m:\u001b[0m can't assign to function call\n"
     ]
    }
   ],
   "source": [
    "n = plt.pie( [np.sum(city_man), np.sum(city_woman)], labels==['M', 'W'] ), autopct='%.1f%%', colors=colors, explore=(0,0.1)\n"
   ]
  },
  {
   "cell_type": "code",
   "execution_count": 50,
   "metadata": {},
   "outputs": [
    {
     "data": {
      "image/png": "[encoded data removed]",
      "text/plain": [
       "<Figure size 360x21.6 with 1 Axes>"
      ]
     },
     "metadata": {
      "needs_background": "light"
     },
     "output_type": "display_data"
    }
   ],
   "source": [
    "plt.figure(figsize=(5,0.3))\n",
    "p = plt.plot(city_man, label='man')\n",
    "p = plt.plot(city_woman, label='woman')\n",
    "p = plt.legend()"
   ]
  },
  {
   "cell_type": "code",
   "execution_count": 49,
   "metadata": {},
   "outputs": [
    {
     "data": {
      "text/plain": [
       "<BarContainer object of 90 artists>"
      ]
     },
     "execution_count": 49,
     "metadata": {},
     "output_type": "execute_result"
    },
    {
     "data": {
      "image/png": "[encoded data removed]",
      "text/plain": [
       "<Figure size 360x36 with 1 Axes>"
      ]
     },
     "metadata": {
      "needs_background": "light"
     },
     "output_type": "display_data"
    }
   ],
   "source": [
    "#p144 남녀 인구의 차이 \n",
    "plt.figure(figsize=(5,0.5))\n",
    "plt.bar(np.arange(len(city_man)), city_man - city_woman)"
   ]
  },
  {
   "cell_type": "code",
   "execution_count": 51,
   "metadata": {},
   "outputs": [
    {
     "data": {
      "image/png": "[encoded data removed]",
      "text/plain": [
       "<Figure size 432x288 with 1 Axes>"
      ]
     },
     "metadata": {},
     "output_type": "display_data"
    }
   ],
   "source": [
    "plt.title('Man / Woman Population')\n",
    "colors = ['skyblue', 'pink']\n",
    "n = plt.pie([np.sum(city_man),np.sum(city_woman)]\n",
    "            , labels=['M', 'W'],autopct='%d %%',colors=colors, explode=(0, 0.1))"
   ]
  },
  {
   "cell_type": "markdown",
   "metadata": {},
   "source": [
    "##### unit 9"
   ]
  },
  {
   "cell_type": "code",
   "execution_count": 37,
   "metadata": {},
   "outputs": [
    {
     "data": {
      "image/png": "[encoded data removed]",
      "text/plain": [
       "<Figure size 432x288 with 1 Axes>"
      ]
     },
     "metadata": {},
     "output_type": "display_data"
    }
   ],
   "source": [
    "# p.130\n",
    "plt.rc('font', family='Malgun Gothic')\n",
    "color = ['darkmagenta', 'deeppink', 'pink']\n",
    "plt.title(\"Pie Graph\")\n",
    "n = plt.pie([10,20,30], labels=['A', 'B', 'O'], autopct='%.1f%%', explode=(0,0.1,0))\n",
    "n = plt.legend()"
   ]
  },
  {
   "cell_type": "markdown",
   "metadata": {},
   "source": [
    "1. plot(x) plot(x,y) 선\n",
    "- hist(x) 히스토그램\n",
    "- boxplot(x) 박스 : 분포\n",
    "- bar(x, y) barh(x,y) 막대그래프\n",
    "- pie(x)\n",
    "- sactter(x,y) 산점도"
   ]
  },
  {
   "cell_type": "code",
   "execution_count": 5,
   "metadata": {},
   "outputs": [
    {
     "data": {
      "image/png": "[encoded data removed]",
      "text/plain": [
       "<Figure size 432x288 with 2 Axes>"
      ]
     },
     "metadata": {
      "needs_background": "light"
     },
     "output_type": "display_data"
    }
   ],
   "source": [
    "import numpy as np\n",
    "import pandas as pd\n",
    "import matplotlib.pyplot as plt\n",
    "#p.144 산점도(scatter) 산개, 점 점, 그림 도 \n",
    "# s(size), c(color)\n",
    "color=['red', 'green', 'black', 'gold']\n",
    "color='blue'\n",
    "y = np.random.randint(0, 100, size=100)\n",
    "n = plt.scatter(np.arange(len(y)), y, s=y,\n",
    "               c=range(len(y)), cmap='jet', alpha=0.5)\n",
    "n = plt.colorbar()\n"
   ]
  },
  {
   "cell_type": "code",
   "execution_count": null,
   "metadata": {},
   "outputs": [],
   "source": []
  },
  {
   "cell_type": "code",
   "execution_count": null,
   "metadata": {},
   "outputs": [],
   "source": []
  },
  {
   "cell_type": "code",
   "execution_count": null,
   "metadata": {},
   "outputs": [],
   "source": []
  },
  {
   "cell_type": "code",
   "execution_count": null,
   "metadata": {},
   "outputs": [],
   "source": []
  },
  {
   "cell_type": "code",
   "execution_count": null,
   "metadata": {},
   "outputs": [],
   "source": []
  },
  {
   "cell_type": "code",
   "execution_count": null,
   "metadata": {},
   "outputs": [],
   "source": []
  },
  {
   "cell_type": "code",
   "execution_count": null,
   "metadata": {},
   "outputs": [],
   "source": []
  }
 ],
 "metadata": {
  "kernelspec": {
   "display_name": "Python 3",
   "language": "python",
   "name": "python3"
  },
  "language_info": {
   "codemirror_mode": {
    "name": "ipython",
    "version": 3
   },
   "file_extension": ".py",
   "mimetype": "text/x-python",
   "name": "python",
   "nbconvert_exporter": "python",
   "pygments_lexer": "ipython3",
   "version": "3.7.3"
  }
 },
 "nbformat": 4,
 "nbformat_minor": 2
}
