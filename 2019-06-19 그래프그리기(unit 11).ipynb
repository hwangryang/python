{
 "cells": [
  {
   "cell_type": "markdown",
   "metadata": {},
   "source": [
    "### 서울 지하철 유/무임 승차 데이터\n",
    "\n",
    "###### T-money 제공\n",
    "\n"
   ]
  },
  {
   "cell_type": "markdown",
   "metadata": {},
   "source": [
    "###### 문제 1. 유임 승차 비율이 가장 높은 역은 어디일까"
   ]
  },
  {
   "cell_type": "code",
   "execution_count": 1,
   "metadata": {},
   "outputs": [],
   "source": [
    "import numpy as np\n",
    "import pandas as pd\n",
    "import matplotlib.pyplot as plt"
   ]
  },
  {
   "cell_type": "code",
   "execution_count": 17,
   "metadata": {},
   "outputs": [
    {
     "data": {
      "text/plain": [
       "(597, 8)"
      ]
     },
     "execution_count": 17,
     "metadata": {},
     "output_type": "execute_result"
    }
   ],
   "source": [
    "df = pd.read_csv('subwayfee.csv', encoding='cp949')\n",
    "df.shape"
   ]
  },
  {
   "cell_type": "code",
   "execution_count": 88,
   "metadata": {},
   "outputs": [],
   "source": [
    "df = df.replace(',', '', regex=True)\n",
    "df=df.dropna() # 누락값이 있는 행은 버린다"
   ]
  },
  {
   "cell_type": "code",
   "execution_count": 89,
   "metadata": {},
   "outputs": [
    {
     "data": {
      "text/html": [
       "<div>\n",
       "<style scoped>\n",
       "    .dataframe tbody tr th:only-of-type {\n",
       "        vertical-align: middle;\n",
       "    }\n",
       "\n",
       "    .dataframe tbody tr th {\n",
       "        vertical-align: top;\n",
       "    }\n",
       "\n",
       "    .dataframe thead th {\n",
       "        text-align: right;\n",
       "    }\n",
       "</style>\n",
       "<table border=\"1\" class=\"dataframe\">\n",
       "  <thead>\n",
       "    <tr style=\"text-align: right;\">\n",
       "      <th></th>\n",
       "      <th>사용월</th>\n",
       "      <th>호선명</th>\n",
       "      <th>역ID</th>\n",
       "      <th>지하철역</th>\n",
       "      <th>유임승차</th>\n",
       "      <th>유임하차</th>\n",
       "      <th>무임승차</th>\n",
       "      <th>무임하차</th>\n",
       "    </tr>\n",
       "  </thead>\n",
       "  <tbody>\n",
       "    <tr>\n",
       "      <th>0</th>\n",
       "      <td>May-19</td>\n",
       "      <td>1호선</td>\n",
       "      <td>150</td>\n",
       "      <td>서울역</td>\n",
       "      <td>1568570</td>\n",
       "      <td>1489737</td>\n",
       "      <td>247801</td>\n",
       "      <td>242107</td>\n",
       "    </tr>\n",
       "  </tbody>\n",
       "</table>\n",
       "</div>"
      ],
      "text/plain": [
       "      사용월  호선명  역ID 지하철역     유임승차     유임하차    무임승차    무임하차\n",
       "0  May-19  1호선  150  서울역  1568570  1489737  247801  242107"
      ]
     },
     "execution_count": 89,
     "metadata": {},
     "output_type": "execute_result"
    }
   ],
   "source": [
    "df.head(1)"
   ]
  },
  {
   "cell_type": "code",
   "execution_count": 15,
   "metadata": {},
   "outputs": [
    {
     "data": {
      "text/plain": [
       "(597, 8)"
      ]
     },
     "execution_count": 15,
     "metadata": {},
     "output_type": "execute_result"
    }
   ],
   "source": [
    "arr = np.array(df)\n",
    "arr.shape"
   ]
  },
  {
   "cell_type": "code",
   "execution_count": 27,
   "metadata": {},
   "outputs": [
    {
     "data": {
      "text/plain": [
       "('강남', 2894341, 31)"
      ]
     },
     "execution_count": 27,
     "metadata": {},
     "output_type": "execute_result"
    }
   ],
   "source": [
    "arr[:,4], np.max(arr[:,4])\n",
    "유임승차 = (arr[:,4].astype(np.int))\n",
    "arr[np.argmax(유임승차),3], np.max(유임승차) , np.argmax(유임승차)"
   ]
  },
  {
   "cell_type": "code",
   "execution_count": 28,
   "metadata": {},
   "outputs": [],
   "source": [
    "# 유임승차 비율이 많은곳은? 유임승차인워/무임승차인워 = 유인승차 비율"
   ]
  },
  {
   "cell_type": "code",
   "execution_count": 35,
   "metadata": {},
   "outputs": [
    {
     "data": {
      "text/plain": [
       "(array(['분당선', '복정'], dtype=object), 24.0, 237)"
      ]
     },
     "execution_count": 35,
     "metadata": {},
     "output_type": "execute_result"
    }
   ],
   "source": [
    "무임승차 = (arr[:,6].astype(np.int) )\n",
    "유임승차비율 = 유임승차/(무임승차+1)\n",
    "arr[np.argmax(유임승차비율),1:4:2], np.max(유임승차비율) , np.argmax(유임승차비율)"
   ]
  },
  {
   "cell_type": "markdown",
   "metadata": {},
   "source": [
    "- 유무임 승하차 인원이 가장 많은 역은 어디일까"
   ]
  },
  {
   "cell_type": "code",
   "execution_count": 46,
   "metadata": {},
   "outputs": [],
   "source": [
    "x=arr[:, 4:8].astype(np.int)"
   ]
  },
  {
   "cell_type": "code",
   "execution_count": 47,
   "metadata": {},
   "outputs": [
    {
     "data": {
      "text/plain": [
       "(597, 4)"
      ]
     },
     "execution_count": 47,
     "metadata": {},
     "output_type": "execute_result"
    }
   ],
   "source": [
    "x.shape"
   ]
  },
  {
   "cell_type": "code",
   "execution_count": 71,
   "metadata": {},
   "outputs": [
    {
     "data": {
      "text/plain": [
       "(791491, 3, array(['1호선', '종로3가'], dtype=object))"
      ]
     },
     "execution_count": 71,
     "metadata": {},
     "output_type": "execute_result"
    }
   ],
   "source": [
    "x=np.sum(arr[:, 6:8].astype(np.int), 1)\n",
    "np.max(x),  np.argmax(x), arr[np.argmax(x),1:4:2]\n",
    "## 틀렸는데??"
   ]
  },
  {
   "cell_type": "code",
   "execution_count": 72,
   "metadata": {},
   "outputs": [],
   "source": [
    "# 모든 역의 유무임 승하차 비율은 어떻게 될까>파일(유임승차 45%, 무임하차 x%)\n",
    "# [유임승차인원:x, 유임 하차인원:x, 무임승차:x, 무임하차:x]"
   ]
  },
  {
   "cell_type": "code",
   "execution_count": 77,
   "metadata": {},
   "outputs": [
    {
     "data": {
      "text/plain": [
       "Text(0.5, 1.0, '전체 승하차 비율')"
      ]
     },
     "execution_count": 77,
     "metadata": {},
     "output_type": "execute_result"
    },
    {
     "data": {
      "image/png": "[encoded data removed]",
      "text/plain": [
       "<Figure size 432x288 with 1 Axes>"
      ]
     },
     "metadata": {},
     "output_type": "display_data"
    }
   ],
   "source": [
    "a = np.sum(arr[:, 4:8].astype(np.int), 0)\n",
    "plt.rc('font', family='Malgun Gothic')\n",
    "n = plt.pie( a, labels=df.columns[4:8], autopct='%.1f' )\n",
    "plt.savefig('all_subway_ratio.png')\n",
    "plt.title('전체 승하차 비율')"
   ]
  },
  {
   "cell_type": "markdown",
   "metadata": {},
   "source": [
    "모든 역마다 유무임 승차 비율을 따로 파이 차트로 나타내기(50만명 이상)"
   ]
  },
  {
   "cell_type": "code",
   "execution_count": 79,
   "metadata": {},
   "outputs": [
    {
     "ename": "SyntaxError",
     "evalue": "invalid syntax (<ipython-input-79-057ae1a79601>, line 1)",
     "output_type": "error",
     "traceback": [
      "\u001b[1;36m  File \u001b[1;32m\"<ipython-input-79-057ae1a79601>\"\u001b[1;36m, line \u001b[1;32m1\u001b[0m\n\u001b[1;33m    a = narr[:, 4:8].astype(np.int), 0)\u001b[0m\n\u001b[1;37m                                      ^\u001b[0m\n\u001b[1;31mSyntaxError\u001b[0m\u001b[1;31m:\u001b[0m invalid syntax\n"
     ]
    }
   ],
   "source": [
    "a = narr[:, 4:8].astype(np.int), 0)\n",
    "plt.rc('font', family='Malgun Gothic')\n",
    "n = plt.pie( a, labels=df.columns[4:8], autopct='%.1f' )\n",
    "plt.savefig('all_subway_ratio.png')\n",
    "plt.title('전체 승하차 비율')"
   ]
  },
  {
   "cell_type": "code",
   "execution_count": 83,
   "metadata": {},
   "outputs": [
    {
     "data": {
      "text/plain": [
       "array(['May-19', '1호선', 150, '서울역', '1568570', '1489737', '247801',\n",
       "       '242107'], dtype=object)"
      ]
     },
     "execution_count": 83,
     "metadata": {},
     "output_type": "execute_result"
    }
   ],
   "source": [
    "arr[0]"
   ]
  },
  {
   "cell_type": "code",
   "execution_count": 87,
   "metadata": {},
   "outputs": [
    {
     "name": "stdout",
     "output_type": "stream",
     "text": [
      "['May-19' '1호선' 150 '서울역' '1568570' '1489737' '247801' '242107']\n",
      "['May-19' '1호선' 152 '종각' '1204910' '1151371' '176083' '164915']\n",
      "['May-19' '2호선' 202 '을지로입구' '1458984' '1462646' '122625' '113191']\n",
      "['May-19' '2호선' 212 '건대입구' '1378810' '1494957' '105074' '109681']\n",
      "['May-19' '2호선' 214 '강변(동서울터미널)' '1310416' '1289645' '160160' '155742']\n",
      "['May-19' '2호선' 216 '잠실(송파구청)' '2539574' '2462479' '233044' '219947']\n",
      "['May-19' '2호선' 219 '삼성(무역센터)' '1781824' '1842623' '134802' '127716']\n",
      "['May-19' '2호선' 220 '선릉' '1460528' '1300444' '234778' '207100']\n",
      "['May-19' '2호선' 221 '역삼' '1269095' '1438098' '174383' '177850']\n",
      "['May-19' '2호선' 222 '강남' '2894341' '2974378' '192979' '172755']\n",
      "['May-19' '2호선' 226 '사당' '1171893' '1316118' '229867' '219309']\n",
      "['May-19' '2호선' 228 '서울대입구(관악구청)' '1509438' '1455697' '222610' '213945']\n",
      "['May-19' '2호선' 230 '신림' '1996054' '1926203' '266618' '270264']\n",
      "['May-19' '2호선' 232 '구로디지털단지' '1810723' '1808076' '194678' '197938']\n",
      "['May-19' '2호선' 234 '신도림' '1646558' '1650521' '234895' '223466']\n",
      "['May-19' '2호선' 239 '홍대입구' '2477631' '2672677' '122634' '119350']\n",
      "['May-19' '2호선' 240 '신촌' '1391356' '1428011' '152993' '150842']\n",
      "['May-19' '3호선' 311 '연신내' '1062242' '995545' '302867' '293167']\n",
      "['May-19' '3호선' 329 '고속터미널' '1776023' '1683057' '210770' '201605']\n",
      "['May-19' '3호선' 332 '양재(서초구청)' '1101532' '1200669' '182992' '185709']\n",
      "['May-19' '4호선' 414 '수유(강북구청)' '1015680' '1001460' '229974' '229697']\n",
      "['May-19' '4호선' 420 '혜화' '1224744' '1266988' '147378' '146826']\n",
      "['May-19' '4호선' 424 '명동' '1141339' '1230794' '79951' '82312']\n",
      "['May-19' '경부선' 1003 '용산' '1221877' '1257447' '147723' '148189']\n",
      "['May-19' '경부선' 1006 '영등포' '1267511' '1337165' '307864' '307842']\n",
      "['May-19' '경부선' 1713 '수원' '1432034' '1515339' '167727' '177313']\n",
      "['May-19' '경인선' 1804 '부천' '1074037' '1085472' '234614' '238785']\n",
      "['May-19' '경인선' 1806 '부평' '1063996' '1168961' '162125' '167872']\n",
      "['May-19' '5호선' 2534 '광화문(세종문화회관)' '1004496' '1054996' '107144' '104065']\n",
      "['May-19' '7호선' 2748 '가산디지털단지' '1169667' '1170038' '83075' '78382']\n"
     ]
    }
   ],
   "source": [
    "for i in range(len(arr)):\n",
    "    row = arr[i]\n",
    "    승하차인원 = row[4:8]\n",
    "    유임승차 = 승하차인원[0]\n",
    "    if int(유임승차) > 1000000:\n",
    "        print(row)\n",
    "        plt.rc('font', family='Malgun Gothic')\n",
    "        n = plt.pie( row[4:8], labels=df.columns[4:8], autopct='%.1f' )\n",
    "        역이름 = row[3]\n",
    "        파일명 = 'subway_' + 역이름 + '.png'\n",
    "        plt.title(역이름+' 역의 유무임 승차 비율')\n",
    "        plt.savefig(파일명)\n",
    "        plt.close()"
   ]
  },
  {
   "cell_type": "code",
   "execution_count": null,
   "metadata": {},
   "outputs": [],
   "source": []
  },
  {
   "cell_type": "code",
   "execution_count": null,
   "metadata": {},
   "outputs": [],
   "source": []
  }
 ],
 "metadata": {
  "kernelspec": {
   "display_name": "Python 3",
   "language": "python",
   "name": "python3"
  },
  "language_info": {
   "codemirror_mode": {
    "name": "ipython",
    "version": 3
   },
   "file_extension": ".py",
   "mimetype": "text/x-python",
   "name": "python",
   "nbconvert_exporter": "python",
   "pygments_lexer": "ipython3",
   "version": "3.7.3"
  }
 },
 "nbformat": 4,
 "nbformat_minor": 2
}
