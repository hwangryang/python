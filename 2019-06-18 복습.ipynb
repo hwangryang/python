{
 "cells": [
  {
   "cell_type": "markdown",
   "metadata": {},
   "source": [
    "- 단축키 ESC / Enter : 명령모드 / 수정모드\n",
    "- 실행(RUN) : Ctri/Shift/Alt + Enter\n",
    "- 셀 지우기 : x\n",
    "- 코드/마크업 : Y/M\n",
    "- Shift + Tab 함수 설명\n"
   ]
  },
  {
   "cell_type": "markdown",
   "metadata": {},
   "source": [
    "파이썬 특징\n",
    "- 빌드 없이 바로 실행하는 인터프리터, 스크립트"
   ]
  },
  {
   "cell_type": "code",
   "execution_count": 5,
   "metadata": {},
   "outputs": [
    {
     "data": {
      "text/plain": [
       "(4, 3, 1, 1.5, 1, 27)"
      ]
     },
     "execution_count": 5,
     "metadata": {},
     "output_type": "execute_result"
    }
   ],
   "source": [
    "1+3, 1*3, 2-1, 3/2, 3//3, 3**3\n",
    "# // 몫만 정수로, ** 제곱"
   ]
  },
  {
   "cell_type": "code",
   "execution_count": 6,
   "metadata": {},
   "outputs": [
    {
     "data": {
      "text/plain": [
       "False"
      ]
     },
     "execution_count": 6,
     "metadata": {},
     "output_type": "execute_result"
    }
   ],
   "source": [
    "# 논리연산자\n",
    "# 여러줄 주석 \n",
    "True or False\n",
    "not True"
   ]
  },
  {
   "cell_type": "code",
   "execution_count": 7,
   "metadata": {},
   "outputs": [
    {
     "name": "stdout",
     "output_type": "stream",
     "text": [
      "5>3\n"
     ]
    }
   ],
   "source": [
    "#조건문 괄호 없이 사용\n",
    "if 5>3:\n",
    "    print('5>3')"
   ]
  },
  {
   "cell_type": "code",
   "execution_count": 12,
   "metadata": {},
   "outputs": [
    {
     "name": "stdout",
     "output_type": "stream",
     "text": [
      "0\n",
      "1\n",
      "2\n"
     ]
    }
   ],
   "source": [
    "# 반복문\n",
    "for i in range(3):\n",
    "    print(i)"
   ]
  },
  {
   "cell_type": "code",
   "execution_count": 13,
   "metadata": {},
   "outputs": [
    {
     "name": "stdout",
     "output_type": "stream",
     "text": [
      "0.6097391030401694\n",
      "0.22664642069776242\n",
      "0.27615364224504013\n",
      "0.19604971841548735\n",
      "0.7354898011523172\n",
      "0.12231132336456818\n",
      "0.32469180335177994\n",
      "0.0009011888372337795\n"
     ]
    }
   ],
   "source": [
    "# for 지정된 횟수만큼 반복, while 조건을 만족할때까지 반복\n",
    "import random\n",
    "# 0~1 랜던값을 생성하는데 0.1보다 작은 값을 얻겠다 -> while\n",
    "\n",
    "while (True):\n",
    "    v = random.random()\n",
    "    print(v)\n",
    "    if v < 0.1:\n",
    "        break"
   ]
  },
  {
   "cell_type": "code",
   "execution_count": 20,
   "metadata": {},
   "outputs": [
    {
     "name": "stdout",
     "output_type": "stream",
     "text": [
      "0.6\n",
      "7\n",
      "a bb\n"
     ]
    }
   ],
   "source": [
    "# 함수\n",
    "def add(a,b): # 리턴 데이터 타입 필요 없음, 인자 데이터 타입별로 자동 반환\n",
    "    return a+b\n",
    "\n",
    "print(add(0.3,0.3))\n",
    "print(add(3,4))\n",
    "print(add('a ','bb'))"
   ]
  },
  {
   "cell_type": "code",
   "execution_count": 42,
   "metadata": {},
   "outputs": [],
   "source": [
    "# 클래스, 셀 하나에 정의하는게 좋음\n",
    "class Lotto:\n",
    "    def __init__(self,k): # __init(기본값)\n",
    "        nums = [] # 지역변수( 함수 실행 완료되면 사라짐)\n",
    "        self.nums = [] # 클래스 변수( 클래스가 제거되기 전까지 남습니다. )\n",
    "        for i in range(k):\n",
    "            nums.append(random.randint(1,45))\n",
    "        print(nums)"
   ]
  },
  {
   "cell_type": "code",
   "execution_count": 43,
   "metadata": {},
   "outputs": [
    {
     "name": "stdout",
     "output_type": "stream",
     "text": [
      "[29, 34, 40]\n",
      "[28, 40, 4, 24, 24]\n"
     ]
    }
   ],
   "source": [
    "lotto1 = Lotto(3)\n",
    "lotto1 = Lotto(5)"
   ]
  },
  {
   "cell_type": "code",
   "execution_count": 39,
   "metadata": {},
   "outputs": [
    {
     "data": {
      "text/plain": [
       "[]"
      ]
     },
     "execution_count": 39,
     "metadata": {},
     "output_type": "execute_result"
    }
   ],
   "source": [
    "lotto1.nums # 클래스 변수를 .으로 접근해서 사용할수 있습니다."
   ]
  },
  {
   "cell_type": "markdown",
   "metadata": {},
   "source": [
    "# 데이터 타입, \n",
    "- 딕셔너리 {키:값, 키:값...}       : 엑셀의 컬럼 이름:키, 컬림의 값들:값\n",
    "- 리스트 [값, 값, 값...] 수정 가능 : 언제든지 편리하게 데이터를 저장\n",
    "- 튜플 (값, 값, 값) 수정불가능     : 함수에서 값들을 여러개 리턴할때"
   ]
  },
  {
   "cell_type": "code",
   "execution_count": 50,
   "metadata": {},
   "outputs": [
    {
     "data": {
      "text/plain": [
       "({'age': 20, 'city': 'seoul'},\n",
       " [10, 'a', 'city', [1, 2, 3]],\n",
       " (10, 'a', 'city', [1, 2, 3]))"
      ]
     },
     "execution_count": 50,
     "metadata": {},
     "output_type": "execute_result"
    }
   ],
   "source": [
    "d = {'age':20, 'city':'seoul'}\n",
    "l = [10, 'a', 'city', [1,2,3] ]\n",
    "t = (10, 'a', 'city', [1,2,3] )\n",
    "d,l,t"
   ]
  },
  {
   "cell_type": "code",
   "execution_count": 60,
   "metadata": {},
   "outputs": [
    {
     "data": {
      "text/plain": [
       "(10, [1, 2, 3], ['a', 'city'], ['a', 'city', [1, 2, 3]], [10, 'a'])"
      ]
     },
     "execution_count": 60,
     "metadata": {},
     "output_type": "execute_result"
    }
   ],
   "source": [
    "# 인덱스, 인덱싱\n",
    "l[0] , l[-1], l[1:3], l[1:], l[:2]\n",
    "# 0을 인덱스라고 하고 정수여야 합니다.\n",
    "# 인덱스로 값을 꺼내는 것을 인덱싱 한다라고 합니다.\n",
    "# -1 뒤에서 첫번째 위치\n",
    "# l[시작위치 : 끝위치 전까지] [생략:생략]"
   ]
  },
  {
   "cell_type": "code",
   "execution_count": null,
   "metadata": {},
   "outputs": [],
   "source": []
  }
 ],
 "metadata": {
  "kernelspec": {
   "display_name": "Python 3",
   "language": "python",
   "name": "python3"
  },
  "language_info": {
   "codemirror_mode": {
    "name": "ipython",
    "version": 3
   },
   "file_extension": ".py",
   "mimetype": "text/x-python",
   "name": "python",
   "nbconvert_exporter": "python",
   "pygments_lexer": "ipython3",
   "version": "3.7.3"
  }
 },
 "nbformat": 4,
 "nbformat_minor": 2
}
