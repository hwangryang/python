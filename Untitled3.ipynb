{
 "cells": [
  {
   "cell_type": "code",
   "execution_count": 2,
   "metadata": {},
   "outputs": [
    {
     "data": {
      "text/plain": [
       "([1, 2, 3, 4, 5, 6], (1, 2, 3, 4, 5, 6))"
      ]
     },
     "execution_count": 2,
     "metadata": {},
     "output_type": "execute_result"
    }
   ],
   "source": [
    "# List, Dict, Set 연산용으로 사용이 불가능, 메모리 사용량이 크고 느려서\n",
    "# 대규모 데이터를 다룰수 없음\n",
    "\n",
    "[1,2,3]+[4,5,6], (1,2,3)+(4,5,6)"
   ]
  },
  {
   "cell_type": "code",
   "execution_count": 7,
   "metadata": {},
   "outputs": [
    {
     "data": {
      "text/plain": [
       "(array([1, 2, 3, 4, 5, 6, 7, 8, 9]), array([1, 3, 5, 7, 9]))"
      ]
     },
     "execution_count": 7,
     "metadata": {},
     "output_type": "execute_result"
    }
   ],
   "source": [
    "import numpy\n",
    "# 배열만들기\n",
    "# 함수 사용시 Shift+Tab로 설명을 봅니다.\n",
    "numpy.arange(1,10), numpy.arange(1,10, 2)\n"
   ]
  },
  {
   "cell_type": "code",
   "execution_count": 15,
   "metadata": {},
   "outputs": [
    {
     "data": {
      "text/plain": [
       "array([1, 2, 3])"
      ]
     },
     "execution_count": 15,
     "metadata": {},
     "output_type": "execute_result"
    }
   ],
   "source": [
    "# 데이터를 numpy 배열로 변환하면 연산이 됩니다.\n",
    "numpy.array([1,2,3]) + numpy.array([1,2,3])"
   ]
  },
  {
   "cell_type": "markdown",
   "metadata": {},
   "source": [
    "- 야후 파이낸스의 SP500 주식 데이터를 읽습니다.\n",
    "- csv(로우레벨) 혹은 pandas(하이레벨)로 읽을수 있습니다."
   ]
  },
  {
   "cell_type": "code",
   "execution_count": 1,
   "metadata": {},
   "outputs": [],
   "source": [
    "import pandas"
   ]
  },
  {
   "cell_type": "code",
   "execution_count": 3,
   "metadata": {},
   "outputs": [
    {
     "data": {
      "text/plain": [
       "(20, 7)"
      ]
     },
     "execution_count": 3,
     "metadata": {},
     "output_type": "execute_result"
    }
   ],
   "source": [
    "stock = pandas.read_csv('^GSPC.csv')\n",
    "stock.shape"
   ]
  },
  {
   "cell_type": "code",
   "execution_count": 4,
   "metadata": {},
   "outputs": [
    {
     "data": {
      "text/html": [
       "<div>\n",
       "<style scoped>\n",
       "    .dataframe tbody tr th:only-of-type {\n",
       "        vertical-align: middle;\n",
       "    }\n",
       "\n",
       "    .dataframe tbody tr th {\n",
       "        vertical-align: top;\n",
       "    }\n",
       "\n",
       "    .dataframe thead th {\n",
       "        text-align: right;\n",
       "    }\n",
       "</style>\n",
       "<table border=\"1\" class=\"dataframe\">\n",
       "  <thead>\n",
       "    <tr style=\"text-align: right;\">\n",
       "      <th></th>\n",
       "      <th>Date</th>\n",
       "      <th>Open</th>\n",
       "      <th>High</th>\n",
       "      <th>Low</th>\n",
       "      <th>Close</th>\n",
       "      <th>Adj Close</th>\n",
       "      <th>Volume</th>\n",
       "    </tr>\n",
       "  </thead>\n",
       "  <tbody>\n",
       "    <tr>\n",
       "      <th>0</th>\n",
       "      <td>2019-05-20</td>\n",
       "      <td>2841.939941</td>\n",
       "      <td>2853.860107</td>\n",
       "      <td>2831.290039</td>\n",
       "      <td>2840.229980</td>\n",
       "      <td>2840.229980</td>\n",
       "      <td>3288870000</td>\n",
       "    </tr>\n",
       "    <tr>\n",
       "      <th>1</th>\n",
       "      <td>2019-05-21</td>\n",
       "      <td>2854.020020</td>\n",
       "      <td>2868.879883</td>\n",
       "      <td>2854.020020</td>\n",
       "      <td>2864.360107</td>\n",
       "      <td>2864.360107</td>\n",
       "      <td>3218700000</td>\n",
       "    </tr>\n",
       "    <tr>\n",
       "      <th>2</th>\n",
       "      <td>2019-05-22</td>\n",
       "      <td>2856.060059</td>\n",
       "      <td>2865.469971</td>\n",
       "      <td>2851.110107</td>\n",
       "      <td>2856.270020</td>\n",
       "      <td>2856.270020</td>\n",
       "      <td>3192510000</td>\n",
       "    </tr>\n",
       "    <tr>\n",
       "      <th>3</th>\n",
       "      <td>2019-05-23</td>\n",
       "      <td>2836.699951</td>\n",
       "      <td>2836.699951</td>\n",
       "      <td>2805.489990</td>\n",
       "      <td>2822.239990</td>\n",
       "      <td>2822.239990</td>\n",
       "      <td>3891980000</td>\n",
       "    </tr>\n",
       "    <tr>\n",
       "      <th>4</th>\n",
       "      <td>2019-05-24</td>\n",
       "      <td>2832.409912</td>\n",
       "      <td>2841.360107</td>\n",
       "      <td>2820.189941</td>\n",
       "      <td>2826.060059</td>\n",
       "      <td>2826.060059</td>\n",
       "      <td>2887390000</td>\n",
       "    </tr>\n",
       "    <tr>\n",
       "      <th>5</th>\n",
       "      <td>2019-05-28</td>\n",
       "      <td>2830.030029</td>\n",
       "      <td>2840.510010</td>\n",
       "      <td>2801.580078</td>\n",
       "      <td>2802.389893</td>\n",
       "      <td>2802.389893</td>\n",
       "      <td>4121410000</td>\n",
       "    </tr>\n",
       "    <tr>\n",
       "      <th>6</th>\n",
       "      <td>2019-05-29</td>\n",
       "      <td>2790.250000</td>\n",
       "      <td>2792.030029</td>\n",
       "      <td>2766.060059</td>\n",
       "      <td>2783.020020</td>\n",
       "      <td>2783.020020</td>\n",
       "      <td>3700050000</td>\n",
       "    </tr>\n",
       "    <tr>\n",
       "      <th>7</th>\n",
       "      <td>2019-05-30</td>\n",
       "      <td>2786.939941</td>\n",
       "      <td>2799.000000</td>\n",
       "      <td>2776.739990</td>\n",
       "      <td>2788.860107</td>\n",
       "      <td>2788.860107</td>\n",
       "      <td>3273790000</td>\n",
       "    </tr>\n",
       "    <tr>\n",
       "      <th>8</th>\n",
       "      <td>2019-05-31</td>\n",
       "      <td>2766.149902</td>\n",
       "      <td>2768.979980</td>\n",
       "      <td>2750.520020</td>\n",
       "      <td>2752.060059</td>\n",
       "      <td>2752.060059</td>\n",
       "      <td>3981020000</td>\n",
       "    </tr>\n",
       "    <tr>\n",
       "      <th>9</th>\n",
       "      <td>2019-06-03</td>\n",
       "      <td>2751.530029</td>\n",
       "      <td>2763.070068</td>\n",
       "      <td>2728.810059</td>\n",
       "      <td>2744.449951</td>\n",
       "      <td>2744.449951</td>\n",
       "      <td>3943810000</td>\n",
       "    </tr>\n",
       "    <tr>\n",
       "      <th>10</th>\n",
       "      <td>2019-06-04</td>\n",
       "      <td>2762.639893</td>\n",
       "      <td>2804.489990</td>\n",
       "      <td>2762.639893</td>\n",
       "      <td>2803.270020</td>\n",
       "      <td>2803.270020</td>\n",
       "      <td>3810430000</td>\n",
       "    </tr>\n",
       "    <tr>\n",
       "      <th>11</th>\n",
       "      <td>2019-06-05</td>\n",
       "      <td>2818.090088</td>\n",
       "      <td>2827.280029</td>\n",
       "      <td>2800.919922</td>\n",
       "      <td>2826.149902</td>\n",
       "      <td>2826.149902</td>\n",
       "      <td>3548830000</td>\n",
       "    </tr>\n",
       "    <tr>\n",
       "      <th>12</th>\n",
       "      <td>2019-06-06</td>\n",
       "      <td>2828.510010</td>\n",
       "      <td>2852.100098</td>\n",
       "      <td>2822.449951</td>\n",
       "      <td>2843.489990</td>\n",
       "      <td>2843.489990</td>\n",
       "      <td>3396410000</td>\n",
       "    </tr>\n",
       "    <tr>\n",
       "      <th>13</th>\n",
       "      <td>2019-06-07</td>\n",
       "      <td>2852.870117</td>\n",
       "      <td>2884.969971</td>\n",
       "      <td>2852.870117</td>\n",
       "      <td>2873.340088</td>\n",
       "      <td>2873.340088</td>\n",
       "      <td>3220250000</td>\n",
       "    </tr>\n",
       "    <tr>\n",
       "      <th>14</th>\n",
       "      <td>2019-06-10</td>\n",
       "      <td>2885.830078</td>\n",
       "      <td>2904.770020</td>\n",
       "      <td>2885.510010</td>\n",
       "      <td>2886.729980</td>\n",
       "      <td>2886.729980</td>\n",
       "      <td>3209210000</td>\n",
       "    </tr>\n",
       "    <tr>\n",
       "      <th>15</th>\n",
       "      <td>2019-06-11</td>\n",
       "      <td>2903.270020</td>\n",
       "      <td>2910.610107</td>\n",
       "      <td>2878.530029</td>\n",
       "      <td>2885.719971</td>\n",
       "      <td>2885.719971</td>\n",
       "      <td>3548420000</td>\n",
       "    </tr>\n",
       "    <tr>\n",
       "      <th>16</th>\n",
       "      <td>2019-06-12</td>\n",
       "      <td>2882.729980</td>\n",
       "      <td>2888.570068</td>\n",
       "      <td>2874.679932</td>\n",
       "      <td>2879.840088</td>\n",
       "      <td>2879.840088</td>\n",
       "      <td>3034130000</td>\n",
       "    </tr>\n",
       "    <tr>\n",
       "      <th>17</th>\n",
       "      <td>2019-06-13</td>\n",
       "      <td>2886.239990</td>\n",
       "      <td>2895.239990</td>\n",
       "      <td>2881.989990</td>\n",
       "      <td>2891.639893</td>\n",
       "      <td>2891.639893</td>\n",
       "      <td>3069810000</td>\n",
       "    </tr>\n",
       "    <tr>\n",
       "      <th>18</th>\n",
       "      <td>2019-06-14</td>\n",
       "      <td>2886.820068</td>\n",
       "      <td>2894.449951</td>\n",
       "      <td>2879.620117</td>\n",
       "      <td>2886.979980</td>\n",
       "      <td>2886.979980</td>\n",
       "      <td>2922330000</td>\n",
       "    </tr>\n",
       "    <tr>\n",
       "      <th>19</th>\n",
       "      <td>2019-06-17</td>\n",
       "      <td>2889.750000</td>\n",
       "      <td>2897.270020</td>\n",
       "      <td>2887.300049</td>\n",
       "      <td>2889.669922</td>\n",
       "      <td>2889.669922</td>\n",
       "      <td>1579314342</td>\n",
       "    </tr>\n",
       "  </tbody>\n",
       "</table>\n",
       "</div>"
      ],
      "text/plain": [
       "          Date         Open         High          Low        Close  \\\n",
       "0   2019-05-20  2841.939941  2853.860107  2831.290039  2840.229980   \n",
       "1   2019-05-21  2854.020020  2868.879883  2854.020020  2864.360107   \n",
       "2   2019-05-22  2856.060059  2865.469971  2851.110107  2856.270020   \n",
       "3   2019-05-23  2836.699951  2836.699951  2805.489990  2822.239990   \n",
       "4   2019-05-24  2832.409912  2841.360107  2820.189941  2826.060059   \n",
       "5   2019-05-28  2830.030029  2840.510010  2801.580078  2802.389893   \n",
       "6   2019-05-29  2790.250000  2792.030029  2766.060059  2783.020020   \n",
       "7   2019-05-30  2786.939941  2799.000000  2776.739990  2788.860107   \n",
       "8   2019-05-31  2766.149902  2768.979980  2750.520020  2752.060059   \n",
       "9   2019-06-03  2751.530029  2763.070068  2728.810059  2744.449951   \n",
       "10  2019-06-04  2762.639893  2804.489990  2762.639893  2803.270020   \n",
       "11  2019-06-05  2818.090088  2827.280029  2800.919922  2826.149902   \n",
       "12  2019-06-06  2828.510010  2852.100098  2822.449951  2843.489990   \n",
       "13  2019-06-07  2852.870117  2884.969971  2852.870117  2873.340088   \n",
       "14  2019-06-10  2885.830078  2904.770020  2885.510010  2886.729980   \n",
       "15  2019-06-11  2903.270020  2910.610107  2878.530029  2885.719971   \n",
       "16  2019-06-12  2882.729980  2888.570068  2874.679932  2879.840088   \n",
       "17  2019-06-13  2886.239990  2895.239990  2881.989990  2891.639893   \n",
       "18  2019-06-14  2886.820068  2894.449951  2879.620117  2886.979980   \n",
       "19  2019-06-17  2889.750000  2897.270020  2887.300049  2889.669922   \n",
       "\n",
       "      Adj Close      Volume  \n",
       "0   2840.229980  3288870000  \n",
       "1   2864.360107  3218700000  \n",
       "2   2856.270020  3192510000  \n",
       "3   2822.239990  3891980000  \n",
       "4   2826.060059  2887390000  \n",
       "5   2802.389893  4121410000  \n",
       "6   2783.020020  3700050000  \n",
       "7   2788.860107  3273790000  \n",
       "8   2752.060059  3981020000  \n",
       "9   2744.449951  3943810000  \n",
       "10  2803.270020  3810430000  \n",
       "11  2826.149902  3548830000  \n",
       "12  2843.489990  3396410000  \n",
       "13  2873.340088  3220250000  \n",
       "14  2886.729980  3209210000  \n",
       "15  2885.719971  3548420000  \n",
       "16  2879.840088  3034130000  \n",
       "17  2891.639893  3069810000  \n",
       "18  2886.979980  2922330000  \n",
       "19  2889.669922  1579314342  "
      ]
     },
     "execution_count": 4,
     "metadata": {},
     "output_type": "execute_result"
    }
   ],
   "source": [
    "stock"
   ]
  },
  {
   "cell_type": "code",
   "execution_count": 11,
   "metadata": {},
   "outputs": [],
   "source": [
    "arr = numpy.array(stock)   # array 데이터를 배열로 바꾸는 함수, 전처리시 numpy 배열로 만들어야함"
   ]
  },
  {
   "cell_type": "code",
   "execution_count": 17,
   "metadata": {},
   "outputs": [
    {
     "data": {
      "text/plain": [
       "array(['2019-05-20', 2841.939941, 2853.860107, 2831.290039, 2840.22998,\n",
       "       2840.22998, 3288870000], dtype=object)"
      ]
     },
     "execution_count": 17,
     "metadata": {},
     "output_type": "execute_result"
    }
   ],
   "source": [
    "arr[0] # == arr[0, :] # 1행을 출력해라"
   ]
  },
  {
   "cell_type": "code",
   "execution_count": 15,
   "metadata": {},
   "outputs": [
    {
     "data": {
      "text/plain": [
       "'2019-05-20'"
      ]
     },
     "execution_count": 15,
     "metadata": {},
     "output_type": "execute_result"
    }
   ],
   "source": [
    "arr[0,0] #첫번째 행의 첫번째 열"
   ]
  },
  {
   "cell_type": "code",
   "execution_count": 16,
   "metadata": {},
   "outputs": [
    {
     "data": {
      "text/plain": [
       "1579314342"
      ]
     },
     "execution_count": 16,
     "metadata": {},
     "output_type": "execute_result"
    }
   ],
   "source": [
    "arr[-1,-1] # 미자막 행의 마지막 열"
   ]
  },
  {
   "cell_type": "code",
   "execution_count": 23,
   "metadata": {},
   "outputs": [
    {
     "data": {
      "text/plain": [
       "array([2841.939941, 2854.02002, 2856.060059, 2836.699951, 2832.409912,\n",
       "       2830.030029, 2790.25, 2786.939941, 2766.149902, 2751.530029,\n",
       "       2762.639893, 2818.090088, 2828.51001, 2852.8701170000004,\n",
       "       2885.830078, 2903.27002, 2882.72998, 2886.23999, 2886.820068,\n",
       "       2889.75], dtype=object)"
      ]
     },
     "execution_count": 23,
     "metadata": {},
     "output_type": "execute_result"
    }
   ],
   "source": [
    "# open 만 가져와라\n",
    "o = arr[:,1]\n",
    "o"
   ]
  },
  {
   "cell_type": "code",
   "execution_count": 38,
   "metadata": {},
   "outputs": [
    {
     "data": {
      "text/plain": [
       "(2903.27002,\n",
       " 2751.530029,\n",
       " 2903.27002,\n",
       " 2751.530029,\n",
       " 2839.319946,\n",
       " 45.016996538592394)"
      ]
     },
     "execution_count": 38,
     "metadata": {},
     "output_type": "execute_result"
    }
   ],
   "source": [
    "# b(below) 아래 쪽에 셀 만들기\n",
    "# open의 최대갓, 최소값, 평균을 구해보자\n",
    "# Shift + Tab 함수 설명\n",
    "# 통계치, 평균, 중간값, 표준편차\n",
    "max(o), min(o), numpy.max(o), numpy.min(o), numpy.median(o), numpy.std(o)"
   ]
  },
  {
   "cell_type": "code",
   "execution_count": 27,
   "metadata": {},
   "outputs": [
    {
     "name": "stdout",
     "output_type": "stream",
     "text": [
      "[2840.22998 2864.360107 2856.27002 2822.23999 2826.060059 2802.389893\n",
      " 2783.02002 2788.860107 2752.060059 2744.449951 2803.27002 2826.149902\n",
      " 2843.48999 2873.340088 2886.72998 2885.719971 2879.840088 2891.639893\n",
      " 2886.97998 2889.669922]\n",
      " \n",
      "[2840.22998 2864.360107 2856.27002 2822.23999 2826.060059 2802.389893\n",
      " 2783.02002 2788.860107 2752.060059 2744.449951 2803.27002 2826.149902\n",
      " 2843.48999 2873.340088 2886.72998 2885.719971 2879.840088 2891.639893\n",
      " 2886.97998 2889.669922]\n"
     ]
    }
   ],
   "source": [
    "# close\n",
    "c = arr[:,-3]\n",
    "print(c)\n",
    "print(' ')\n",
    "c = arr[:,4]\n",
    "print(c)"
   ]
  },
  {
   "cell_type": "code",
   "execution_count": 47,
   "metadata": {},
   "outputs": [
    {
     "name": "stdout",
     "output_type": "stream",
     "text": [
      "['2019-06-17' 2889.75 2897.27002 2887.300049 2889.669922 2889.669922\n",
      " 1579314342]\n"
     ]
    }
   ],
   "source": [
    "c = arr[-1,:]\n",
    "print(c)\n"
   ]
  },
  {
   "cell_type": "code",
   "execution_count": 40,
   "metadata": {},
   "outputs": [
    {
     "data": {
      "text/plain": [
       "(20, 4)"
      ]
     },
     "execution_count": 40,
     "metadata": {},
     "output_type": "execute_result"
    }
   ],
   "source": [
    "# Open High Low Close 4개의 컬럼을 뽑자\n",
    "v4 = arr[:,1:5]\n",
    "v4.shape"
   ]
  },
  {
   "cell_type": "code",
   "execution_count": 51,
   "metadata": {},
   "outputs": [
    {
     "data": {
      "text/plain": [
       "(array([2903.27002, 2910.610107, 2887.300049, 2891.639893], dtype=object),\n",
       " array([2853.860107, 2868.8798829999996, 2865.469971, 2836.699951,\n",
       "        2841.360107, 2840.51001, 2792.030029, 2799.0, 2768.97998,\n",
       "        2763.070068, 2804.48999, 2827.280029, 2852.100098, 2884.969971,\n",
       "        2904.77002, 2910.610107, 2888.570068, 2895.23999, 2894.449951,\n",
       "        2897.27002], dtype=object))"
      ]
     },
     "execution_count": 51,
     "metadata": {},
     "output_type": "execute_result"
    }
   ],
   "source": [
    "numpy.max(v4, axis=0) , numpy.max(v4, axis=1)\n",
    "# shape 값 (20,4) 중 20에 해당하는 y축에 해당하는 최대값을 뽑음, 최대값은 4개가 나옴\n"
   ]
  },
  {
   "cell_type": "code",
   "execution_count": 54,
   "metadata": {},
   "outputs": [
    {
     "data": {
      "text/plain": [
       "(2903.27002, 15)"
      ]
     },
     "execution_count": 54,
     "metadata": {},
     "output_type": "execute_result"
    }
   ],
   "source": [
    "# argmax, argmin 맥스값의 위치\n",
    "numpy.max(o), numpy.argmax(o) # max값, max값의 위치"
   ]
  },
  {
   "cell_type": "code",
   "execution_count": 79,
   "metadata": {},
   "outputs": [],
   "source": [
    "# 종가 - 시작\n",
    "# close\n",
    "day = arr[:,0]\n",
    "close_v = arr[:,-3]\n",
    "open_v = arr[:, 1]\n",
    "vol = arr[:, -1]\n",
    "gap = close_v- open_v"
   ]
  },
  {
   "cell_type": "code",
   "execution_count": 71,
   "metadata": {},
   "outputs": [
    {
     "data": {
      "text/plain": [
       "(40.6301269999999, 10)"
      ]
     },
     "execution_count": 71,
     "metadata": {},
     "output_type": "execute_result"
    }
   ],
   "source": [
    "numpy.max(gap), numpy.argmax(gap)"
   ]
  },
  {
   "cell_type": "code",
   "execution_count": 72,
   "metadata": {},
   "outputs": [
    {
     "data": {
      "text/plain": [
       "array([-1.7099610000000212, 10.34008700000004, 0.20996100000002116,\n",
       "       -14.459961000000021, -6.3498530000001665, -27.640135999999984,\n",
       "       -7.229980000000069, 1.920165999999881, -14.0898430000002,\n",
       "       -7.080077999999958, 40.6301269999999, 8.059814000000188,\n",
       "       14.979980000000069, 20.469970999999532, 0.899902000000111,\n",
       "       -17.550048999999944, -2.8898920000001453, 5.399902999999995,\n",
       "       0.15991200000007666, -0.08007799999995768], dtype=object)"
      ]
     },
     "execution_count": 72,
     "metadata": {},
     "output_type": "execute_result"
    }
   ],
   "source": [
    "gap # 데이터 형이 바로 맞춰지네??"
   ]
  },
  {
   "cell_type": "markdown",
   "metadata": {},
   "source": [
    "### 데이터 분석(과거 데이터 기준으로 분석)\n",
    "- 가격 상승하는 날 거래량이 많아 질까? "
   ]
  },
  {
   "cell_type": "markdown",
   "metadata": {},
   "source": [
    "### 다음단계 : 예측\n",
    "- 어제/오늘 현황 분석이 끝났는데 내일은 open/close 이 어떻게 될까?\n",
    "- 방법 : 1. 통계적(R), 2, 머신러닝"
   ]
  },
  {
   "cell_type": "code",
   "execution_count": 82,
   "metadata": {},
   "outputs": [
    {
     "data": {
      "text/plain": [
       "(array([3218700000, 3192510000, 3273790000, 3810430000, 3548830000,\n",
       "        3396410000, 3220250000, 3209210000, 3069810000, 2922330000],\n",
       "       dtype=object),\n",
       " array([3288870000, 3891980000, 2887390000, 4121410000, 3700050000,\n",
       "        3981020000, 3943810000, 3548420000, 3034130000, 1579314342],\n",
       "       dtype=object))"
      ]
     },
     "execution_count": 82,
     "metadata": {},
     "output_type": "execute_result"
    }
   ],
   "source": [
    "# 상승한 날의 거래량의 평균\n",
    "gap > 0\n",
    "vol[gap > 0], vol[gap < 0]"
   ]
  },
  {
   "cell_type": "code",
   "execution_count": null,
   "metadata": {},
   "outputs": [],
   "source": []
  },
  {
   "cell_type": "code",
   "execution_count": null,
   "metadata": {},
   "outputs": [],
   "source": []
  }
 ],
 "metadata": {
  "kernelspec": {
   "display_name": "Python 3",
   "language": "python",
   "name": "python3"
  },
  "language_info": {
   "codemirror_mode": {
    "name": "ipython",
    "version": 3
   },
   "file_extension": ".py",
   "mimetype": "text/x-python",
   "name": "python",
   "nbconvert_exporter": "python",
   "pygments_lexer": "ipython3",
   "version": "3.7.3"
  }
 },
 "nbformat": 4,
 "nbformat_minor": 2
}
