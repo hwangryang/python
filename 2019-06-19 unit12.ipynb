{
 "cells": [
  {
   "cell_type": "code",
   "execution_count": 10,
   "metadata": {},
   "outputs": [],
   "source": [
    "import numpy as np\n",
    "import pandas as pd\n",
    "import matplotlib.pyplot as plt"
   ]
  },
  {
   "cell_type": "code",
   "execution_count": 11,
   "metadata": {},
   "outputs": [
    {
     "data": {
      "text/plain": [
       "(598, 53)"
      ]
     },
     "execution_count": 11,
     "metadata": {},
     "output_type": "execute_result"
    }
   ],
   "source": [
    "df = pd.read_excel('2019년 05월  교통카드 통계자료.xls', \n",
    "                 sheet_name=3, encoding='cp949', skiprows)\n",
    "df.shape"
   ]
  },
  {
   "cell_type": "code",
   "execution_count": 12,
   "metadata": {},
   "outputs": [],
   "source": [
    "df0=df.drop(0)"
   ]
  },
  {
   "cell_type": "code",
   "execution_count": 13,
   "metadata": {},
   "outputs": [
    {
     "data": {
      "text/html": [
       "<div>\n",
       "<style scoped>\n",
       "    .dataframe tbody tr th:only-of-type {\n",
       "        vertical-align: middle;\n",
       "    }\n",
       "\n",
       "    .dataframe tbody tr th {\n",
       "        vertical-align: top;\n",
       "    }\n",
       "\n",
       "    .dataframe thead th {\n",
       "        text-align: right;\n",
       "    }\n",
       "</style>\n",
       "<table border=\"1\" class=\"dataframe\">\n",
       "  <thead>\n",
       "    <tr style=\"text-align: right;\">\n",
       "      <th></th>\n",
       "      <th>사용월</th>\n",
       "      <th>호선명</th>\n",
       "      <th>역ID</th>\n",
       "      <th>지하철역</th>\n",
       "      <th>04:00:00~04:59:59</th>\n",
       "      <th>Unnamed: 5</th>\n",
       "      <th>05:00:00~05:59:59</th>\n",
       "      <th>Unnamed: 7</th>\n",
       "      <th>06:00:00~06:59:59</th>\n",
       "      <th>Unnamed: 9</th>\n",
       "      <th>...</th>\n",
       "      <th>Unnamed: 43</th>\n",
       "      <th>00:00:00~00:59:59</th>\n",
       "      <th>Unnamed: 45</th>\n",
       "      <th>01:00:00~01:59:59</th>\n",
       "      <th>Unnamed: 47</th>\n",
       "      <th>02:00:00~02:59:59</th>\n",
       "      <th>Unnamed: 49</th>\n",
       "      <th>03:00:00~03:59:59</th>\n",
       "      <th>Unnamed: 51</th>\n",
       "      <th>작업일시</th>\n",
       "    </tr>\n",
       "  </thead>\n",
       "  <tbody>\n",
       "    <tr>\n",
       "      <th>1</th>\n",
       "      <td>2019-05</td>\n",
       "      <td>1호선</td>\n",
       "      <td>150.0</td>\n",
       "      <td>서울역</td>\n",
       "      <td>1,148</td>\n",
       "      <td>21</td>\n",
       "      <td>11,958</td>\n",
       "      <td>10,579</td>\n",
       "      <td>15,684</td>\n",
       "      <td>61,286</td>\n",
       "      <td>...</td>\n",
       "      <td>22,083</td>\n",
       "      <td>4,127</td>\n",
       "      <td>7,762</td>\n",
       "      <td>3</td>\n",
       "      <td>548</td>\n",
       "      <td>0</td>\n",
       "      <td>0</td>\n",
       "      <td>0</td>\n",
       "      <td>0</td>\n",
       "      <td>2019-06-03 10:56:25</td>\n",
       "    </tr>\n",
       "    <tr>\n",
       "      <th>2</th>\n",
       "      <td>2019-05</td>\n",
       "      <td>1호선</td>\n",
       "      <td>151.0</td>\n",
       "      <td>시청</td>\n",
       "      <td>89</td>\n",
       "      <td>5</td>\n",
       "      <td>2,843</td>\n",
       "      <td>4,674</td>\n",
       "      <td>4,169</td>\n",
       "      <td>24,963</td>\n",
       "      <td>...</td>\n",
       "      <td>4,767</td>\n",
       "      <td>931</td>\n",
       "      <td>1,426</td>\n",
       "      <td>1</td>\n",
       "      <td>25</td>\n",
       "      <td>0</td>\n",
       "      <td>0</td>\n",
       "      <td>0</td>\n",
       "      <td>0</td>\n",
       "      <td>2019-06-03 10:56:25</td>\n",
       "    </tr>\n",
       "  </tbody>\n",
       "</table>\n",
       "<p>2 rows × 53 columns</p>\n",
       "</div>"
      ],
      "text/plain": [
       "       사용월  호선명    역ID 지하철역 04:00:00~04:59:59 Unnamed: 5 05:00:00~05:59:59  \\\n",
       "1  2019-05  1호선  150.0  서울역             1,148         21            11,958   \n",
       "2  2019-05  1호선  151.0   시청                89          5             2,843   \n",
       "\n",
       "  Unnamed: 7 06:00:00~06:59:59 Unnamed: 9  ... Unnamed: 43 00:00:00~00:59:59  \\\n",
       "1     10,579            15,684     61,286  ...      22,083             4,127   \n",
       "2      4,674             4,169     24,963  ...       4,767               931   \n",
       "\n",
       "  Unnamed: 45 01:00:00~01:59:59 Unnamed: 47 02:00:00~02:59:59 Unnamed: 49  \\\n",
       "1       7,762                 3         548                 0           0   \n",
       "2       1,426                 1          25                 0           0   \n",
       "\n",
       "  03:00:00~03:59:59 Unnamed: 51                 작업일시  \n",
       "1                 0           0  2019-06-03 10:56:25  \n",
       "2                 0           0  2019-06-03 10:56:25  \n",
       "\n",
       "[2 rows x 53 columns]"
      ]
     },
     "execution_count": 13,
     "metadata": {},
     "output_type": "execute_result"
    }
   ],
   "source": [
    "df0.head(2)"
   ]
  },
  {
   "cell_type": "markdown",
   "metadata": {},
   "source": [
    "출근 시간대 / 에 사람들이 가장 많이타고 내리는 역 / 은 어딜까\n",
    "- 출근 시간대는 언제인가? : 새벽~오전9시\n",
    "- 타는 역/ 내리는 역 : 정렬해서 큰수 10개를 자름(mask로 조건부 검색) sum?\n",
    "- 상위 10개 역"
   ]
  },
  {
   "cell_type": "code",
   "execution_count": 71,
   "metadata": {},
   "outputs": [],
   "source": [
    "출근시간시작위치 = -11\n",
    "df = df.replace(',', '', regex=True)\n",
    "df=df.dropna() # 누락값이 있는 행은 버린다\n",
    "df.head(3)\n",
    "arr = np.array(df)\n",
    "역이름 = arr[:,3]\n",
    "역별승차인원 = arr[:, 출근시간시작위치].astype(np.int)\n",
    "#역별승차인원\n",
    "#x=np.sum(arr[:, 4:13].astype(np.int), 1)"
   ]
  },
  {
   "cell_type": "code",
   "execution_count": 79,
   "metadata": {},
   "outputs": [
    {
     "data": {
      "text/plain": [
       "42696"
      ]
     },
     "execution_count": 79,
     "metadata": {},
     "output_type": "execute_result"
    }
   ],
   "source": [
    "k=10\n",
    "hold = np.sort(역별승차인원)[-k]\n",
    "hold"
   ]
  },
  {
   "cell_type": "code",
   "execution_count": 84,
   "metadata": {},
   "outputs": [
    {
     "data": {
      "text/plain": [
       "(array([ 48067,  78429,  48786, 128937,  50264,  42696, 151504,  74678,\n",
       "         55240,  43998]),\n",
       " array(['종각', '건대입구', '잠실(송파구청)', '강남', '사당', '합정', '홍대입구', '신촌', '혜화',\n",
       "        '명동'], dtype=object))"
      ]
     },
     "execution_count": 84,
     "metadata": {},
     "output_type": "execute_result"
    }
   ],
   "source": [
    "mask = 역별승차인원 >= hold \n",
    "역별승차인원[mask], 역이름[mask]"
   ]
  },
  {
   "cell_type": "code",
   "execution_count": 85,
   "metadata": {},
   "outputs": [
    {
     "data": {
      "image/png": "[encoded data removed]",
      "text/plain": [
       "<Figure size 432x288 with 1 Axes>"
      ]
     },
     "metadata": {
      "needs_background": "light"
     },
     "output_type": "display_data"
    }
   ],
   "source": [
    "m = plt.rc('font', family='Malgun Gothic')\n",
    "m = plt.barh(역이름[mask], 역별승차인원[mask])"
   ]
  },
  {
   "cell_type": "code",
   "execution_count": 88,
   "metadata": {},
   "outputs": [
    {
     "data": {
      "image/png": "[encoded data removed]",
      "text/plain": [
       "<Figure size 432x288 with 1 Axes>"
      ]
     },
     "metadata": {
      "needs_background": "light"
     },
     "output_type": "display_data"
    }
   ],
   "source": [
    "m = plt.plot(np.sort(역별승차인원))"
   ]
  },
  {
   "cell_type": "code",
   "execution_count": 90,
   "metadata": {},
   "outputs": [
    {
     "data": {
      "text/plain": [
       "<BarContainer object of 2 artists>"
      ]
     },
     "execution_count": 90,
     "metadata": {},
     "output_type": "execute_result"
    },
    {
     "data": {
      "image/png": "[encoded data removed]",
      "text/plain": [
       "<Figure size 432x288 with 1 Axes>"
      ]
     },
     "metadata": {
      "needs_background": "light"
     },
     "output_type": "display_data"
    }
   ],
   "source": [
    "plt.rc('font', family='Malgun Gothic')\n",
    "plt.barh(['서울역','강남역'], [100, 200])\n",
    "plt.barh(['서울역','강남역'], [10, 20])"
   ]
  },
  {
   "cell_type": "code",
   "execution_count": null,
   "metadata": {},
   "outputs": [],
   "source": [
    "# 18 , 11시 가장 많이 타는"
   ]
  }
 ],
 "metadata": {
  "kernelspec": {
   "display_name": "Python 3",
   "language": "python",
   "name": "python3"
  },
  "language_info": {
   "codemirror_mode": {
    "name": "ipython",
    "version": 3
   },
   "file_extension": ".py",
   "mimetype": "text/x-python",
   "name": "python",
   "nbconvert_exporter": "python",
   "pygments_lexer": "ipython3",
   "version": "3.7.3"
  }
 },
 "nbformat": 4,
 "nbformat_minor": 2
}
