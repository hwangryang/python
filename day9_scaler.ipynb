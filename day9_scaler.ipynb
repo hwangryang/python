{
 "cells": [
  {
   "cell_type": "markdown",
   "metadata": {},
   "source": [
    "Scaler : 신경망, SVM은 데이터 스케일에 민감\n",
    "-> 데이터를 머신러닝 하기 좋은 분포로 변환시킴\n",
    "       : Tree 는 스케일 무관\n",
    "\n",
    "값의 분포를 조절"
   ]
  },
  {
   "cell_type": "code",
   "execution_count": 21,
   "metadata": {},
   "outputs": [],
   "source": [
    "import numpy as np\n",
    "import matplotlib.pyplot as plt"
   ]
  },
  {
   "cell_type": "code",
   "execution_count": 37,
   "metadata": {},
   "outputs": [
    {
     "data": {
      "text/plain": [
       "(100, 2)"
      ]
     },
     "execution_count": 37,
     "metadata": {},
     "output_type": "execute_result"
    }
   ],
   "source": [
    "x = np.random.randint(0, 10, (100, 2)).astype(np.float32)\n",
    "x.shape"
   ]
  },
  {
   "cell_type": "code",
   "execution_count": 46,
   "metadata": {},
   "outputs": [],
   "source": [
    "from sklearn.preprocessing import MinMaxScaler,StandardScaler, RobustScaler, Normalizer\n",
    "s0 = MinMaxScaler().fit(x)# 최소값 최대값 계산해서 기억해 둔다\n",
    "x0 = s0.transform(x)  # 기억해둔 최소값 최대값으로 정규화한다.\n",
    "s1 = StandardScaler().fit(x) # 평균, 표준편차를 계산해둔다\n",
    "x1 = s1.transform(x)\n",
    "\n",
    "s2 = RobustScaler().fit(x) # 평균, 표준편차를 계산해둔다\n",
    "x2 = s2.transform(x)\n",
    "\n",
    "s3 = Normalizer().fit(x) # 평균, 표준편차를 계산해둔다\n",
    "x3 = s3.transform(x)\n"
   ]
  },
  {
   "cell_type": "code",
   "execution_count": 47,
   "metadata": {},
   "outputs": [
    {
     "data": {
      "text/plain": [
       "<matplotlib.collections.PathCollection at 0x224d29ef5c0>"
      ]
     },
     "execution_count": 47,
     "metadata": {},
     "output_type": "execute_result"
    },
    {
     "data": {
      "image/png": "[encoded data removed]",
      "text/plain": [
       "<Figure size 432x288 with 1 Axes>"
      ]
     },
     "metadata": {
      "needs_background": "light"
     },
     "output_type": "display_data"
    }
   ],
   "source": [
    "plt.scatter(x[:,0], x[:,1])\n",
    "plt.scatter(x0[:,0], x0[:,1])\n",
    "plt.scatter(x1[:,0], x1[:,1])\n",
    "plt.scatter(x2[:,0], x2[:,1])\n",
    "plt.scatter(x3[:,0], x3[:,1])\n"
   ]
  },
  {
   "cell_type": "code",
   "execution_count": 49,
   "metadata": {},
   "outputs": [
    {
     "data": {
      "text/plain": [
       "array([[7., 3.],\n",
       "       [5., 1.],\n",
       "       [7., 9.],\n",
       "       [2., 6.],\n",
       "       [5., 4.],\n",
       "       [0., 1.],\n",
       "       [6., 0.],\n",
       "       [7., 4.],\n",
       "       [1., 4.],\n",
       "       [6., 9.],\n",
       "       [4., 3.],\n",
       "       [1., 8.],\n",
       "       [2., 5.],\n",
       "       [9., 3.],\n",
       "       [6., 5.],\n",
       "       [8., 3.],\n",
       "       [7., 6.],\n",
       "       [3., 2.],\n",
       "       [0., 4.],\n",
       "       [0., 2.],\n",
       "       [9., 8.],\n",
       "       [6., 6.],\n",
       "       [4., 1.],\n",
       "       [3., 8.],\n",
       "       [3., 5.],\n",
       "       [9., 9.],\n",
       "       [0., 4.],\n",
       "       [0., 5.],\n",
       "       [3., 7.],\n",
       "       [1., 8.],\n",
       "       [8., 3.],\n",
       "       [6., 1.],\n",
       "       [6., 2.],\n",
       "       [2., 4.],\n",
       "       [8., 1.],\n",
       "       [9., 6.],\n",
       "       [1., 3.],\n",
       "       [7., 2.],\n",
       "       [6., 9.],\n",
       "       [0., 3.],\n",
       "       [4., 2.],\n",
       "       [0., 1.],\n",
       "       [4., 3.],\n",
       "       [9., 3.],\n",
       "       [3., 0.],\n",
       "       [1., 8.],\n",
       "       [8., 7.],\n",
       "       [8., 3.],\n",
       "       [6., 1.],\n",
       "       [5., 3.],\n",
       "       [3., 8.],\n",
       "       [9., 1.],\n",
       "       [5., 3.],\n",
       "       [1., 3.],\n",
       "       [1., 2.],\n",
       "       [0., 2.],\n",
       "       [1., 2.],\n",
       "       [1., 3.],\n",
       "       [1., 5.],\n",
       "       [6., 8.],\n",
       "       [3., 3.],\n",
       "       [7., 9.],\n",
       "       [6., 9.],\n",
       "       [0., 5.],\n",
       "       [1., 9.],\n",
       "       [5., 5.],\n",
       "       [5., 9.],\n",
       "       [0., 9.],\n",
       "       [5., 3.],\n",
       "       [2., 0.],\n",
       "       [7., 6.],\n",
       "       [3., 5.],\n",
       "       [9., 9.],\n",
       "       [6., 2.],\n",
       "       [3., 7.],\n",
       "       [1., 4.],\n",
       "       [3., 4.],\n",
       "       [0., 1.],\n",
       "       [2., 0.],\n",
       "       [3., 4.],\n",
       "       [5., 1.],\n",
       "       [5., 4.],\n",
       "       [0., 8.],\n",
       "       [5., 9.],\n",
       "       [3., 5.],\n",
       "       [1., 9.],\n",
       "       [5., 2.],\n",
       "       [4., 3.],\n",
       "       [4., 1.],\n",
       "       [4., 6.],\n",
       "       [1., 1.],\n",
       "       [1., 2.],\n",
       "       [7., 7.],\n",
       "       [5., 9.],\n",
       "       [8., 8.],\n",
       "       [9., 3.],\n",
       "       [8., 7.],\n",
       "       [4., 3.],\n",
       "       [9., 1.],\n",
       "       [4., 3.]], dtype=float32)"
      ]
     },
     "execution_count": 49,
     "metadata": {},
     "output_type": "execute_result"
    }
   ],
   "source": [
    "s0.inverse_transform(x0) #기존 형태로 원복"
   ]
  },
  {
   "cell_type": "code",
   "execution_count": 53,
   "metadata": {},
   "outputs": [],
   "source": [
    "from sklearn.datasets import load_breast_cancer\n",
    "# 유방암 데이터를 2차원으로 주성분을 뽑아서 그래프로 표현합니다.\n",
    "from sklearn.preprocessing import StandardScaler\n",
    "from sklearn.decomposition import PCA"
   ]
  },
  {
   "cell_type": "code",
   "execution_count": 51,
   "metadata": {},
   "outputs": [
    {
     "data": {
      "text/plain": [
       "(569, 30)"
      ]
     },
     "execution_count": 51,
     "metadata": {},
     "output_type": "execute_result"
    }
   ],
   "source": [
    "cancer = load_breast_cancer()\n",
    "cancer.data.shape # 30차원"
   ]
  },
  {
   "cell_type": "code",
   "execution_count": 58,
   "metadata": {},
   "outputs": [],
   "source": [
    "scaler = StandardScaler().fit(cancer.data)\n",
    "# 평균과 표준편차를 계산해줌 (30개)"
   ]
  },
  {
   "cell_type": "code",
   "execution_count": 61,
   "metadata": {},
   "outputs": [
    {
     "data": {
      "text/plain": [
       "(4254.0, 12.072680399588076, (569, 30))"
      ]
     },
     "execution_count": 61,
     "metadata": {},
     "output_type": "execute_result"
    }
   ],
   "source": [
    "x = scaler.transform(cancer.data) \n",
    "np.max(cancer.data), np.max(x) , x.shape #확인"
   ]
  },
  {
   "cell_type": "code",
   "execution_count": 69,
   "metadata": {},
   "outputs": [],
   "source": [
    "pca = PCA(2).fit(x) #30차원을 2차원으로 축속"
   ]
  },
  {
   "cell_type": "code",
   "execution_count": 70,
   "metadata": {},
   "outputs": [
    {
     "data": {
      "text/plain": [
       "(569, 2)"
      ]
     },
     "execution_count": 70,
     "metadata": {},
     "output_type": "execute_result"
    }
   ],
   "source": [
    "x_pca = pca.transform(x)\n",
    "x_pca.shape"
   ]
  },
  {
   "cell_type": "code",
   "execution_count": 75,
   "metadata": {},
   "outputs": [
    {
     "data": {
      "image/png": "[encoded data removed]",
      "text/plain": [
       "<Figure size 432x288 with 1 Axes>"
      ]
     },
     "metadata": {
      "needs_background": "light"
     },
     "output_type": "display_data"
    }
   ],
   "source": [
    "import mglearn\n",
    "t = mglearn.discrete_scatter(x_pca[:,0], x_pca[:,1], cancer.target)\n"
   ]
  },
  {
   "cell_type": "code",
   "execution_count": null,
   "metadata": {},
   "outputs": [],
   "source": []
  },
  {
   "cell_type": "code",
   "execution_count": null,
   "metadata": {},
   "outputs": [],
   "source": []
  },
  {
   "cell_type": "code",
   "execution_count": null,
   "metadata": {},
   "outputs": [],
   "source": []
  },
  {
   "cell_type": "code",
   "execution_count": null,
   "metadata": {},
   "outputs": [],
   "source": []
  },
  {
   "cell_type": "code",
   "execution_count": null,
   "metadata": {},
   "outputs": [],
   "source": []
  }
 ],
 "metadata": {
  "kernelspec": {
   "display_name": "Python 3",
   "language": "python",
   "name": "python3"
  },
  "language_info": {
   "codemirror_mode": {
    "name": "ipython",
    "version": 3
   },
   "file_extension": ".py",
   "mimetype": "text/x-python",
   "name": "python",
   "nbconvert_exporter": "python",
   "pygments_lexer": "ipython3",
   "version": "3.7.3"
  }
 },
 "nbformat": 4,
 "nbformat_minor": 2
}
