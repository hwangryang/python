{
 "cells": [
  {
   "cell_type": "code",
   "execution_count": 2,
   "metadata": {},
   "outputs": [
    {
     "data": {
      "text/plain": [
       "([1, 2, 3, 4, 5, 6], (1, 2, 3, 4, 5, 6))"
      ]
     },
     "execution_count": 2,
     "metadata": {},
     "output_type": "execute_result"
    }
   ],
   "source": [
    "# List, Dict, Set 연산용으로 사용이 불가능, 메모리 사용량이 크고 느려서\n",
    "# 대규모 데이터를 다룰수 없음\n",
    "\n",
    "[1,2,3]+[4,5,6], (1,2,3)+(4,5,6)"
   ]
  },
  {
   "cell_type": "code",
   "execution_count": 7,
   "metadata": {},
   "outputs": [
    {
     "data": {
      "text/plain": [
       "(array([1, 2, 3, 4, 5, 6, 7, 8, 9]), array([1, 3, 5, 7, 9]))"
      ]
     },
     "execution_count": 7,
     "metadata": {},
     "output_type": "execute_result"
    }
   ],
   "source": [
    "import numpy\n",
    "# 배열만들기\n",
    "# 함수 사용시 Shift+Tab로 설명을 봅니다.\n",
    "numpy.arange(1,10), numpy.arange(1,10, 2)\n"
   ]
  },
  {
   "cell_type": "code",
   "execution_count": 15,
   "metadata": {},
   "outputs": [
    {
     "data": {
      "text/plain": [
       "array([1, 2, 3])"
      ]
     },
     "execution_count": 15,
     "metadata": {},
     "output_type": "execute_result"
    }
   ],
   "source": [
    "# 데이터를 numpy 배열로 변환하면 연산이 됩니다.\n",
    "numpy.array([1,2,3]) + numpy.array([1,2,3])"
   ]
  },
  {
   "cell_type": "markdown",
   "metadata": {},
   "source": [
    "- 야후 파이낸스의 SP500 주식 데이터를 읽습니다.\n",
    "- csv(로우레벨) 혹은 pandas(하이레벨)로 읽을수 있습니다."
   ]
  },
  {
   "cell_type": "code",
   "execution_count": 1,
   "metadata": {},
   "outputs": [],
   "source": [
    "import pandas"
   ]
  },
  {
   "cell_type": "code",
   "execution_count": 3,
   "metadata": {},
   "outputs": [
    {
     "data": {
      "text/plain": [
       "(20, 7)"
      ]
     },
     "execution_count": 3,
     "metadata": {},
     "output_type": "execute_result"
    }
   ],
   "source": [
    "stock = pandas.read_csv('^GSPC.csv')\n",
    "stock.shape"
   ]
  },
  {
   "cell_type": "code",
   "execution_count": 4,
   "metadata": {},
   "outputs": [
    {
     "data": {
      "text/html": [
       "<div>\n",
       "<style scoped>\n",
       "    .dataframe tbody tr th:only-of-type {\n",
       "        vertical-align: middle;\n",
       "    }\n",
       "\n",
       "    .dataframe tbody tr th {\n",
       "        vertical-align: top;\n",
       "    }\n",
       "\n",
       "    .dataframe thead th {\n",
       "        text-align: right;\n",
       "    }\n",
       "</style>\n",
       "<table border=\"1\" class=\"dataframe\">\n",
       "  <thead>\n",
       "    <tr style=\"text-align: right;\">\n",
       "      <th></th>\n",
       "      <th>Date</th>\n",
       "      <th>Open</th>\n",
       "      <th>High</th>\n",
       "      <th>Low</th>\n",
       "      <th>Close</th>\n",
       "      <th>Adj Close</th>\n",
       "      <th>Volume</th>\n",
       "    </tr>\n",
       "  </thead>\n",
       "  <tbody>\n",
       "    <tr>\n",
       "      <th>0</th>\n",
       "      <td>2019-05-20</td>\n",
       "      <td>2841.939941</td>\n",
       "      <td>2853.860107</td>\n",
       "      <td>2831.290039</td>\n",
       "      <td>2840.229980</td>\n",
       "      <td>2840.229980</td>\n",
       "      <td>3288870000</td>\n",
       "    </tr>\n",
       "    <tr>\n",
       "      <th>1</th>\n",
       "      <td>2019-05-21</td>\n",
       "      <td>2854.020020</td>\n",
       "      <td>2868.879883</td>\n",
       "      <td>2854.020020</td>\n",
       "      <td>2864.360107</td>\n",
       "      <td>2864.360107</td>\n",
       "      <td>3218700000</td>\n",
       "    </tr>\n",
       "    <tr>\n",
       "      <th>2</th>\n",
       "      <td>2019-05-22</td>\n",
       "      <td>2856.060059</td>\n",
       "      <td>2865.469971</td>\n",
       "      <td>2851.110107</td>\n",
       "      <td>2856.270020</td>\n",
       "      <td>2856.270020</td>\n",
       "      <td>3192510000</td>\n",
       "    </tr>\n",
       "    <tr>\n",
       "      <th>3</th>\n",
       "      <td>2019-05-23</td>\n",
       "      <td>2836.699951</td>\n",
       "      <td>2836.699951</td>\n",
       "      <td>2805.489990</td>\n",
       "      <td>2822.239990</td>\n",
       "      <td>2822.239990</td>\n",
       "      <td>3891980000</td>\n",
       "    </tr>\n",
       "    <tr>\n",
       "      <th>4</th>\n",
       "      <td>2019-05-24</td>\n",
       "      <td>2832.409912</td>\n",
       "      <td>2841.360107</td>\n",
       "      <td>2820.189941</td>\n",
       "      <td>2826.060059</td>\n",
       "      <td>2826.060059</td>\n",
       "      <td>2887390000</td>\n",
       "    </tr>\n",
       "    <tr>\n",
       "      <th>5</th>\n",
       "      <td>2019-05-28</td>\n",
       "      <td>2830.030029</td>\n",
       "      <td>2840.510010</td>\n",
       "      <td>2801.580078</td>\n",
       "      <td>2802.389893</td>\n",
       "      <td>2802.389893</td>\n",
       "      <td>4121410000</td>\n",
       "    </tr>\n",
       "    <tr>\n",
       "      <th>6</th>\n",
       "      <td>2019-05-29</td>\n",
       "      <td>2790.250000</td>\n",
       "      <td>2792.030029</td>\n",
       "      <td>2766.060059</td>\n",
       "      <td>2783.020020</td>\n",
       "      <td>2783.020020</td>\n",
       "      <td>3700050000</td>\n",
       "    </tr>\n",
       "    <tr>\n",
       "      <th>7</th>\n",
       "      <td>2019-05-30</td>\n",
       "      <td>2786.939941</td>\n",
       "      <td>2799.000000</td>\n",
       "      <td>2776.739990</td>\n",
       "      <td>2788.860107</td>\n",
       "      <td>2788.860107</td>\n",
       "      <td>3273790000</td>\n",
       "    </tr>\n",
       "    <tr>\n",
       "      <th>8</th>\n",
       "      <td>2019-05-31</td>\n",
       "      <td>2766.149902</td>\n",
       "      <td>2768.979980</td>\n",
       "      <td>2750.520020</td>\n",
       "      <td>2752.060059</td>\n",
       "      <td>2752.060059</td>\n",
       "      <td>3981020000</td>\n",
       "    </tr>\n",
       "    <tr>\n",
       "      <th>9</th>\n",
       "      <td>2019-06-03</td>\n",
       "      <td>2751.530029</td>\n",
       "      <td>2763.070068</td>\n",
       "      <td>2728.810059</td>\n",
       "      <td>2744.449951</td>\n",
       "      <td>2744.449951</td>\n",
       "      <td>3943810000</td>\n",
       "    </tr>\n",
       "    <tr>\n",
       "      <th>10</th>\n",
       "      <td>2019-06-04</td>\n",
       "      <td>2762.639893</td>\n",
       "      <td>2804.489990</td>\n",
       "      <td>2762.639893</td>\n",
       "      <td>2803.270020</td>\n",
       "      <td>2803.270020</td>\n",
       "      <td>3810430000</td>\n",
       "    </tr>\n",
       "    <tr>\n",
       "      <th>11</th>\n",
       "      <td>2019-06-05</td>\n",
       "      <td>2818.090088</td>\n",
       "      <td>2827.280029</td>\n",
       "      <td>2800.919922</td>\n",
       "      <td>2826.149902</td>\n",
       "      <td>2826.149902</td>\n",
       "      <td>3548830000</td>\n",
       "    </tr>\n",
       "    <tr>\n",
       "      <th>12</th>\n",
       "      <td>2019-06-06</td>\n",
       "      <td>2828.510010</td>\n",
       "      <td>2852.100098</td>\n",
       "      <td>2822.449951</td>\n",
       "      <td>2843.489990</td>\n",
       "      <td>2843.489990</td>\n",
       "      <td>3396410000</td>\n",
       "    </tr>\n",
       "    <tr>\n",
       "      <th>13</th>\n",
       "      <td>2019-06-07</td>\n",
       "      <td>2852.870117</td>\n",
       "      <td>2884.969971</td>\n",
       "      <td>2852.870117</td>\n",
       "      <td>2873.340088</td>\n",
       "      <td>2873.340088</td>\n",
       "      <td>3220250000</td>\n",
       "    </tr>\n",
       "    <tr>\n",
       "      <th>14</th>\n",
       "      <td>2019-06-10</td>\n",
       "      <td>2885.830078</td>\n",
       "      <td>2904.770020</td>\n",
       "      <td>2885.510010</td>\n",
       "      <td>2886.729980</td>\n",
       "      <td>2886.729980</td>\n",
       "      <td>3209210000</td>\n",
       "    </tr>\n",
       "    <tr>\n",
       "      <th>15</th>\n",
       "      <td>2019-06-11</td>\n",
       "      <td>2903.270020</td>\n",
       "      <td>2910.610107</td>\n",
       "      <td>2878.530029</td>\n",
       "      <td>2885.719971</td>\n",
       "      <td>2885.719971</td>\n",
       "      <td>3548420000</td>\n",
       "    </tr>\n",
       "    <tr>\n",
       "      <th>16</th>\n",
       "      <td>2019-06-12</td>\n",
       "      <td>2882.729980</td>\n",
       "      <td>2888.570068</td>\n",
       "      <td>2874.679932</td>\n",
       "      <td>2879.840088</td>\n",
       "      <td>2879.840088</td>\n",
       "      <td>3034130000</td>\n",
       "    </tr>\n",
       "    <tr>\n",
       "      <th>17</th>\n",
       "      <td>2019-06-13</td>\n",
       "      <td>2886.239990</td>\n",
       "      <td>2895.239990</td>\n",
       "      <td>2881.989990</td>\n",
       "      <td>2891.639893</td>\n",
       "      <td>2891.639893</td>\n",
       "      <td>3069810000</td>\n",
       "    </tr>\n",
       "    <tr>\n",
       "      <th>18</th>\n",
       "      <td>2019-06-14</td>\n",
       "      <td>2886.820068</td>\n",
       "      <td>2894.449951</td>\n",
       "      <td>2879.620117</td>\n",
       "      <td>2886.979980</td>\n",
       "      <td>2886.979980</td>\n",
       "      <td>2922330000</td>\n",
       "    </tr>\n",
       "    <tr>\n",
       "      <th>19</th>\n",
       "      <td>2019-06-17</td>\n",
       "      <td>2889.750000</td>\n",
       "      <td>2897.270020</td>\n",
       "      <td>2887.300049</td>\n",
       "      <td>2889.669922</td>\n",
       "      <td>2889.669922</td>\n",
       "      <td>1579314342</td>\n",
       "    </tr>\n",
       "  </tbody>\n",
       "</table>\n",
       "</div>"
      ],
      "text/plain": [
       "          Date         Open         High          Low        Close  \\\n",
       "0   2019-05-20  2841.939941  2853.860107  2831.290039  2840.229980   \n",
       "1   2019-05-21  2854.020020  2868.879883  2854.020020  2864.360107   \n",
       "2   2019-05-22  2856.060059  2865.469971  2851.110107  2856.270020   \n",
       "3   2019-05-23  2836.699951  2836.699951  2805.489990  2822.239990   \n",
       "4   2019-05-24  2832.409912  2841.360107  2820.189941  2826.060059   \n",
       "5   2019-05-28  2830.030029  2840.510010  2801.580078  2802.389893   \n",
       "6   2019-05-29  2790.250000  2792.030029  2766.060059  2783.020020   \n",
       "7   2019-05-30  2786.939941  2799.000000  2776.739990  2788.860107   \n",
       "8   2019-05-31  2766.149902  2768.979980  2750.520020  2752.060059   \n",
       "9   2019-06-03  2751.530029  2763.070068  2728.810059  2744.449951   \n",
       "10  2019-06-04  2762.639893  2804.489990  2762.639893  2803.270020   \n",
       "11  2019-06-05  2818.090088  2827.280029  2800.919922  2826.149902   \n",
       "12  2019-06-06  2828.510010  2852.100098  2822.449951  2843.489990   \n",
       "13  2019-06-07  2852.870117  2884.969971  2852.870117  2873.340088   \n",
       "14  2019-06-10  2885.830078  2904.770020  2885.510010  2886.729980   \n",
       "15  2019-06-11  2903.270020  2910.610107  2878.530029  2885.719971   \n",
       "16  2019-06-12  2882.729980  2888.570068  2874.679932  2879.840088   \n",
       "17  2019-06-13  2886.239990  2895.239990  2881.989990  2891.639893   \n",
       "18  2019-06-14  2886.820068  2894.449951  2879.620117  2886.979980   \n",
       "19  2019-06-17  2889.750000  2897.270020  2887.300049  2889.669922   \n",
       "\n",
       "      Adj Close      Volume  \n",
       "0   2840.229980  3288870000  \n",
       "1   2864.360107  3218700000  \n",
       "2   2856.270020  3192510000  \n",
       "3   2822.239990  3891980000  \n",
       "4   2826.060059  2887390000  \n",
       "5   2802.389893  4121410000  \n",
       "6   2783.020020  3700050000  \n",
       "7   2788.860107  3273790000  \n",
       "8   2752.060059  3981020000  \n",
       "9   2744.449951  3943810000  \n",
       "10  2803.270020  3810430000  \n",
       "11  2826.149902  3548830000  \n",
       "12  2843.489990  3396410000  \n",
       "13  2873.340088  3220250000  \n",
       "14  2886.729980  3209210000  \n",
       "15  2885.719971  3548420000  \n",
       "16  2879.840088  3034130000  \n",
       "17  2891.639893  3069810000  \n",
       "18  2886.979980  2922330000  \n",
       "19  2889.669922  1579314342  "
      ]
     },
     "execution_count": 4,
     "metadata": {},
     "output_type": "execute_result"
    }
   ],
   "source": [
    "stock"
   ]
  },
  {
   "cell_type": "code",
   "execution_count": 11,
   "metadata": {},
   "outputs": [],
   "source": [
    "arr = numpy.array(stock)   # array 데이터를 배열로 바꾸는 함수, 전처리시 numpy 배열로 만들어야함"
   ]
  },
  {
   "cell_type": "code",
   "execution_count": 17,
   "metadata": {},
   "outputs": [
    {
     "data": {
      "text/plain": [
       "array(['2019-05-20', 2841.939941, 2853.860107, 2831.290039, 2840.22998,\n",
       "       2840.22998, 3288870000], dtype=object)"
      ]
     },
     "execution_count": 17,
     "metadata": {},
     "output_type": "execute_result"
    }
   ],
   "source": [
    "arr[0] # == arr[0, :] # 1행을 출력해라"
   ]
  },
  {
   "cell_type": "code",
   "execution_count": 15,
   "metadata": {},
   "outputs": [
    {
     "data": {
      "text/plain": [
       "'2019-05-20'"
      ]
     },
     "execution_count": 15,
     "metadata": {},
     "output_type": "execute_result"
    }
   ],
   "source": [
    "arr[0,0] #첫번째 행의 첫번째 열"
   ]
  },
  {
   "cell_type": "code",
   "execution_count": 16,
   "metadata": {},
   "outputs": [
    {
     "data": {
      "text/plain": [
       "1579314342"
      ]
     },
     "execution_count": 16,
     "metadata": {},
     "output_type": "execute_result"
    }
   ],
   "source": [
    "arr[-1,-1] # 미자막 행의 마지막 열"
   ]
  },
  {
   "cell_type": "code",
   "execution_count": 23,
   "metadata": {},
   "outputs": [
    {
     "data": {
      "text/plain": [
       "array([2841.939941, 2854.02002, 2856.060059, 2836.699951, 2832.409912,\n",
       "       2830.030029, 2790.25, 2786.939941, 2766.149902, 2751.530029,\n",
       "       2762.639893, 2818.090088, 2828.51001, 2852.8701170000004,\n",
       "       2885.830078, 2903.27002, 2882.72998, 2886.23999, 2886.820068,\n",
       "       2889.75], dtype=object)"
      ]
     },
     "execution_count": 23,
     "metadata": {},
     "output_type": "execute_result"
    }
   ],
   "source": [
    "# open 만 가져와라\n",
    "o = arr[:,1]\n",
    "o"
   ]
  },
  {
   "cell_type": "code",
   "execution_count": 38,
   "metadata": {},
   "outputs": [
    {
     "data": {
      "text/plain": [
       "(2903.27002,\n",
       " 2751.530029,\n",
       " 2903.27002,\n",
       " 2751.530029,\n",
       " 2839.319946,\n",
       " 45.016996538592394)"
      ]
     },
     "execution_count": 38,
     "metadata": {},
     "output_type": "execute_result"
    }
   ],
   "source": [
    "# b(below) 아래 쪽에 셀 만들기\n",
    "# open의 최대갓, 최소값, 평균을 구해보자\n",
    "# Shift + Tab 함수 설명\n",
    "# 통계치, 평균, 중간값, 표준편차\n",
    "max(o), min(o), numpy.max(o), numpy.min(o), numpy.median(o), numpy.std(o)"
   ]
  },
  {
   "cell_type": "code",
   "execution_count": 27,
   "metadata": {},
   "outputs": [
    {
     "name": "stdout",
     "output_type": "stream",
     "text": [
      "[2840.22998 2864.360107 2856.27002 2822.23999 2826.060059 2802.389893\n",
      " 2783.02002 2788.860107 2752.060059 2744.449951 2803.27002 2826.149902\n",
      " 2843.48999 2873.340088 2886.72998 2885.719971 2879.840088 2891.639893\n",
      " 2886.97998 2889.669922]\n",
      " \n",
      "[2840.22998 2864.360107 2856.27002 2822.23999 2826.060059 2802.389893\n",
      " 2783.02002 2788.860107 2752.060059 2744.449951 2803.27002 2826.149902\n",
      " 2843.48999 2873.340088 2886.72998 2885.719971 2879.840088 2891.639893\n",
      " 2886.97998 2889.669922]\n"
     ]
    }
   ],
   "source": [
    "# close\n",
    "c = arr[:,-3]\n",
    "print(c)\n",
    "print(' ')\n",
    "c = arr[:,4]\n",
    "print(c)"
   ]
  },
  {
   "cell_type": "code",
   "execution_count": 47,
   "metadata": {},
   "outputs": [
    {
     "name": "stdout",
     "output_type": "stream",
     "text": [
      "['2019-06-17' 2889.75 2897.27002 2887.300049 2889.669922 2889.669922\n",
      " 1579314342]\n"
     ]
    }
   ],
   "source": [
    "c = arr[-1,:]\n",
    "print(c)\n"
   ]
  },
  {
   "cell_type": "code",
   "execution_count": 40,
   "metadata": {},
   "outputs": [
    {
     "data": {
      "text/plain": [
       "(20, 4)"
      ]
     },
     "execution_count": 40,
     "metadata": {},
     "output_type": "execute_result"
    }
   ],
   "source": [
    "# Open High Low Close 4개의 컬럼을 뽑자\n",
    "v4 = arr[:,1:5]\n",
    "v4.shape"
   ]
  },
  {
   "cell_type": "code",
   "execution_count": 51,
   "metadata": {},
   "outputs": [
    {
     "data": {
      "text/plain": [
       "(array([2903.27002, 2910.610107, 2887.300049, 2891.639893], dtype=object),\n",
       " array([2853.860107, 2868.8798829999996, 2865.469971, 2836.699951,\n",
       "        2841.360107, 2840.51001, 2792.030029, 2799.0, 2768.97998,\n",
       "        2763.070068, 2804.48999, 2827.280029, 2852.100098, 2884.969971,\n",
       "        2904.77002, 2910.610107, 2888.570068, 2895.23999, 2894.449951,\n",
       "        2897.27002], dtype=object))"
      ]
     },
     "execution_count": 51,
     "metadata": {},
     "output_type": "execute_result"
    }
   ],
   "source": [
    "numpy.max(v4, axis=0) , numpy.max(v4, axis=1)\n",
    "# shape 값 (20,4) 중 20에 해당하는 y축에 해당하는 최대값을 뽑음, 최대값은 4개가 나옴\n"
   ]
  },
  {
   "cell_type": "code",
   "execution_count": 54,
   "metadata": {},
   "outputs": [
    {
     "data": {
      "text/plain": [
       "(2903.27002, 15)"
      ]
     },
     "execution_count": 54,
     "metadata": {},
     "output_type": "execute_result"
    }
   ],
   "source": [
    "# argmax, argmin 맥스값의 위치\n",
    "numpy.max(o), numpy.argmax(o) # max값, max값의 위치"
   ]
  },
  {
   "cell_type": "code",
   "execution_count": 79,
   "metadata": {},
   "outputs": [],
   "source": [
    "# 종가 - 시작\n",
    "# close\n",
    "day = arr[:,0]\n",
    "close_v = arr[:,-3]\n",
    "open_v = arr[:, 1]\n",
    "vol = arr[:, -1]\n",
    "gap = close_v- open_v"
   ]
  },
  {
   "cell_type": "code",
   "execution_count": 71,
   "metadata": {},
   "outputs": [
    {
     "data": {
      "text/plain": [
       "(40.6301269999999, 10)"
      ]
     },
     "execution_count": 71,
     "metadata": {},
     "output_type": "execute_result"
    }
   ],
   "source": [
    "numpy.max(gap), numpy.argmax(gap)"
   ]
  },
  {
   "cell_type": "code",
   "execution_count": 72,
   "metadata": {},
   "outputs": [
    {
     "data": {
      "text/plain": [
       "array([-1.7099610000000212, 10.34008700000004, 0.20996100000002116,\n",
       "       -14.459961000000021, -6.3498530000001665, -27.640135999999984,\n",
       "       -7.229980000000069, 1.920165999999881, -14.0898430000002,\n",
       "       -7.080077999999958, 40.6301269999999, 8.059814000000188,\n",
       "       14.979980000000069, 20.469970999999532, 0.899902000000111,\n",
       "       -17.550048999999944, -2.8898920000001453, 5.399902999999995,\n",
       "       0.15991200000007666, -0.08007799999995768], dtype=object)"
      ]
     },
     "execution_count": 72,
     "metadata": {},
     "output_type": "execute_result"
    }
   ],
   "source": [
    "gap # 데이터 형이 바로 맞춰지네??"
   ]
  },
  {
   "cell_type": "markdown",
   "metadata": {},
   "source": [
    "### 데이터 분석(과거 데이터 기준으로 분석)\n",
    "- 가격 상승하는 날 거래량이 많아 질까? "
   ]
  },
  {
   "cell_type": "markdown",
   "metadata": {},
   "source": [
    "### 다음단계 : 예측\n",
    "- 어제/오늘 현황 분석이 끝났는데 내일은 open/close 이 어떻게 될까?\n",
    "- 방법 : 1. 통계적(R), 2, 머신러닝"
   ]
  },
  {
   "cell_type": "code",
   "execution_count": 87,
   "metadata": {},
   "outputs": [
    {
     "name": "stdout",
     "output_type": "stream",
     "text": [
      "[False  True  True False False False False  True False False  True  True\n",
      "  True  True  True False False  True  True False]\n",
      "3286227000.0 3397639434.2\n"
     ]
    },
    {
     "data": {
      "text/plain": [
       "(array([3218700000, 3192510000, 3273790000, 3810430000, 3548830000,\n",
       "        3396410000, 3220250000, 3209210000, 3069810000, 2922330000],\n",
       "       dtype=object),\n",
       " array([3288870000, 3891980000, 2887390000, 4121410000, 3700050000,\n",
       "        3981020000, 3943810000, 3548420000, 3034130000, 1579314342],\n",
       "       dtype=object))"
      ]
     },
     "execution_count": 87,
     "metadata": {},
     "output_type": "execute_result"
    }
   ],
   "source": [
    "# 상승한 날의 거래량의 평균\n",
    "print(gap > 0)\n",
    "print(numpy.mean(vol[gap > 0]), numpy.mean(vol[gap < 0]))\n",
    "vol[gap > 0], vol[gap < 0]\n"
   ]
  },
  {
   "cell_type": "code",
   "execution_count": 84,
   "metadata": {},
   "outputs": [
    {
     "data": {
      "text/plain": [
       "False"
      ]
     },
     "execution_count": 84,
     "metadata": {},
     "output_type": "execute_result"
    }
   ],
   "source": [
    "# 상승한날의 거래량이 더 많냐?\n",
    "numpy.mean(vol[gap > 0]) > numpy.mean(vol[gap < 0])"
   ]
  },
  {
   "cell_type": "code",
   "execution_count": 118,
   "metadata": {},
   "outputs": [
    {
     "data": {
      "text/plain": [
       "array([False,  True, False,  True, False])"
      ]
     },
     "execution_count": 118,
     "metadata": {},
     "output_type": "execute_result"
    }
   ],
   "source": [
    "a=np.array([1,2,3,4,5])\n",
    "even = (a%2 == 0)\n",
    "even"
   ]
  },
  {
   "cell_type": "code",
   "execution_count": 93,
   "metadata": {},
   "outputs": [],
   "source": [
    "import numpy as np"
   ]
  },
  {
   "cell_type": "code",
   "execution_count": 97,
   "metadata": {},
   "outputs": [
    {
     "data": {
      "text/plain": [
       "(array([1, 2, 3]), dtype('int32'), (3,))"
      ]
     },
     "execution_count": 97,
     "metadata": {},
     "output_type": "execute_result"
    }
   ],
   "source": [
    "a = np.array([1,2,3])\n",
    "a, a.dtype, a.shape"
   ]
  },
  {
   "cell_type": "code",
   "execution_count": 104,
   "metadata": {},
   "outputs": [
    {
     "data": {
      "text/plain": [
       "array([[[0, 0, 0, 0],\n",
       "        [0, 0, 0, 0],\n",
       "        [0, 0, 0, 0]],\n",
       "\n",
       "       [[0, 0, 0, 0],\n",
       "        [0, 0, 0, 0],\n",
       "        [0, 0, 0, 0]]])"
      ]
     },
     "execution_count": 104,
     "metadata": {},
     "output_type": "execute_result"
    }
   ],
   "source": [
    "np.zeros( shape=(2,3,4), dtype=np.int32 )\n",
    "# 다차원 배열 (?,?,?) 시험 출제함!!"
   ]
  },
  {
   "cell_type": "code",
   "execution_count": 105,
   "metadata": {},
   "outputs": [
    {
     "data": {
      "text/plain": [
       "array([[[1, 1, 1, 1],\n",
       "        [1, 1, 1, 1],\n",
       "        [1, 1, 1, 1]],\n",
       "\n",
       "       [[1, 1, 1, 1],\n",
       "        [1, 1, 1, 1],\n",
       "        [1, 1, 1, 1]]])"
      ]
     },
     "execution_count": 105,
     "metadata": {},
     "output_type": "execute_result"
    }
   ],
   "source": [
    "np.ones( shape=(2,3,4), dtype=np.int32 )"
   ]
  },
  {
   "cell_type": "code",
   "execution_count": 106,
   "metadata": {},
   "outputs": [
    {
     "data": {
      "text/plain": [
       "array([[[3, 3, 3, 3, 3],\n",
       "        [3, 3, 3, 3, 3],\n",
       "        [3, 3, 3, 3, 3],\n",
       "        [3, 3, 3, 3, 3]],\n",
       "\n",
       "       [[3, 3, 3, 3, 3],\n",
       "        [3, 3, 3, 3, 3],\n",
       "        [3, 3, 3, 3, 3],\n",
       "        [3, 3, 3, 3, 3]],\n",
       "\n",
       "       [[3, 3, 3, 3, 3],\n",
       "        [3, 3, 3, 3, 3],\n",
       "        [3, 3, 3, 3, 3],\n",
       "        [3, 3, 3, 3, 3]]])"
      ]
     },
     "execution_count": 106,
     "metadata": {},
     "output_type": "execute_result"
    }
   ],
   "source": [
    "np.full((3,4,5), 3)"
   ]
  },
  {
   "cell_type": "code",
   "execution_count": 108,
   "metadata": {},
   "outputs": [
    {
     "data": {
      "text/plain": [
       "array([[1., 0., 0.],\n",
       "       [0., 1., 0.],\n",
       "       [0., 0., 1.]])"
      ]
     },
     "execution_count": 108,
     "metadata": {},
     "output_type": "execute_result"
    }
   ],
   "source": [
    "np.eye(3) # 대각 성분만 1인 이차원 배열"
   ]
  },
  {
   "cell_type": "code",
   "execution_count": 110,
   "metadata": {},
   "outputs": [
    {
     "data": {
      "text/plain": [
       "array([0, 3, 6, 9])"
      ]
     },
     "execution_count": 110,
     "metadata": {},
     "output_type": "execute_result"
    }
   ],
   "source": [
    "np.arange(0,10,3) # 0~10까지 3단위로 채워라"
   ]
  },
  {
   "cell_type": "code",
   "execution_count": 117,
   "metadata": {},
   "outputs": [
    {
     "data": {
      "text/plain": [
       "array([ 0. ,  2.5,  5. ,  7.5, 10. ])"
      ]
     },
     "execution_count": 117,
     "metadata": {},
     "output_type": "execute_result"
    }
   ],
   "source": [
    "np.linspace(0,10,5) # 시작값, 끝값, x등분"
   ]
  },
  {
   "cell_type": "code",
   "execution_count": 120,
   "metadata": {},
   "outputs": [
    {
     "data": {
      "text/plain": [
       "5"
      ]
     },
     "execution_count": 120,
     "metadata": {},
     "output_type": "execute_result"
    }
   ],
   "source": [
    "import random\n",
    "random.randint(1,10)"
   ]
  },
  {
   "cell_type": "code",
   "execution_count": 122,
   "metadata": {},
   "outputs": [
    {
     "data": {
      "text/plain": [
       "array([[0.36318239, 0.17631892, 0.66990211],\n",
       "       [0.164706  , 0.08708465, 0.38318163]])"
      ]
     },
     "execution_count": 122,
     "metadata": {},
     "output_type": "execute_result"
    }
   ],
   "source": [
    "np.random.rand(2,3) #[0,1]"
   ]
  },
  {
   "cell_type": "code",
   "execution_count": 123,
   "metadata": {},
   "outputs": [
    {
     "data": {
      "text/plain": [
       "array([[-0.73540981, -0.25550822,  1.59990878],\n",
       "       [ 0.63226564,  0.4783734 , -0.82129696]])"
      ]
     },
     "execution_count": 123,
     "metadata": {},
     "output_type": "execute_result"
    }
   ],
   "source": [
    "np.random.normal(size=(2,3)) # 종모양의 정규분포, 평균값이 많이 뽑힙니다."
   ]
  },
  {
   "cell_type": "code",
   "execution_count": 126,
   "metadata": {},
   "outputs": [
    {
     "ename": "SyntaxError",
     "evalue": "positional argument follows keyword argument (<ipython-input-126-e366e504d3e3>, line 1)",
     "output_type": "error",
     "traceback": [
      "\u001b[1;36m  File \u001b[1;32m\"<ipython-input-126-e366e504d3e3>\"\u001b[1;36m, line \u001b[1;32m1\u001b[0m\n\u001b[1;33m    np.random.randint(low=1, high=10, size(2,3))\u001b[0m\n\u001b[1;37m                                     ^\u001b[0m\n\u001b[1;31mSyntaxError\u001b[0m\u001b[1;31m:\u001b[0m positional argument follows keyword argument\n"
     ]
    }
   ],
   "source": [
    "np.random.randint(low=1)\n",
    "#(low=1, high=10, size(2,3))"
   ]
  },
  {
   "cell_type": "code",
   "execution_count": 127,
   "metadata": {},
   "outputs": [
    {
     "data": {
      "text/plain": [
       "array([[0.29636513, 0.88605574, 0.15759766],\n",
       "       [0.03925307, 0.79525492, 0.23592142]])"
      ]
     },
     "execution_count": 127,
     "metadata": {},
     "output_type": "execute_result"
    }
   ],
   "source": [
    "np.random.uniform(size=(2,3)) # 전체값에서 균등하게 뽑힙니다. 제어 가능"
   ]
  },
  {
   "cell_type": "code",
   "execution_count": 131,
   "metadata": {},
   "outputs": [
    {
     "data": {
      "text/plain": [
       "array([[2., 2.],\n",
       "       [2., 2.],\n",
       "       [2., 2.]])"
      ]
     },
     "execution_count": 131,
     "metadata": {},
     "output_type": "execute_result"
    }
   ],
   "source": [
    "a = np.ones(shape=(3,2), dtype=np.int )\n",
    "b = np.ones(shape=(3,2), dtype=np.float) # 배열 모양이 같아야지만 가산 가능\n",
    "a+b"
   ]
  },
  {
   "cell_type": "code",
   "execution_count": 130,
   "metadata": {},
   "outputs": [
    {
     "data": {
      "text/plain": [
       "array([[2., 2., 2., 2., 2.],\n",
       "       [2., 2., 2., 2., 2.],\n",
       "       [2., 2., 2., 2., 2.]])"
      ]
     },
     "execution_count": 130,
     "metadata": {},
     "output_type": "execute_result"
    }
   ],
   "source": [
    "a = np.ones(shape=(3,5))\n",
    "b = np.ones(shape=(3,1)) # 예외 : 숫자가 1이면 가산 가능\n",
    "a+b"
   ]
  },
  {
   "cell_type": "code",
   "execution_count": 133,
   "metadata": {},
   "outputs": [
    {
     "data": {
      "text/plain": [
       "array([0, 1, 2, 3, 4, 5])"
      ]
     },
     "execution_count": 133,
     "metadata": {},
     "output_type": "execute_result"
    }
   ],
   "source": [
    "# 행우선으로 저장됩니다.\n",
    "a = np.arange(6)\n",
    "a\n"
   ]
  },
  {
   "cell_type": "code",
   "execution_count": 169,
   "metadata": {},
   "outputs": [
    {
     "ename": "ValueError",
     "evalue": "cannot reshape array of size 9 into shape (2,3)",
     "output_type": "error",
     "traceback": [
      "\u001b[1;31m---------------------------------------------------------------------------\u001b[0m",
      "\u001b[1;31mValueError\u001b[0m                                Traceback (most recent call last)",
      "\u001b[1;32m<ipython-input-169-36cc2d1b760a>\u001b[0m in \u001b[0;36m<module>\u001b[1;34m\u001b[0m\n\u001b[1;32m----> 1\u001b[1;33m \u001b[0mb\u001b[0m \u001b[1;33m=\u001b[0m \u001b[0ma\u001b[0m\u001b[1;33m.\u001b[0m\u001b[0mreshape\u001b[0m\u001b[1;33m(\u001b[0m\u001b[1;33m(\u001b[0m\u001b[1;36m2\u001b[0m\u001b[1;33m,\u001b[0m\u001b[1;36m3\u001b[0m\u001b[1;33m)\u001b[0m\u001b[1;33m)\u001b[0m \u001b[1;31m# 배열이 메모리 저장시 행 방향으로 저장됨\u001b[0m\u001b[1;33m\u001b[0m\u001b[1;33m\u001b[0m\u001b[0m\n\u001b[0m\u001b[0;32m      2\u001b[0m '''\n\u001b[0;32m      3\u001b[0m \u001b[0mFortran\u001b[0m\u001b[1;33m,\u001b[0m \u001b[0mR\u001b[0m\u001b[1;33m\u001b[0m\u001b[1;33m\u001b[0m\u001b[0m\n\u001b[0;32m      4\u001b[0m [\n\u001b[0;32m      5\u001b[0m \u001b[1;33m[\u001b[0m\u001b[1;36m0\u001b[0m\u001b[1;33m,\u001b[0m\u001b[1;36m3\u001b[0m\u001b[1;33m]\u001b[0m\u001b[1;33m\u001b[0m\u001b[1;33m\u001b[0m\u001b[0m\n",
      "\u001b[1;31mValueError\u001b[0m: cannot reshape array of size 9 into shape (2,3)"
     ]
    }
   ],
   "source": [
    "b = a.reshape((2,3)) # 배열이 메모리 저장시 행 방향으로 저장됨\n",
    "'''\n",
    "Fortran, R\n",
    "[\n",
    "[0,3]\n",
    "[1,4]\n",
    "[2,5]\n",
    "]\n",
    "'''\n",
    "b"
   ]
  },
  {
   "cell_type": "code",
   "execution_count": 146,
   "metadata": {},
   "outputs": [
    {
     "data": {
      "text/plain": [
       "(2, (2, 3), 6, dtype('int32'), 24)"
      ]
     },
     "execution_count": 146,
     "metadata": {},
     "output_type": "execute_result"
    }
   ],
   "source": [
    "#차원, 모양, 총 요소 갯수, 데이터 타입, 메모리 사용량\n",
    "b.ndim, b.shape, b.size, b.dtype, b.nbytes "
   ]
  },
  {
   "cell_type": "code",
   "execution_count": 148,
   "metadata": {},
   "outputs": [
    {
     "data": {
      "text/plain": [
       "array([0, 1, 2, 3, 4, 5])"
      ]
     },
     "execution_count": 148,
     "metadata": {},
     "output_type": "execute_result"
    }
   ],
   "source": [
    "b.flatten() # 1차원으로 변환, flatten:평면화"
   ]
  },
  {
   "cell_type": "code",
   "execution_count": 150,
   "metadata": {},
   "outputs": [
    {
     "data": {
      "text/plain": [
       "array([[0, 1, 2],\n",
       "       [3, 4, 5],\n",
       "       [6, 7, 8]])"
      ]
     },
     "execution_count": 150,
     "metadata": {},
     "output_type": "execute_result"
    }
   ],
   "source": [
    "# slicing : 데이터를 자르기\n",
    "a = np.arange(9).reshape((3,3))\n",
    "a"
   ]
  },
  {
   "cell_type": "code",
   "execution_count": 152,
   "metadata": {},
   "outputs": [
    {
     "data": {
      "text/plain": [
       "array([1, 4, 7])"
      ]
     },
     "execution_count": 152,
     "metadata": {},
     "output_type": "execute_result"
    }
   ],
   "source": [
    "a[:,1]"
   ]
  },
  {
   "cell_type": "code",
   "execution_count": 156,
   "metadata": {},
   "outputs": [
    {
     "data": {
      "text/plain": [
       "array([6, 7, 8])"
      ]
     },
     "execution_count": 156,
     "metadata": {},
     "output_type": "execute_result"
    }
   ],
   "source": [
    "a[2,:]"
   ]
  },
  {
   "cell_type": "code",
   "execution_count": 173,
   "metadata": {},
   "outputs": [
    {
     "data": {
      "text/plain": [
       "(array([[1, 2],\n",
       "        [4, 5],\n",
       "        [7, 8]]), array([1, 2, 4, 5, 7, 8]))"
      ]
     },
     "execution_count": 173,
     "metadata": {},
     "output_type": "execute_result"
    }
   ],
   "source": [
    "a[:,1:3], a[:,1:3].flatten()"
   ]
  },
  {
   "cell_type": "code",
   "execution_count": 171,
   "metadata": {},
   "outputs": [
    {
     "data": {
      "text/plain": [
       "array([4, 5, 7, 8])"
      ]
     },
     "execution_count": 171,
     "metadata": {},
     "output_type": "execute_result"
    }
   ],
   "source": [
    "b=a[1:3,1:3]\n",
    "b.flatten()"
   ]
  },
  {
   "cell_type": "code",
   "execution_count": 174,
   "metadata": {},
   "outputs": [
    {
     "data": {
      "text/plain": [
       "array([[ 0,  1,  2,  3],\n",
       "       [ 4,  5,  6,  7],\n",
       "       [ 8,  9, 10, 11]])"
      ]
     },
     "execution_count": 174,
     "metadata": {},
     "output_type": "execute_result"
    }
   ],
   "source": [
    "# slicing : 데이터를 자르기\n",
    "b = np.arange(12).reshape((3,4))\n",
    "b"
   ]
  },
  {
   "cell_type": "code",
   "execution_count": 180,
   "metadata": {},
   "outputs": [
    {
     "data": {
      "text/plain": [
       "array([ 5,  6,  9, 10])"
      ]
     },
     "execution_count": 180,
     "metadata": {},
     "output_type": "execute_result"
    }
   ],
   "source": [
    "b[1:3, 1:3].flatten() # 1~n-1 까지"
   ]
  },
  {
   "cell_type": "code",
   "execution_count": 181,
   "metadata": {},
   "outputs": [
    {
     "data": {
      "text/plain": [
       "(array([ 9, 10, 11]), array([ 9, 10, 11]))"
      ]
     },
     "execution_count": 181,
     "metadata": {},
     "output_type": "execute_result"
    }
   ],
   "source": [
    "b[2, 1:4], b[-1, 1:]"
   ]
  },
  {
   "cell_type": "code",
   "execution_count": 184,
   "metadata": {},
   "outputs": [
    {
     "data": {
      "text/plain": [
       "array([[[ 0,  1,  2,  3],\n",
       "        [ 4,  5,  6,  7],\n",
       "        [ 8,  9, 10, 11]],\n",
       "\n",
       "       [[12, 13, 14, 15],\n",
       "        [16, 17, 18, 19],\n",
       "        [20, 21, 22, 23]]])"
      ]
     },
     "execution_count": 184,
     "metadata": {},
     "output_type": "execute_result"
    }
   ],
   "source": [
    "# 3차원\n",
    "c = np.arange(2*3*4).reshape(2,3,4)\n",
    "c"
   ]
  },
  {
   "cell_type": "code",
   "execution_count": 188,
   "metadata": {},
   "outputs": [
    {
     "data": {
      "text/plain": [
       "array([[ 0,  1,  2,  3],\n",
       "       [ 4,  5,  6,  7],\n",
       "       [ 8,  9, 10, 11]])"
      ]
     },
     "execution_count": 188,
     "metadata": {},
     "output_type": "execute_result"
    }
   ],
   "source": [
    "c[0]"
   ]
  },
  {
   "cell_type": "code",
   "execution_count": 193,
   "metadata": {},
   "outputs": [
    {
     "data": {
      "text/plain": [
       "(array([0, 1, 2, 3]), array([0, 1, 2, 3]))"
      ]
     },
     "execution_count": 193,
     "metadata": {},
     "output_type": "execute_result"
    }
   ],
   "source": [
    "c[0,0], c[0,0,:]"
   ]
  },
  {
   "cell_type": "code",
   "execution_count": 194,
   "metadata": {},
   "outputs": [
    {
     "data": {
      "text/plain": [
       "array([12, 13, 14, 15])"
      ]
     },
     "execution_count": 194,
     "metadata": {},
     "output_type": "execute_result"
    }
   ],
   "source": [
    "c[1,0,:]"
   ]
  },
  {
   "cell_type": "code",
   "execution_count": 195,
   "metadata": {},
   "outputs": [
    {
     "data": {
      "text/plain": [
       "array([1, 5, 9])"
      ]
     },
     "execution_count": 195,
     "metadata": {},
     "output_type": "execute_result"
    }
   ],
   "source": [
    "c[0,:,1]"
   ]
  },
  {
   "cell_type": "code",
   "execution_count": 197,
   "metadata": {},
   "outputs": [
    {
     "data": {
      "text/plain": [
       "array([[14, 15],\n",
       "       [18, 19],\n",
       "       [22, 23]])"
      ]
     },
     "execution_count": 197,
     "metadata": {},
     "output_type": "execute_result"
    }
   ],
   "source": [
    "c[1, :, 2:4]"
   ]
  },
  {
   "cell_type": "code",
   "execution_count": 198,
   "metadata": {},
   "outputs": [
    {
     "data": {
      "text/plain": [
       "array([[[ 0,  1,  2,  3],\n",
       "        [ 4,  5,  6,  7],\n",
       "        [ 8,  9, 10, 11]],\n",
       "\n",
       "       [[12, 13, 14, 15],\n",
       "        [16, 17, 18, 19],\n",
       "        [20, 21, 22, 23]]])"
      ]
     },
     "execution_count": 198,
     "metadata": {},
     "output_type": "execute_result"
    }
   ],
   "source": [
    "c"
   ]
  },
  {
   "cell_type": "code",
   "execution_count": 199,
   "metadata": {},
   "outputs": [
    {
     "data": {
      "text/plain": [
       "array([15, 19, 23])"
      ]
     },
     "execution_count": 199,
     "metadata": {},
     "output_type": "execute_result"
    }
   ],
   "source": [
    "c[1,:,3]"
   ]
  },
  {
   "cell_type": "code",
   "execution_count": 208,
   "metadata": {},
   "outputs": [
    {
     "data": {
      "text/plain": [
       "(array([ 6, 10]), array([17, 18, 19]), array([[13, 14],\n",
       "        [17, 18]]))"
      ]
     },
     "execution_count": 208,
     "metadata": {},
     "output_type": "execute_result"
    }
   ],
   "source": [
    "#[6,10], [17,18,19], [13,14,17,18]\n",
    "c[0, 1:3, 2], c[1, 1, 1:4], c[1, 0:2, 1:3]"
   ]
  },
  {
   "cell_type": "code",
   "execution_count": 220,
   "metadata": {},
   "outputs": [
    {
     "data": {
      "text/plain": [
       "(2, 3, 4)"
      ]
     },
     "execution_count": 220,
     "metadata": {},
     "output_type": "execute_result"
    }
   ],
   "source": [
    "c.shape"
   ]
  },
  {
   "cell_type": "code",
   "execution_count": 217,
   "metadata": {},
   "outputs": [
    {
     "data": {
      "text/plain": [
       "array([[ 0,  1,  2,  3,  4,  5,  6,  7],\n",
       "       [ 8,  9, 10, 11, 12, 13, 14, 15],\n",
       "       [16, 17, 18, 19, 20, 21, 22, 23]])"
      ]
     },
     "execution_count": 217,
     "metadata": {},
     "output_type": "execute_result"
    }
   ],
   "source": [
    "np.reshape(c, (3,8))"
   ]
  },
  {
   "cell_type": "code",
   "execution_count": 219,
   "metadata": {},
   "outputs": [
    {
     "data": {
      "text/plain": [
       "array([[ 0,  1,  2,  3],\n",
       "       [ 4,  5,  6,  7],\n",
       "       [ 8,  9, 10, 11],\n",
       "       [12, 13, 14, 15],\n",
       "       [16, 17, 18, 19],\n",
       "       [20, 21, 22, 23]])"
      ]
     },
     "execution_count": 219,
     "metadata": {},
     "output_type": "execute_result"
    }
   ],
   "source": [
    "c.reshape((6,4))"
   ]
  },
  {
   "cell_type": "code",
   "execution_count": 225,
   "metadata": {
    "scrolled": true
   },
   "outputs": [
    {
     "data": {
      "text/plain": [
       "(24, array([[ 0,  1,  2,  3],\n",
       "        [ 4,  5,  6,  7],\n",
       "        [ 8,  9, 10, 11],\n",
       "        [12, 13, 14, 15],\n",
       "        [16, 17, 18, 19],\n",
       "        [20, 21, 22, 23]]))"
      ]
     },
     "execution_count": 225,
     "metadata": {},
     "output_type": "execute_result"
    }
   ],
   "source": [
    "c.size, c.reshape((-1,4)) # -1(unknown dimension) 알아서 맞춰라 1번만 사용"
   ]
  },
  {
   "cell_type": "code",
   "execution_count": 227,
   "metadata": {},
   "outputs": [
    {
     "name": "stdout",
     "output_type": "stream",
     "text": [
      "[[0 1 2]\n",
      " [3 4 5]]\n",
      "[[ 6  7  8]\n",
      " [ 9 10 11]]\n"
     ]
    }
   ],
   "source": [
    "a = np.arange(6).reshape(2,3)\n",
    "b = np.arange(6,12).reshape(2,3)\n",
    "print(a)\n",
    "print(b)"
   ]
  },
  {
   "cell_type": "code",
   "execution_count": 243,
   "metadata": {},
   "outputs": [
    {
     "data": {
      "text/plain": [
       "((2, 3), (6, 3), array([[ 0,  1,  2],\n",
       "        [ 3,  4,  5],\n",
       "        [ 6,  7,  8],\n",
       "        [ 9, 10, 11],\n",
       "        [ 0,  1,  2],\n",
       "        [ 3,  4,  5]]))"
      ]
     },
     "execution_count": 243,
     "metadata": {},
     "output_type": "execute_result"
    }
   ],
   "source": [
    "# 두 배열을 붙입니다. concatenate = concat\n",
    "c=np.concatenate((a,b,a), 0) # 0:행(가로), 1:열(세로), shpae의 첫번째(행), 두번째(열)\n",
    "a.shape, c.shape, c\n"
   ]
  },
  {
   "cell_type": "code",
   "execution_count": 242,
   "metadata": {},
   "outputs": [
    {
     "data": {
      "text/plain": [
       "((2, 3), (2, 9), array([[ 0,  1,  2,  6,  7,  8,  0,  1,  2],\n",
       "        [ 3,  4,  5,  9, 10, 11,  3,  4,  5]]))"
      ]
     },
     "execution_count": 242,
     "metadata": {},
     "output_type": "execute_result"
    }
   ],
   "source": [
    "c=np.concatenate((a,b,a), 1)\n",
    "a.shape, c.shape, c"
   ]
  },
  {
   "cell_type": "code",
   "execution_count": 3,
   "metadata": {},
   "outputs": [
    {
     "ename": "NameError",
     "evalue": "name 'a' is not defined",
     "output_type": "error",
     "traceback": [
      "\u001b[1;31m---------------------------------------------------------------------------\u001b[0m",
      "\u001b[1;31mNameError\u001b[0m                                 Traceback (most recent call last)",
      "\u001b[1;32m<ipython-input-3-4e1e0e7e21ee>\u001b[0m in \u001b[0;36m<module>\u001b[1;34m\u001b[0m\n\u001b[0;32m      1\u001b[0m \u001b[1;31m# stack 쌓다\u001b[0m\u001b[1;33m\u001b[0m\u001b[1;33m\u001b[0m\u001b[1;33m\u001b[0m\u001b[0m\n\u001b[1;32m----> 2\u001b[1;33m \u001b[0ma\u001b[0m\u001b[1;33m.\u001b[0m\u001b[0mshape\u001b[0m\u001b[1;33m,\u001b[0m \u001b[0mb\u001b[0m\u001b[1;33m.\u001b[0m\u001b[0mshape\u001b[0m\u001b[1;33m\u001b[0m\u001b[1;33m\u001b[0m\u001b[0m\n\u001b[0m",
      "\u001b[1;31mNameError\u001b[0m: name 'a' is not defined"
     ]
    }
   ],
   "source": [
    "# stack 쌓다\n",
    "a.shape, b.shape"
   ]
  },
  {
   "cell_type": "code",
   "execution_count": 246,
   "metadata": {},
   "outputs": [
    {
     "name": "stdout",
     "output_type": "stream",
     "text": [
      "[[0 1 2]\n",
      " [3 4 5]]\n",
      "[[ 6  7  8]\n",
      " [ 9 10 11]]\n"
     ]
    }
   ],
   "source": [
    "print(a)\n",
    "print(b)"
   ]
  },
  {
   "cell_type": "code",
   "execution_count": 259,
   "metadata": {},
   "outputs": [
    {
     "data": {
      "text/plain": [
       "array([[[ 0,  1,  2],\n",
       "        [ 6,  7,  8],\n",
       "        [ 0,  1,  2],\n",
       "        [ 6,  7,  8]],\n",
       "\n",
       "       [[ 3,  4,  5],\n",
       "        [ 9, 10, 11],\n",
       "        [ 3,  4,  5],\n",
       "        [ 9, 10, 11]]])"
      ]
     },
     "execution_count": 259,
     "metadata": {},
     "output_type": "execute_result"
    }
   ],
   "source": [
    "c=np.stack((a,b,a,b), axis=1) # axis를 지정한 곳에 배열들이 쌓입니다.\n",
    "# axis=0, (4,2,3)\n",
    "# axis=1, (2,4,3)\n",
    "# axis=2, (2,3,4)\n",
    "c"
   ]
  },
  {
   "cell_type": "code",
   "execution_count": 1,
   "metadata": {},
   "outputs": [
    {
     "ename": "NameError",
     "evalue": "name 'a' is not defined",
     "output_type": "error",
     "traceback": [
      "\u001b[1;31m---------------------------------------------------------------------------\u001b[0m",
      "\u001b[1;31mNameError\u001b[0m                                 Traceback (most recent call last)",
      "\u001b[1;32m<ipython-input-1-9ae6715c130f>\u001b[0m in \u001b[0;36m<module>\u001b[1;34m\u001b[0m\n\u001b[0;32m      1\u001b[0m \u001b[1;31m# stack 쌓다, 쌓으면 차원이 1 증가합니다.\u001b[0m\u001b[1;33m\u001b[0m\u001b[1;33m\u001b[0m\u001b[1;33m\u001b[0m\u001b[0m\n\u001b[1;32m----> 2\u001b[1;33m \u001b[0ma\u001b[0m\u001b[1;33m.\u001b[0m\u001b[0mshape\u001b[0m\u001b[1;33m,\u001b[0m \u001b[0mb\u001b[0m\u001b[1;33m.\u001b[0m\u001b[0mshape\u001b[0m\u001b[1;33m,\u001b[0m \u001b[0mc\u001b[0m\u001b[1;33m.\u001b[0m\u001b[0mshape\u001b[0m\u001b[1;33m\u001b[0m\u001b[1;33m\u001b[0m\u001b[0m\n\u001b[0m",
      "\u001b[1;31mNameError\u001b[0m: name 'a' is not defined"
     ]
    }
   ],
   "source": [
    "# stack 쌓다, 쌓으면 차원이 1 증가합니다.\n",
    "a.shape, b.shape, c.shape"
   ]
  },
  {
   "cell_type": "code",
   "execution_count": 1,
   "metadata": {},
   "outputs": [
    {
     "data": {
      "text/plain": [
       "array([[80, 70],\n",
       "       [90, 80],\n",
       "       [99, 89]])"
      ]
     },
     "execution_count": 1,
     "metadata": {},
     "output_type": "execute_result"
    }
   ],
   "source": [
    "# 예시\n",
    "import numpy as np\n",
    "kor = [80,90,99]\n",
    "eng = [70,80,89]\n",
    "score = np.stack((kor, eng), axis=1)\n",
    "score"
   ]
  },
  {
   "cell_type": "code",
   "execution_count": 3,
   "metadata": {},
   "outputs": [
    {
     "data": {
      "text/plain": [
       "array([[80, 70, 20],\n",
       "       [90, 80, 30],\n",
       "       [99, 89, 40]])"
      ]
     },
     "execution_count": 3,
     "metadata": {},
     "output_type": "execute_result"
    }
   ],
   "source": [
    "math = np.array([20,30,40]).reshape((3,1))\n",
    "math, math.shape, score.shape\n",
    "score\n",
    "score = np.concatenate((score, math), axis=-1)\n",
    "score"
   ]
  },
  {
   "cell_type": "code",
   "execution_count": 4,
   "metadata": {},
   "outputs": [],
   "source": [
    "score_4 = np.array([100,90,80]).reshape((1,3))\n",
    "score_4.shape\n",
    "score = np.concatenate((score, score_4), axis=0)\n",
    "#score"
   ]
  },
  {
   "cell_type": "code",
   "execution_count": 5,
   "metadata": {},
   "outputs": [
    {
     "data": {
      "text/plain": [
       "array([56.66666667, 66.66666667, 76.        , 90.        ])"
      ]
     },
     "execution_count": 5,
     "metadata": {},
     "output_type": "execute_result"
    }
   ],
   "source": [
    "# 각 과목별 평균은?\n",
    "np.mean(score, axis=1)"
   ]
  },
  {
   "cell_type": "code",
   "execution_count": 9,
   "metadata": {},
   "outputs": [
    {
     "data": {
      "text/plain": [
       "90.0"
      ]
     },
     "execution_count": 9,
     "metadata": {},
     "output_type": "execute_result"
    }
   ],
   "source": [
    "# 시험을 가장 잘 본 학생의 평균 점수는?\n",
    "# 3과목 평균 중 가장 높은 점수는?\n",
    "max(np.mean(score, axis=1))"
   ]
  },
  {
   "cell_type": "code",
   "execution_count": 10,
   "metadata": {},
   "outputs": [
    {
     "data": {
      "text/plain": [
       "array([[ 80,  70,  20],\n",
       "       [ 90,  80,  30],\n",
       "       [ 99,  89,  40],\n",
       "       [100,  90,  80]])"
      ]
     },
     "execution_count": 10,
     "metadata": {},
     "output_type": "execute_result"
    }
   ],
   "source": [
    "score"
   ]
  },
  {
   "cell_type": "code",
   "execution_count": 11,
   "metadata": {},
   "outputs": [],
   "source": [
    "#np.save()#binary file in NumPy ''.npy\n",
    "#(%10.5f) 정수 10자리 소수점 5자리, '%.2f':소수점 2번째 자리까지 %d 정수만\n",
    "np.savetxt('score_sample.txt', score, '%d') #text file"
   ]
  },
  {
   "cell_type": "code",
   "execution_count": 14,
   "metadata": {},
   "outputs": [
    {
     "data": {
      "text/plain": [
       "array([[ 80.,  70.,  20.],\n",
       "       [ 90.,  80.,  30.],\n",
       "       [ 99.,  89.,  40.],\n",
       "       [100.,  90.,  80.]])"
      ]
     },
     "execution_count": 14,
     "metadata": {},
     "output_type": "execute_result"
    }
   ],
   "source": [
    "# read, open, load 로 찾아봅니다.\n",
    "s= np.loadtxt('score_sample.txt')\n",
    "s"
   ]
  },
  {
   "cell_type": "code",
   "execution_count": 15,
   "metadata": {},
   "outputs": [
    {
     "data": {
      "text/plain": [
       "array([[ 20.,  70.,  80.],\n",
       "       [ 30.,  80.,  90.],\n",
       "       [ 40.,  89.,  99.],\n",
       "       [ 80.,  90., 100.]])"
      ]
     },
     "execution_count": 15,
     "metadata": {},
     "output_type": "execute_result"
    }
   ],
   "source": [
    "s[:, ::-1] # 시작부터 끝까지 거꾸로"
   ]
  },
  {
   "cell_type": "code",
   "execution_count": 16,
   "metadata": {},
   "outputs": [
    {
     "data": {
      "text/plain": [
       "array([[ 80.,  20.],\n",
       "       [ 90.,  30.],\n",
       "       [ 99.,  40.],\n",
       "       [100.,  80.]])"
      ]
     },
     "execution_count": 16,
     "metadata": {},
     "output_type": "execute_result"
    }
   ],
   "source": [
    "s[:, ::2] # 시작부터 끝까지 스텝(간격) 2로"
   ]
  },
  {
   "cell_type": "code",
   "execution_count": 17,
   "metadata": {},
   "outputs": [
    {
     "data": {
      "text/plain": [
       "array([0, 1, 2, 3, 4, 5, 6, 7, 8, 9])"
      ]
     },
     "execution_count": 17,
     "metadata": {},
     "output_type": "execute_result"
    }
   ],
   "source": [
    "a = np.arange(10)\n",
    "a"
   ]
  },
  {
   "cell_type": "code",
   "execution_count": 24,
   "metadata": {},
   "outputs": [
    {
     "data": {
      "text/plain": [
       "(array([1, 3, 5, 7, 9]),\n",
       " array([0, 2, 4, 6, 8]),\n",
       " array([9, 8, 7, 6, 5, 4, 3, 2, 1, 0]))"
      ]
     },
     "execution_count": 24,
     "metadata": {},
     "output_type": "execute_result"
    }
   ],
   "source": [
    "a[1::2], a[0::2], a[::-1] # 홀수, 짝수 번째 요수 뽑기"
   ]
  },
  {
   "cell_type": "code",
   "execution_count": 39,
   "metadata": {},
   "outputs": [
    {
     "data": {
      "text/plain": [
       "array([0, 2, 4])"
      ]
     },
     "execution_count": 39,
     "metadata": {},
     "output_type": "execute_result"
    }
   ],
   "source": [
    "# 2번째 요소부터 6번째 요소까지 2칸씩 뛰면서\n",
    "# [시작:끝:간격] 생략하면 기본값 시작=0, 끝=끝, 간격=1\n",
    "a[0:5:2]"
   ]
  },
  {
   "cell_type": "code",
   "execution_count": 52,
   "metadata": {},
   "outputs": [
    {
     "data": {
      "text/plain": [
       "[array([0, 1, 2, 3, 4]), array([5, 6]), array([7, 8, 9])]"
      ]
     },
     "execution_count": 52,
     "metadata": {},
     "output_type": "execute_result"
    }
   ],
   "source": [
    "# 분리하기\n",
    "np.split(a, [5,7]) # 해당 위치를 잘라라"
   ]
  },
  {
   "cell_type": "code",
   "execution_count": 55,
   "metadata": {},
   "outputs": [
    {
     "data": {
      "text/plain": [
       "[array([0, 1, 2, 3, 4]), array([5, 6, 7, 8, 9])]"
      ]
     },
     "execution_count": 55,
     "metadata": {},
     "output_type": "execute_result"
    }
   ],
   "source": [
    "# 분리하기 section 갯수 =  나누어 떨어지는 수\n",
    "# 머신러닝에서 데이터 셋을 k개 분리해서 k-fold validation set을 만듭니다.\n",
    "# k = 3 이라면, 데이터를 3개로 분리해서 2개 셋은 학습, 1개 셋은 테스트로 사용\n",
    "'''\n",
    "3-fold validation set\n",
    "ABC\n",
    "학습 : AB 테스트 : C\n",
    "학습 : BC 테스트 : A\n",
    "학습 : AC 테스트 : B\n",
    "'''\n",
    "np.split(a,2)"
   ]
  },
  {
   "cell_type": "markdown",
   "metadata": {},
   "source": [
    "### 브로드 캐스팅\n",
    "배열의 모양이 서로 다를 때 연산이 가능하게 해주는 기능"
   ]
  },
  {
   "cell_type": "code",
   "execution_count": 56,
   "metadata": {},
   "outputs": [
    {
     "data": {
      "text/plain": [
       "array([ 0,  2,  4,  6,  8, 10, 12, 14, 16, 18])"
      ]
     },
     "execution_count": 56,
     "metadata": {},
     "output_type": "execute_result"
    }
   ],
   "source": [
    "a * 2 # 브로드 캐스팅이 적용 되어서 연산 가능"
   ]
  },
  {
   "cell_type": "code",
   "execution_count": 60,
   "metadata": {},
   "outputs": [
    {
     "data": {
      "text/plain": [
       "array([[ 0,  0,  0],\n",
       "       [10, 10, 10],\n",
       "       [20, 20, 20],\n",
       "       [30, 30, 30]])"
      ]
     },
     "execution_count": 60,
     "metadata": {},
     "output_type": "execute_result"
    }
   ],
   "source": [
    "a = np.array([0,10,20,30])\n",
    "a = np.stack((a,a,a), 1)\n",
    "a"
   ]
  },
  {
   "cell_type": "code",
   "execution_count": 62,
   "metadata": {},
   "outputs": [
    {
     "data": {
      "text/plain": [
       "array([[ 0,  1,  2],\n",
       "       [10, 11, 12],\n",
       "       [20, 21, 22],\n",
       "       [30, 31, 32]])"
      ]
     },
     "execution_count": 62,
     "metadata": {},
     "output_type": "execute_result"
    }
   ],
   "source": [
    "b = np.array([0,1,2])\n",
    "a+b"
   ]
  },
  {
   "cell_type": "code",
   "execution_count": 63,
   "metadata": {},
   "outputs": [
    {
     "data": {
      "text/plain": [
       "((4, 3), (3,))"
      ]
     },
     "execution_count": 63,
     "metadata": {},
     "output_type": "execute_result"
    }
   ],
   "source": [
    "a.shape, b.shape"
   ]
  },
  {
   "cell_type": "code",
   "execution_count": 86,
   "metadata": {},
   "outputs": [
    {
     "data": {
      "text/plain": [
       "array([[ 0],\n",
       "       [10],\n",
       "       [20],\n",
       "       [30]])"
      ]
     },
     "execution_count": 86,
     "metadata": {},
     "output_type": "execute_result"
    }
   ],
   "source": [
    "c = np.array([0,10,20,30]).reshape((4,1))\n",
    "c\n",
    "\n",
    "c = np.arange(4)*10\n",
    "c = c.reshape((-1,1))\n",
    "c"
   ]
  },
  {
   "cell_type": "code",
   "execution_count": 87,
   "metadata": {},
   "outputs": [
    {
     "data": {
      "text/plain": [
       "array([0, 1, 2])"
      ]
     },
     "execution_count": 87,
     "metadata": {},
     "output_type": "execute_result"
    }
   ],
   "source": [
    "d = np.array([0,1,2])\n",
    "d"
   ]
  },
  {
   "cell_type": "code",
   "execution_count": 88,
   "metadata": {},
   "outputs": [
    {
     "data": {
      "text/plain": [
       "array([[ 0,  1,  2],\n",
       "       [10, 11, 12],\n",
       "       [20, 21, 22],\n",
       "       [30, 31, 32]])"
      ]
     },
     "execution_count": 88,
     "metadata": {},
     "output_type": "execute_result"
    }
   ],
   "source": [
    "c+d"
   ]
  },
  {
   "cell_type": "code",
   "execution_count": 90,
   "metadata": {},
   "outputs": [
    {
     "data": {
      "text/plain": [
       "array([[ 0,  0,  0],\n",
       "       [ 0, 10, 20],\n",
       "       [ 0, 20, 40],\n",
       "       [ 0, 30, 60]])"
      ]
     },
     "execution_count": 90,
     "metadata": {},
     "output_type": "execute_result"
    }
   ],
   "source": [
    "c*d"
   ]
  },
  {
   "cell_type": "code",
   "execution_count": 92,
   "metadata": {},
   "outputs": [
    {
     "data": {
      "text/plain": [
       "False"
      ]
     },
     "execution_count": 92,
     "metadata": {},
     "output_type": "execute_result"
    }
   ],
   "source": [
    "7==3"
   ]
  },
  {
   "cell_type": "code",
   "execution_count": 103,
   "metadata": {},
   "outputs": [
    {
     "data": {
      "text/plain": [
       "array([0, 1, 2, 3, 4, 5, 6, 7, 8, 9])"
      ]
     },
     "execution_count": 103,
     "metadata": {},
     "output_type": "execute_result"
    }
   ],
   "source": [
    "a= np.arange(10)\n",
    "a"
   ]
  },
  {
   "cell_type": "code",
   "execution_count": 104,
   "metadata": {},
   "outputs": [
    {
     "data": {
      "text/plain": [
       "array([False, False, False, False, False, False,  True,  True,  True,\n",
       "        True])"
      ]
     },
     "execution_count": 104,
     "metadata": {},
     "output_type": "execute_result"
    }
   ],
   "source": [
    "a > 5"
   ]
  },
  {
   "cell_type": "code",
   "execution_count": 105,
   "metadata": {},
   "outputs": [
    {
     "data": {
      "text/plain": [
       "array([6, 7, 8, 9])"
      ]
     },
     "execution_count": 105,
     "metadata": {},
     "output_type": "execute_result"
    }
   ],
   "source": [
    "b=a>5\n",
    "a[b]"
   ]
  },
  {
   "cell_type": "code",
   "execution_count": 106,
   "metadata": {},
   "outputs": [
    {
     "data": {
      "text/plain": [
       "array([0, 1, 2, 3, 4, 5, 6, 7])"
      ]
     },
     "execution_count": 106,
     "metadata": {},
     "output_type": "execute_result"
    }
   ],
   "source": [
    "a= np.arange(8)\n",
    "b= np.arange(1,3)\n",
    "a"
   ]
  },
  {
   "cell_type": "code",
   "execution_count": 110,
   "metadata": {},
   "outputs": [
    {
     "data": {
      "text/plain": [
       "(False, True)"
      ]
     },
     "execution_count": 110,
     "metadata": {},
     "output_type": "execute_result"
    }
   ],
   "source": [
    "not True, not False"
   ]
  },
  {
   "cell_type": "code",
   "execution_count": 108,
   "metadata": {},
   "outputs": [
    {
     "data": {
      "text/plain": [
       "array([False, False, False,  True,  True,  True,  True,  True])"
      ]
     },
     "execution_count": 108,
     "metadata": {},
     "output_type": "execute_result"
    }
   ],
   "source": [
    "mask = a > 2\n",
    "mask"
   ]
  },
  {
   "cell_type": "code",
   "execution_count": 109,
   "metadata": {},
   "outputs": [
    {
     "data": {
      "text/plain": [
       "array([3, 4, 5, 6, 7])"
      ]
     },
     "execution_count": 109,
     "metadata": {},
     "output_type": "execute_result"
    }
   ],
   "source": [
    "# True인 값만 선택, boolean mask를 이용한 indexing\n",
    "a[mask]"
   ]
  },
  {
   "cell_type": "code",
   "execution_count": 111,
   "metadata": {},
   "outputs": [
    {
     "data": {
      "text/plain": [
       "array([ True,  True,  True, False, False, False, False, False])"
      ]
     },
     "execution_count": 111,
     "metadata": {},
     "output_type": "execute_result"
    }
   ],
   "source": [
    "np.logical_not(mask)"
   ]
  },
  {
   "cell_type": "code",
   "execution_count": 112,
   "metadata": {},
   "outputs": [
    {
     "data": {
      "text/plain": [
       "array([False, False, False,  True,  True,  True,  True,  True])"
      ]
     },
     "execution_count": 112,
     "metadata": {},
     "output_type": "execute_result"
    }
   ],
   "source": [
    "np.logical_and(mask, mask)"
   ]
  },
  {
   "cell_type": "code",
   "execution_count": 113,
   "metadata": {},
   "outputs": [
    {
     "data": {
      "text/plain": [
       "array([0, 1, 2, 3, 4, 5, 6, 7])"
      ]
     },
     "execution_count": 113,
     "metadata": {},
     "output_type": "execute_result"
    }
   ],
   "source": [
    "a"
   ]
  },
  {
   "cell_type": "code",
   "execution_count": 120,
   "metadata": {},
   "outputs": [
    {
     "data": {
      "text/plain": [
       "array([4, 6])"
      ]
     },
     "execution_count": 120,
     "metadata": {},
     "output_type": "execute_result"
    }
   ],
   "source": [
    "# 짝수이면서 2보다 큰 값을 뽑으세요 logical_and, [mask]를 이용해서\n",
    "mask0 = a%2 == 0\n",
    "mask1 = a>2\n",
    "mask0, mask1\n",
    "a[np.logical_and(mask0, mask1)]\n",
    "# a[mask0], a[mask1]"
   ]
  },
  {
   "cell_type": "code",
   "execution_count": 122,
   "metadata": {},
   "outputs": [
    {
     "data": {
      "text/plain": [
       "array([0, 1, 2, 3, 4, 5, 6, 7])"
      ]
     },
     "execution_count": 122,
     "metadata": {},
     "output_type": "execute_result"
    }
   ],
   "source": [
    "np.sort(a)"
   ]
  },
  {
   "cell_type": "code",
   "execution_count": 123,
   "metadata": {},
   "outputs": [
    {
     "data": {
      "text/plain": [
       "array([7, 6, 5, 4, 3, 2, 1, 0])"
      ]
     },
     "execution_count": 123,
     "metadata": {},
     "output_type": "execute_result"
    }
   ],
   "source": [
    "a[::-1]"
   ]
  },
  {
   "cell_type": "markdown",
   "metadata": {},
   "source": [
    "주식 데이터 2개를 받아서 concatenate로 붙이세요\n",
    "- pandas.read_csv()로 파일 읽고\n",
    "- arr0 = np.array(df[ ]) 필요한 숫자 부분만\n",
    "- arr = np.concatenate((arr0, arr1), axis=0)"
   ]
  },
  {
   "cell_type": "code",
   "execution_count": 236,
   "metadata": {},
   "outputs": [
    {
     "data": {
      "text/plain": [
       "array([24763.589844, 24763.589844, 24567.75, 24700.210938, 24700.210938,\n",
       "       376380000], dtype=object)"
      ]
     },
     "execution_count": 236,
     "metadata": {},
     "output_type": "execute_result"
    }
   ],
   "source": [
    "import pandas  # csv 저레벨 라이브러리, pandas 고수준 라이브러리\n",
    "data1 = pandas.read_csv('2017.csv', encoding='cp949')\n",
    "data2 = pandas.read_csv('2018.csv', encoding='cp949')\n",
    "arr1 = np.array(data1)\n",
    "arr2 = np.array(data2)\n",
    "data1.shape, data2.shape\n",
    "arr = np.concatenate((arr1, arr2), 0)\n",
    "arr.shape\n",
    "arr[1,1:]"
   ]
  },
  {
   "cell_type": "markdown",
   "metadata": {},
   "source": [
    "- 각 컬럼의 평균값을 구합니다\n",
    "- 가격 변동(종가-시작가)이 가장 큰때가 언제인지(날짜)를 알고 싶다."
   ]
  },
  {
   "cell_type": "code",
   "execution_count": 237,
   "metadata": {},
   "outputs": [
    {
     "data": {
      "text/plain": [
       "array([    25363,     25496,     25220,     25367,     25367, 310336932])"
      ]
     },
     "execution_count": 237,
     "metadata": {},
     "output_type": "execute_result"
    }
   ],
   "source": [
    "np.mean(arr[:,1:], axis=0).astype(np.int) # 날짜 빼주세요\n",
    "#arr.shape, mean_data.shape\n",
    "#mean_data, mean_data.shape"
   ]
  },
  {
   "cell_type": "code",
   "execution_count": 238,
   "metadata": {},
   "outputs": [
    {
     "data": {
      "text/plain": [
       "(1020.71875, '2018-12-26')"
      ]
     },
     "execution_count": 238,
     "metadata": {},
     "output_type": "execute_result"
    }
   ],
   "source": [
    "Close = arr[:,4]\n",
    "Open = arr[:,1]\n",
    "Gap = np.abs(Close - Open) #절대값을 구하세요. 아니면 가격이 가장 많이 상승한날\n",
    "index = np.argmax(Gap)\n",
    "np.max(Gap), arr[index, 0]"
   ]
  },
  {
   "cell_type": "code",
   "execution_count": 239,
   "metadata": {},
   "outputs": [],
   "source": [
    "# 종가 - 시작\n",
    "# close\n",
    "day = arr[:,0]\n",
    "close_v = arr[:,-3]\n",
    "open_v = arr[:, 1]\n",
    "vol = arr[:, -1]\n",
    "gap = close_v- open_v"
   ]
  },
  {
   "cell_type": "markdown",
   "metadata": {},
   "source": [
    "## 4장 기본 그래프 그리기 p.55"
   ]
  },
  {
   "cell_type": "code",
   "execution_count": 205,
   "metadata": {},
   "outputs": [],
   "source": [
    "import matplotlib.pyplot as plt"
   ]
  },
  {
   "cell_type": "code",
   "execution_count": 208,
   "metadata": {},
   "outputs": [
    {
     "data": {
      "text/plain": [
       "[<matplotlib.lines.Line2D at 0x262c6493d30>]"
      ]
     },
     "execution_count": 208,
     "metadata": {},
     "output_type": "execute_result"
    },
    {
     "data": {
      "image/png": "[encoded data removed]",
      "text/plain": [
       "<Figure size 432x288 with 1 Axes>"
      ]
     },
     "metadata": {
      "needs_background": "light"
     },
     "output_type": "display_data"
    }
   ],
   "source": [
    "plt.plot([10,20,30,40])\n",
    "# plt.show() # print 안해도 출력되듯이 show() 하지 않아도 그려집니다."
   ]
  },
  {
   "cell_type": "code",
   "execution_count": 214,
   "metadata": {},
   "outputs": [],
   "source": [
    "# 그림을 이 문서 안에 그려라, 불필요한 문구\n",
    "%matplotlib inline"
   ]
  },
  {
   "cell_type": "code",
   "execution_count": 253,
   "metadata": {},
   "outputs": [
    {
     "data": {
      "text/plain": [
       "Text(0.5, 1.0, 'Graph title')"
      ]
     },
     "execution_count": 253,
     "metadata": {},
     "output_type": "execute_result"
    },
    {
     "data": {
      "image/png": "[encoded data removed]",
      "text/plain": [
       "<Figure size 432x288 with 1 Axes>"
      ]
     },
     "metadata": {
      "needs_background": "light"
     },
     "output_type": "display_data"
    }
   ],
   "source": [
    "# 한 셀에서 여러번 plot 하면 그래프가 겹쳐집니다\n",
    "plt.plot([1,2,3,4],[12,43,25,15],'r.', label='A') #마커모양을 바꾸면 점으로 표현\n",
    "plt.plot([1,2,3,4],[20,44,55,10],label='B', color='red', linestyle=':')\n",
    "plt.plot([1,5,10,60],'g^', label='C', linestyle='--')\n",
    "plt.legend(loc=4)#범례 그려라 p61\n",
    "plt.title('Graph title')"
   ]
  },
  {
   "cell_type": "code",
   "execution_count": 235,
   "metadata": {},
   "outputs": [
    {
     "data": {
      "text/plain": [
       "array([24763.589844, 24763.589844, 24567.75, 24700.210938, 24700.210938,\n",
       "       376380000], dtype=object)"
      ]
     },
     "execution_count": 235,
     "metadata": {},
     "output_type": "execute_result"
    }
   ],
   "source": [
    "import pandas  # csv 저레벨 라이브러리, pandas 고수준 라이브러리\n",
    "data1 = pandas.read_csv('2017.csv', encoding='cp949')\n",
    "data2 = pandas.read_csv('2018.csv', encoding='cp949')\n",
    "arr1 = np.array(data1)\n",
    "arr2 = np.array(data2)\n",
    "data1.shape, data2.shape\n",
    "arr = np.concatenate((arr1, arr2), 0)\n",
    "arr.shape\n",
    "arr[1,1:]"
   ]
  },
  {
   "cell_type": "code",
   "execution_count": 251,
   "metadata": {},
   "outputs": [
    {
     "data": {
      "text/plain": [
       "[<matplotlib.lines.Line2D at 0x262cd464a58>]"
      ]
     },
     "execution_count": 251,
     "metadata": {},
     "output_type": "execute_result"
    },
    {
     "data": {
      "image/png": "[encoded data removed]",
      "text/plain": [
       "<Figure size 432x288 with 1 Axes>"
      ]
     },
     "metadata": {
      "needs_background": "light"
     },
     "output_type": "display_data"
    }
   ],
   "source": [
    "#arr1[:,1]\n",
    "open = arr1[:,1]\n",
    "High = arr1[:,2]\n",
    "Low = arr1[:,3]\n",
    "Close = arr1[:,4]\n",
    "Vol = arr1[:,-1]\n",
    "\n",
    "plt.plot(open, linestyle='--',label='A', color='black') # (X, Y) #open\n",
    "plt.plot(High, label='B', color='blue') # (X, Y) #open\n",
    "plt.plot(Low, label='C', color='red') # (X, Y) #open\n",
    "#plt.plot([1,2,3,4], [20,44,55,10],label='B', color='red') # (X, Y)"
   ]
  },
  {
   "cell_type": "code",
   "execution_count": null,
   "metadata": {},
   "outputs": [],
   "source": []
  }
 ],
 "metadata": {
  "kernelspec": {
   "display_name": "Python 3",
   "language": "python",
   "name": "python3"
  },
  "language_info": {
   "codemirror_mode": {
    "name": "ipython",
    "version": 3
   },
   "file_extension": ".py",
   "mimetype": "text/x-python",
   "name": "python",
   "nbconvert_exporter": "python",
   "pygments_lexer": "ipython3",
   "version": "3.7.3"
  }
 },
 "nbformat": 4,
 "nbformat_minor": 2
}
