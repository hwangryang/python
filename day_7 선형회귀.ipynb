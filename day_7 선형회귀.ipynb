{
 "cells": [
  {
   "cell_type": "markdown",
   "metadata": {},
   "source": [
    "# 76 선형 회귀 모델\n",
    "- 데이터를 선형 함수로 모델링\n",
    "- 최소제곱법 : 평균제곱오차를 최소화하는 파라미터를 찾는다\n",
    "    - 파라미터를 줄이고 키우고를 반복한다(예시)\n",
    "    - 오차를 파라미터로 미분한 값만큼 조절을 반복한다(경사하강법)\n",
    "    - 정규방정식으로 찾기(데이터가 많아지면 메모리 부족으로 사용 불가)\n",
    "- 평균제곱오차 : 오차(예측과 정답의 차이)를 제곱 후 모든 샘플들의 오차를 평균"
   ]
  },
  {
   "cell_type": "code",
   "execution_count": 4,
   "metadata": {},
   "outputs": [],
   "source": [
    "import numpy as np\n",
    "import pandas as pd\n",
    "import matplotlib.pyplot as plt\n",
    "import mglearn"
   ]
  },
  {
   "cell_type": "code",
   "execution_count": 6,
   "metadata": {},
   "outputs": [],
   "source": [
    "# 키와 몸무게, 몸무게로부터 키를 예측해보자\n",
    "몸무게 = [30,60,70,90]\n",
    "키 = [120,160,170,190]\n",
    "몸무게_test = [65, 80] # 이 두사람의 키는 어떻게 될까? "
   ]
  },
  {
   "cell_type": "code",
   "execution_count": 15,
   "metadata": {},
   "outputs": [],
   "source": [
    "몸무게 = np.array(몸무게).reshape((-1,1))\n",
    "키 = np.array(키)\n",
    "몸무게_test = np.array(몸무게_test).reshape((-1,1))"
   ]
  },
  {
   "cell_type": "code",
   "execution_count": 20,
   "metadata": {},
   "outputs": [
    {
     "data": {
      "text/plain": [
       "LinearRegression(copy_X=True, fit_intercept=True, n_jobs=None,\n",
       "         normalize=False)"
      ]
     },
     "execution_count": 20,
     "metadata": {},
     "output_type": "execute_result"
    }
   ],
   "source": [
    "# 76 모델 선택\n",
    "from sklearn.linear_model import LinearRegression\n",
    "lr = LinearRegression()\n",
    "lr.fit(X=몸무게, y=키) # w와 b를 조절하는것 , Y = w*x + b"
   ]
  },
  {
   "cell_type": "code",
   "execution_count": 21,
   "metadata": {},
   "outputs": [
    {
     "data": {
      "text/plain": [
       "(array([[65],\n",
       "        [80]]), array([162.93333333, 180.53333333]))"
      ]
     },
     "execution_count": 21,
     "metadata": {},
     "output_type": "execute_result"
    }
   ],
   "source": [
    "몸무게_test, lr.predict(몸무게_test)"
   ]
  },
  {
   "cell_type": "code",
   "execution_count": 23,
   "metadata": {},
   "outputs": [
    {
     "data": {
      "text/plain": [
       "0.9928205128205129"
      ]
     },
     "execution_count": 23,
     "metadata": {},
     "output_type": "execute_result"
    }
   ],
   "source": [
    "lr.score(몸무게, 키) # 결정계수 max 1"
   ]
  },
  {
   "cell_type": "code",
   "execution_count": 25,
   "metadata": {},
   "outputs": [
    {
     "data": {
      "text/plain": [
       "(array([1.17333333]), 86.66666666666667)"
      ]
     },
     "execution_count": 25,
     "metadata": {},
     "output_type": "execute_result"
    }
   ],
   "source": [
    "# 계수 w와 절편 b,  Y = wx + b = 1,17*x + 86.6\n",
    "lr.coef_, lr.intercept_\n"
   ]
  },
  {
   "cell_type": "code",
   "execution_count": 26,
   "metadata": {},
   "outputs": [
    {
     "data": {
      "text/plain": [
       "array([[121.86666667],\n",
       "       [157.06666667],\n",
       "       [168.8       ],\n",
       "       [192.26666667]])"
      ]
     },
     "execution_count": 26,
     "metadata": {},
     "output_type": "execute_result"
    }
   ],
   "source": [
    "lr.coef_ * 몸무게 + lr.intercept_"
   ]
  },
  {
   "cell_type": "code",
   "execution_count": 27,
   "metadata": {},
   "outputs": [
    {
     "data": {
      "text/plain": [
       "array([120, 160, 170, 190])"
      ]
     },
     "execution_count": 27,
     "metadata": {},
     "output_type": "execute_result"
    }
   ],
   "source": [
    "키"
   ]
  },
  {
   "cell_type": "markdown",
   "metadata": {},
   "source": [
    "## LinerRegression 으로 내일의 종가 예측\n",
    "- 입력(X:하루 전 데이터), 출력(Y:다음 날의 종가)\n",
    "- 데이터 총 m = 10, 학습용 8, 테스트 2\n",
    "- 정규화는 생략\n",
    "- "
   ]
  },
  {
   "cell_type": "code",
   "execution_count": 110,
   "metadata": {},
   "outputs": [
    {
     "data": {
      "text/plain": [
       "3"
      ]
     },
     "execution_count": 110,
     "metadata": {},
     "output_type": "execute_result"
    }
   ],
   "source": [
    "url='https://finance.daum.net/domestic/kospi200'\n",
    "url='코스피200 _ 다음 금융.html'#웹페이지를 다른 이름으로 저장\n",
    "tables = pd.read_html(url, index_col=0)\n",
    "len(tables)"
   ]
  },
  {
   "cell_type": "code",
   "execution_count": 111,
   "metadata": {},
   "outputs": [],
   "source": [
    "df =tables[1]"
   ]
  },
  {
   "cell_type": "code",
   "execution_count": 112,
   "metadata": {},
   "outputs": [],
   "source": [
    "#전일비와 등락률을 수치데이터로 변환\n",
    "df['전일비'] = df['전일비'].replace('▼','-',regex=True)\n",
    "df['전일비'] = df['전일비'].replace('▲','',regex=True)\n",
    "df['등락률'] = df['등락률'].replace('%','',regex=True)\n",
    "df['전일비'] = df['전일비'].astype(np.float) # 실수 변환\n",
    "df['등락률'] = df['등락률'].astype(np.float)"
   ]
  },
  {
   "cell_type": "code",
   "execution_count": 131,
   "metadata": {},
   "outputs": [
    {
     "data": {
      "text/html": [
       "<div>\n",
       "<style scoped>\n",
       "    .dataframe tbody tr th:only-of-type {\n",
       "        vertical-align: middle;\n",
       "    }\n",
       "\n",
       "    .dataframe tbody tr th {\n",
       "        vertical-align: top;\n",
       "    }\n",
       "\n",
       "    .dataframe thead th {\n",
       "        text-align: right;\n",
       "    }\n",
       "</style>\n",
       "<table border=\"1\" class=\"dataframe\">\n",
       "  <thead>\n",
       "    <tr style=\"text-align: right;\">\n",
       "      <th></th>\n",
       "      <th>종가</th>\n",
       "      <th>전일비</th>\n",
       "      <th>등락률</th>\n",
       "      <th>거래량</th>\n",
       "      <th>거래대금</th>\n",
       "      <th>개인(억)</th>\n",
       "      <th>외국인(억)</th>\n",
       "      <th>기관(억)</th>\n",
       "    </tr>\n",
       "    <tr>\n",
       "      <th>일자</th>\n",
       "      <th></th>\n",
       "      <th></th>\n",
       "      <th></th>\n",
       "      <th></th>\n",
       "      <th></th>\n",
       "      <th></th>\n",
       "      <th></th>\n",
       "      <th></th>\n",
       "    </tr>\n",
       "  </thead>\n",
       "  <tbody>\n",
       "    <tr>\n",
       "      <th>19.07.02</th>\n",
       "      <td>0.647773</td>\n",
       "      <td>0.031250</td>\n",
       "      <td>0.030303</td>\n",
       "      <td>0.000000</td>\n",
       "      <td>0.000000</td>\n",
       "      <td>0.949879</td>\n",
       "      <td>0.304016</td>\n",
       "      <td>0.203663</td>\n",
       "    </tr>\n",
       "    <tr>\n",
       "      <th>19.07.01</th>\n",
       "      <td>0.805668</td>\n",
       "      <td>0.066964</td>\n",
       "      <td>0.066667</td>\n",
       "      <td>0.943871</td>\n",
       "      <td>1.000000</td>\n",
       "      <td>0.848631</td>\n",
       "      <td>0.575018</td>\n",
       "      <td>0.431188</td>\n",
       "    </tr>\n",
       "    <tr>\n",
       "      <th>19.06.28</th>\n",
       "      <td>0.898785</td>\n",
       "      <td>0.062500</td>\n",
       "      <td>0.060606</td>\n",
       "      <td>0.814038</td>\n",
       "      <td>0.774216</td>\n",
       "      <td>0.528986</td>\n",
       "      <td>1.000000</td>\n",
       "      <td>0.000000</td>\n",
       "    </tr>\n",
       "    <tr>\n",
       "      <th>19.06.27</th>\n",
       "      <td>1.000000</td>\n",
       "      <td>0.613839</td>\n",
       "      <td>0.606061</td>\n",
       "      <td>0.789162</td>\n",
       "      <td>0.964773</td>\n",
       "      <td>0.053341</td>\n",
       "      <td>0.710766</td>\n",
       "      <td>1.000000</td>\n",
       "    </tr>\n",
       "    <tr>\n",
       "      <th>19.06.26</th>\n",
       "      <td>0.101215</td>\n",
       "      <td>0.174107</td>\n",
       "      <td>0.169697</td>\n",
       "      <td>0.645383</td>\n",
       "      <td>0.677351</td>\n",
       "      <td>0.748390</td>\n",
       "      <td>0.296871</td>\n",
       "      <td>0.484462</td>\n",
       "    </tr>\n",
       "    <tr>\n",
       "      <th>19.06.25</th>\n",
       "      <td>0.000000</td>\n",
       "      <td>0.051339</td>\n",
       "      <td>0.048485</td>\n",
       "      <td>0.677808</td>\n",
       "      <td>0.676816</td>\n",
       "      <td>0.818438</td>\n",
       "      <td>0.326435</td>\n",
       "      <td>0.326582</td>\n",
       "    </tr>\n",
       "    <tr>\n",
       "      <th>19.06.24</th>\n",
       "      <td>0.121457</td>\n",
       "      <td>0.140625</td>\n",
       "      <td>0.139394</td>\n",
       "      <td>0.582397</td>\n",
       "      <td>0.517383</td>\n",
       "      <td>0.694847</td>\n",
       "      <td>0.000000</td>\n",
       "      <td>0.875416</td>\n",
       "    </tr>\n",
       "    <tr>\n",
       "      <th>19.06.21</th>\n",
       "      <td>0.080972</td>\n",
       "      <td>0.000000</td>\n",
       "      <td>0.000000</td>\n",
       "      <td>1.000000</td>\n",
       "      <td>0.932104</td>\n",
       "      <td>1.000000</td>\n",
       "      <td>0.308943</td>\n",
       "      <td>0.117092</td>\n",
       "    </tr>\n",
       "    <tr>\n",
       "      <th>19.06.20</th>\n",
       "      <td>0.295547</td>\n",
       "      <td>0.274554</td>\n",
       "      <td>0.266667</td>\n",
       "      <td>0.578497</td>\n",
       "      <td>0.590197</td>\n",
       "      <td>0.621578</td>\n",
       "      <td>0.151269</td>\n",
       "      <td>0.818812</td>\n",
       "    </tr>\n",
       "    <tr>\n",
       "      <th>19.06.19</th>\n",
       "      <td>0.012146</td>\n",
       "      <td>1.000000</td>\n",
       "      <td>1.000000</td>\n",
       "      <td>0.855049</td>\n",
       "      <td>0.875707</td>\n",
       "      <td>0.000000</td>\n",
       "      <td>0.966741</td>\n",
       "      <td>0.775527</td>\n",
       "    </tr>\n",
       "  </tbody>\n",
       "</table>\n",
       "</div>"
      ],
      "text/plain": [
       "                종가       전일비       등락률       거래량      거래대금     개인(억)  \\\n",
       "일자                                                                     \n",
       "19.07.02  0.647773  0.031250  0.030303  0.000000  0.000000  0.949879   \n",
       "19.07.01  0.805668  0.066964  0.066667  0.943871  1.000000  0.848631   \n",
       "19.06.28  0.898785  0.062500  0.060606  0.814038  0.774216  0.528986   \n",
       "19.06.27  1.000000  0.613839  0.606061  0.789162  0.964773  0.053341   \n",
       "19.06.26  0.101215  0.174107  0.169697  0.645383  0.677351  0.748390   \n",
       "19.06.25  0.000000  0.051339  0.048485  0.677808  0.676816  0.818438   \n",
       "19.06.24  0.121457  0.140625  0.139394  0.582397  0.517383  0.694847   \n",
       "19.06.21  0.080972  0.000000  0.000000  1.000000  0.932104  1.000000   \n",
       "19.06.20  0.295547  0.274554  0.266667  0.578497  0.590197  0.621578   \n",
       "19.06.19  0.012146  1.000000  1.000000  0.855049  0.875707  0.000000   \n",
       "\n",
       "            외국인(억)     기관(억)  \n",
       "일자                            \n",
       "19.07.02  0.304016  0.203663  \n",
       "19.07.01  0.575018  0.431188  \n",
       "19.06.28  1.000000  0.000000  \n",
       "19.06.27  0.710766  1.000000  \n",
       "19.06.26  0.296871  0.484462  \n",
       "19.06.25  0.326435  0.326582  \n",
       "19.06.24  0.000000  0.875416  \n",
       "19.06.21  0.308943  0.117092  \n",
       "19.06.20  0.151269  0.818812  \n",
       "19.06.19  0.966741  0.775527  "
      ]
     },
     "execution_count": 131,
     "metadata": {},
     "output_type": "execute_result"
    }
   ],
   "source": [
    "# min max 정규화 [0,1]\n",
    "minimum = np.min(df, axis=0)\n",
    "maxmum = np.max(df, axis=0)\n",
    "df_norm = (df - minimum) / (maxmum - minimum)\n",
    "df_norm"
   ]
  },
  {
   "cell_type": "code",
   "execution_count": 115,
   "metadata": {},
   "outputs": [
    {
     "data": {
      "text/plain": [
       "((9, 8), (9,))"
      ]
     },
     "execution_count": 115,
     "metadata": {},
     "output_type": "execute_result"
    }
   ],
   "source": [
    "# 입력X(하루전 데이터) 와 출력Y(다음날 데이터) 분리\n",
    "X = df_norm.iloc[1:] # 오늘 데이터 제외\n",
    "y = df_norm.iloc[:-1,0] # 가장 오래된 데이터와 종가 외의 컬럼 제외\n",
    "\n",
    "X.shape, y.shape\n"
   ]
  },
  {
   "cell_type": "code",
   "execution_count": 134,
   "metadata": {},
   "outputs": [],
   "source": [
    "# Train / Test 용 분리\n",
    "from sklearn.model_selection import train_test_split\n",
    "offset = 2\n",
    "X_train = X[offset:] #예전\n",
    "X_test = X[:offset] # 최근\n",
    "y_train = y[offset:] # 예전\n",
    "y_test = y[:offset] # 최근\n",
    "\n",
    "#X_train, X_test, y_train, y_test = train_test_split(X, y, random_state=42)"
   ]
  },
  {
   "cell_type": "code",
   "execution_count": 142,
   "metadata": {},
   "outputs": [],
   "source": [
    "# train 셋으로 Liner Regression 모델\n",
    "#78 릿지(ridge) 모델 : w를 가능한한 작게 만드는 LinearRegression\n",
    "    # 규제(resularizaion) - Lasso : L1(abs), Ridge : L2(square)\n",
    "    # 라쏘 : 몇가지 특징만 사용해서 Y를 예측하고 싶을 때\n",
    "# w를 줄인다는것은 Y를 예측하는데 가능한한 모든 특성을 반영해라\n",
    "# Y = w1*x1 + w2*x2 + ..... wi*xi + b \n",
    "\n",
    "from sklearn.linear_model import LinearRegression, Ridge, Lasso\n",
    "lr = Lasso().fit(X_train, y_train)\n",
    "# alpha(규제) : 기본값 1, 클수로 w는 줄어듬\n",
    "#X_train, y.train)"
   ]
  },
  {
   "cell_type": "code",
   "execution_count": 140,
   "metadata": {},
   "outputs": [
    {
     "data": {
      "text/plain": [
       "(0.0, -21.949053388615212)"
      ]
     },
     "execution_count": 140,
     "metadata": {},
     "output_type": "execute_result"
    }
   ],
   "source": [
    "# w와 b를 조절하는것 , Y = w*x + b# score 측정\n",
    "lr.score(X_train, y_train), lr.score(X_test, y_test)"
   ]
  },
  {
   "cell_type": "code",
   "execution_count": 141,
   "metadata": {},
   "outputs": [
    {
     "data": {
      "text/plain": [
       "<matplotlib.legend.Legend at 0x1b84af4cdd8>"
      ]
     },
     "execution_count": 141,
     "metadata": {},
     "output_type": "execute_result"
    },
    {
     "data": {
      "image/png": "[encoded data removed]",
      "text/plain": [
       "<Figure size 432x288 with 1 Axes>"
      ]
     },
     "metadata": {
      "needs_background": "light"
     },
     "output_type": "display_data"
    }
   ],
   "source": [
    "\n",
    "#예측을 그래프로 시각화\n",
    "train_len = np.arange(len(X_train))\n",
    "test_len = np.arange(len(X_train), len(X_train) + len(X_test))\n",
    "plt.plot(train_len, lr.predict(X_train), label='train_x')\n",
    "plt.plot(train_len, y_train, label='train_y')\n",
    "plt.plot(test_len, lr.predict(X_test), label='test_x')\n",
    "plt.plot(test_len, y_test, label='test_y')\n",
    "plt.legend()"
   ]
  },
  {
   "cell_type": "code",
   "execution_count": null,
   "metadata": {},
   "outputs": [],
   "source": []
  },
  {
   "cell_type": "code",
   "execution_count": 157,
   "metadata": {},
   "outputs": [
    {
     "data": {
      "text/plain": [
       "(494, 8)"
      ]
     },
     "execution_count": 157,
     "metadata": {},
     "output_type": "execute_result"
    }
   ],
   "source": [
    "f = 'test.csv'\n",
    "df = pd.read_csv(f, encoding = 'cp949', index_col=0, header=1)\n",
    "df.shape"
   ]
  },
  {
   "cell_type": "code",
   "execution_count": 158,
   "metadata": {},
   "outputs": [],
   "source": [
    "## 데이터 정제()"
   ]
  },
  {
   "cell_type": "code",
   "execution_count": 171,
   "metadata": {},
   "outputs": [],
   "source": [
    "df4 = df.iloc[:, :4]\n",
    "df4 = df4.dropna() # NaN 하나라도 있으면 그 행을 버린다"
   ]
  },
  {
   "cell_type": "code",
   "execution_count": 175,
   "metadata": {},
   "outputs": [],
   "source": [
    "# 전처리 ( 문자 > 숫자)"
   ]
  },
  {
   "cell_type": "code",
   "execution_count": 176,
   "metadata": {},
   "outputs": [
    {
     "name": "stdout",
     "output_type": "stream",
     "text": [
      "<class 'pandas.core.frame.DataFrame'>\n",
      "Index: 248 entries, 2019.07.02 to 2018.06.29\n",
      "Data columns (total 4 columns):\n",
      "보내실때    248 non-null float64\n",
      "받으실때    248 non-null float64\n",
      "사실때     248 non-null float64\n",
      "파실때     248 non-null float64\n",
      "dtypes: float64(4)\n",
      "memory usage: 9.7+ KB\n"
     ]
    }
   ],
   "source": [
    "df4.info() # 데이터 형 확인"
   ]
  },
  {
   "cell_type": "code",
   "execution_count": 177,
   "metadata": {},
   "outputs": [],
   "source": [
    "df4 = df4.replace(',','',regex=True)\n",
    "df4 = df4.astype(np.float)"
   ]
  },
  {
   "cell_type": "code",
   "execution_count": 180,
   "metadata": {},
   "outputs": [
    {
     "data": {
      "text/plain": [
       "<matplotlib.axes._subplots.AxesSubplot at 0x1b84c6af9b0>"
      ]
     },
     "execution_count": 180,
     "metadata": {},
     "output_type": "execute_result"
    },
    {
     "data": {
      "image/png": "[encoded data removed]",
      "text/plain": [
       "<Figure size 432x288 with 1 Axes>"
      ]
     },
     "metadata": {
      "needs_background": "light"
     },
     "output_type": "display_data"
    }
   ],
   "source": [
    "plt.rc('font', family = 'Malgun Gothic')\n",
    "df4.iloc[::-1].plot()"
   ]
  },
  {
   "cell_type": "code",
   "execution_count": 305,
   "metadata": {},
   "outputs": [
    {
     "data": {
      "text/html": [
       "<div>\n",
       "<style scoped>\n",
       "    .dataframe tbody tr th:only-of-type {\n",
       "        vertical-align: middle;\n",
       "    }\n",
       "\n",
       "    .dataframe tbody tr th {\n",
       "        vertical-align: top;\n",
       "    }\n",
       "\n",
       "    .dataframe thead th {\n",
       "        text-align: right;\n",
       "    }\n",
       "</style>\n",
       "<table border=\"1\" class=\"dataframe\">\n",
       "  <thead>\n",
       "    <tr style=\"text-align: right;\">\n",
       "      <th></th>\n",
       "      <th>원자료</th>\n",
       "      <th>원자료.1</th>\n",
       "    </tr>\n",
       "    <tr>\n",
       "      <th>변환</th>\n",
       "      <th></th>\n",
       "      <th></th>\n",
       "    </tr>\n",
       "  </thead>\n",
       "  <tbody>\n",
       "    <tr>\n",
       "      <th>2018/06/29</th>\n",
       "      <td>1121.7</td>\n",
       "      <td>1014.79</td>\n",
       "    </tr>\n",
       "    <tr>\n",
       "      <th>2018/06/30</th>\n",
       "      <td>NaN</td>\n",
       "      <td>NaN</td>\n",
       "    </tr>\n",
       "    <tr>\n",
       "      <th>2018/07/01</th>\n",
       "      <td>NaN</td>\n",
       "      <td>NaN</td>\n",
       "    </tr>\n",
       "    <tr>\n",
       "      <th>2018/07/02</th>\n",
       "      <td>1117.2</td>\n",
       "      <td>1009.26</td>\n",
       "    </tr>\n",
       "    <tr>\n",
       "      <th>2018/07/03</th>\n",
       "      <td>1117.4</td>\n",
       "      <td>1008.26</td>\n",
       "    </tr>\n",
       "    <tr>\n",
       "      <th>2018/07/04</th>\n",
       "      <td>1121.1</td>\n",
       "      <td>1014.34</td>\n",
       "    </tr>\n",
       "    <tr>\n",
       "      <th>2018/07/05</th>\n",
       "      <td>1115.3</td>\n",
       "      <td>1009.55</td>\n",
       "    </tr>\n",
       "    <tr>\n",
       "      <th>2018/07/06</th>\n",
       "      <td>1118.4</td>\n",
       "      <td>1010.85</td>\n",
       "    </tr>\n",
       "    <tr>\n",
       "      <th>2018/07/07</th>\n",
       "      <td>NaN</td>\n",
       "      <td>NaN</td>\n",
       "    </tr>\n",
       "    <tr>\n",
       "      <th>2018/07/08</th>\n",
       "      <td>NaN</td>\n",
       "      <td>NaN</td>\n",
       "    </tr>\n",
       "    <tr>\n",
       "      <th>2018/07/09</th>\n",
       "      <td>1117.8</td>\n",
       "      <td>1012.22</td>\n",
       "    </tr>\n",
       "    <tr>\n",
       "      <th>2018/07/10</th>\n",
       "      <td>1112.3</td>\n",
       "      <td>1003.20</td>\n",
       "    </tr>\n",
       "    <tr>\n",
       "      <th>2018/07/11</th>\n",
       "      <td>1113.8</td>\n",
       "      <td>1004.28</td>\n",
       "    </tr>\n",
       "    <tr>\n",
       "      <th>2018/07/12</th>\n",
       "      <td>1120.8</td>\n",
       "      <td>1001.16</td>\n",
       "    </tr>\n",
       "    <tr>\n",
       "      <th>2018/07/13</th>\n",
       "      <td>1127.8</td>\n",
       "      <td>1001.55</td>\n",
       "    </tr>\n",
       "    <tr>\n",
       "      <th>2018/07/14</th>\n",
       "      <td>NaN</td>\n",
       "      <td>NaN</td>\n",
       "    </tr>\n",
       "    <tr>\n",
       "      <th>2018/07/15</th>\n",
       "      <td>NaN</td>\n",
       "      <td>NaN</td>\n",
       "    </tr>\n",
       "    <tr>\n",
       "      <th>2018/07/16</th>\n",
       "      <td>1123.4</td>\n",
       "      <td>999.07</td>\n",
       "    </tr>\n",
       "    <tr>\n",
       "      <th>2018/07/17</th>\n",
       "      <td>1128.7</td>\n",
       "      <td>1004.63</td>\n",
       "    </tr>\n",
       "    <tr>\n",
       "      <th>2018/07/18</th>\n",
       "      <td>1125.2</td>\n",
       "      <td>995.84</td>\n",
       "    </tr>\n",
       "    <tr>\n",
       "      <th>2018/07/19</th>\n",
       "      <td>1128.9</td>\n",
       "      <td>1000.31</td>\n",
       "    </tr>\n",
       "    <tr>\n",
       "      <th>2018/07/20</th>\n",
       "      <td>1131.2</td>\n",
       "      <td>1005.91</td>\n",
       "    </tr>\n",
       "    <tr>\n",
       "      <th>2018/07/21</th>\n",
       "      <td>NaN</td>\n",
       "      <td>NaN</td>\n",
       "    </tr>\n",
       "    <tr>\n",
       "      <th>2018/07/22</th>\n",
       "      <td>NaN</td>\n",
       "      <td>NaN</td>\n",
       "    </tr>\n",
       "    <tr>\n",
       "      <th>2018/07/23</th>\n",
       "      <td>1134.8</td>\n",
       "      <td>1019.91</td>\n",
       "    </tr>\n",
       "    <tr>\n",
       "      <th>2018/07/24</th>\n",
       "      <td>1128.5</td>\n",
       "      <td>1012.79</td>\n",
       "    </tr>\n",
       "    <tr>\n",
       "      <th>2018/07/25</th>\n",
       "      <td>1135.2</td>\n",
       "      <td>1020.63</td>\n",
       "    </tr>\n",
       "    <tr>\n",
       "      <th>2018/07/26</th>\n",
       "      <td>1127.5</td>\n",
       "      <td>1016.73</td>\n",
       "    </tr>\n",
       "    <tr>\n",
       "      <th>2018/07/27</th>\n",
       "      <td>1119.6</td>\n",
       "      <td>1006.52</td>\n",
       "    </tr>\n",
       "    <tr>\n",
       "      <th>2018/07/28</th>\n",
       "      <td>NaN</td>\n",
       "      <td>NaN</td>\n",
       "    </tr>\n",
       "    <tr>\n",
       "      <th>...</th>\n",
       "      <td>...</td>\n",
       "      <td>...</td>\n",
       "    </tr>\n",
       "    <tr>\n",
       "      <th>2019/06/03</th>\n",
       "      <td>1191.2</td>\n",
       "      <td>1100.36</td>\n",
       "    </tr>\n",
       "    <tr>\n",
       "      <th>2019/06/04</th>\n",
       "      <td>1183.0</td>\n",
       "      <td>1095.62</td>\n",
       "    </tr>\n",
       "    <tr>\n",
       "      <th>2019/06/05</th>\n",
       "      <td>1181.5</td>\n",
       "      <td>1091.81</td>\n",
       "    </tr>\n",
       "    <tr>\n",
       "      <th>2019/06/06</th>\n",
       "      <td>NaN</td>\n",
       "      <td>NaN</td>\n",
       "    </tr>\n",
       "    <tr>\n",
       "      <th>2019/06/07</th>\n",
       "      <td>1179.8</td>\n",
       "      <td>1087.87</td>\n",
       "    </tr>\n",
       "    <tr>\n",
       "      <th>2019/06/08</th>\n",
       "      <td>NaN</td>\n",
       "      <td>NaN</td>\n",
       "    </tr>\n",
       "    <tr>\n",
       "      <th>2019/06/09</th>\n",
       "      <td>NaN</td>\n",
       "      <td>NaN</td>\n",
       "    </tr>\n",
       "    <tr>\n",
       "      <th>2019/06/10</th>\n",
       "      <td>1179.5</td>\n",
       "      <td>1087.55</td>\n",
       "    </tr>\n",
       "    <tr>\n",
       "      <th>2019/06/11</th>\n",
       "      <td>1184.0</td>\n",
       "      <td>1092.10</td>\n",
       "    </tr>\n",
       "    <tr>\n",
       "      <th>2019/06/12</th>\n",
       "      <td>1181.7</td>\n",
       "      <td>1088.67</td>\n",
       "    </tr>\n",
       "    <tr>\n",
       "      <th>2019/06/13</th>\n",
       "      <td>1181.7</td>\n",
       "      <td>1089.38</td>\n",
       "    </tr>\n",
       "    <tr>\n",
       "      <th>2019/06/14</th>\n",
       "      <td>1184.7</td>\n",
       "      <td>1093.45</td>\n",
       "    </tr>\n",
       "    <tr>\n",
       "      <th>2019/06/15</th>\n",
       "      <td>NaN</td>\n",
       "      <td>NaN</td>\n",
       "    </tr>\n",
       "    <tr>\n",
       "      <th>2019/06/16</th>\n",
       "      <td>NaN</td>\n",
       "      <td>NaN</td>\n",
       "    </tr>\n",
       "    <tr>\n",
       "      <th>2019/06/17</th>\n",
       "      <td>1184.0</td>\n",
       "      <td>1090.79</td>\n",
       "    </tr>\n",
       "    <tr>\n",
       "      <th>2019/06/18</th>\n",
       "      <td>1186.3</td>\n",
       "      <td>1092.81</td>\n",
       "    </tr>\n",
       "    <tr>\n",
       "      <th>2019/06/19</th>\n",
       "      <td>1185.0</td>\n",
       "      <td>1092.12</td>\n",
       "    </tr>\n",
       "    <tr>\n",
       "      <th>2019/06/20</th>\n",
       "      <td>1177.0</td>\n",
       "      <td>1089.16</td>\n",
       "    </tr>\n",
       "    <tr>\n",
       "      <th>2019/06/21</th>\n",
       "      <td>1167.7</td>\n",
       "      <td>1087.90</td>\n",
       "    </tr>\n",
       "    <tr>\n",
       "      <th>2019/06/22</th>\n",
       "      <td>NaN</td>\n",
       "      <td>NaN</td>\n",
       "    </tr>\n",
       "    <tr>\n",
       "      <th>2019/06/23</th>\n",
       "      <td>NaN</td>\n",
       "      <td>NaN</td>\n",
       "    </tr>\n",
       "    <tr>\n",
       "      <th>2019/06/24</th>\n",
       "      <td>1162.0</td>\n",
       "      <td>1082.19</td>\n",
       "    </tr>\n",
       "    <tr>\n",
       "      <th>2019/06/25</th>\n",
       "      <td>1157.9</td>\n",
       "      <td>1078.97</td>\n",
       "    </tr>\n",
       "    <tr>\n",
       "      <th>2019/06/26</th>\n",
       "      <td>1154.7</td>\n",
       "      <td>1077.35</td>\n",
       "    </tr>\n",
       "    <tr>\n",
       "      <th>2019/06/27</th>\n",
       "      <td>1158.2</td>\n",
       "      <td>1075.00</td>\n",
       "    </tr>\n",
       "    <tr>\n",
       "      <th>2019/06/28</th>\n",
       "      <td>1156.8</td>\n",
       "      <td>1073.35</td>\n",
       "    </tr>\n",
       "    <tr>\n",
       "      <th>2019/06/29</th>\n",
       "      <td>NaN</td>\n",
       "      <td>NaN</td>\n",
       "    </tr>\n",
       "    <tr>\n",
       "      <th>2019/06/30</th>\n",
       "      <td>NaN</td>\n",
       "      <td>NaN</td>\n",
       "    </tr>\n",
       "    <tr>\n",
       "      <th>2019/07/01</th>\n",
       "      <td>1156.4</td>\n",
       "      <td>1066.74</td>\n",
       "    </tr>\n",
       "    <tr>\n",
       "      <th>2019/07/02</th>\n",
       "      <td>1155.4</td>\n",
       "      <td>1066.80</td>\n",
       "    </tr>\n",
       "  </tbody>\n",
       "</table>\n",
       "<p>369 rows × 2 columns</p>\n",
       "</div>"
      ],
      "text/plain": [
       "               원자료    원자료.1\n",
       "변환                         \n",
       "2018/06/29  1121.7  1014.79\n",
       "2018/06/30     NaN      NaN\n",
       "2018/07/01     NaN      NaN\n",
       "2018/07/02  1117.2  1009.26\n",
       "2018/07/03  1117.4  1008.26\n",
       "2018/07/04  1121.1  1014.34\n",
       "2018/07/05  1115.3  1009.55\n",
       "2018/07/06  1118.4  1010.85\n",
       "2018/07/07     NaN      NaN\n",
       "2018/07/08     NaN      NaN\n",
       "2018/07/09  1117.8  1012.22\n",
       "2018/07/10  1112.3  1003.20\n",
       "2018/07/11  1113.8  1004.28\n",
       "2018/07/12  1120.8  1001.16\n",
       "2018/07/13  1127.8  1001.55\n",
       "2018/07/14     NaN      NaN\n",
       "2018/07/15     NaN      NaN\n",
       "2018/07/16  1123.4   999.07\n",
       "2018/07/17  1128.7  1004.63\n",
       "2018/07/18  1125.2   995.84\n",
       "2018/07/19  1128.9  1000.31\n",
       "2018/07/20  1131.2  1005.91\n",
       "2018/07/21     NaN      NaN\n",
       "2018/07/22     NaN      NaN\n",
       "2018/07/23  1134.8  1019.91\n",
       "2018/07/24  1128.5  1012.79\n",
       "2018/07/25  1135.2  1020.63\n",
       "2018/07/26  1127.5  1016.73\n",
       "2018/07/27  1119.6  1006.52\n",
       "2018/07/28     NaN      NaN\n",
       "...            ...      ...\n",
       "2019/06/03  1191.2  1100.36\n",
       "2019/06/04  1183.0  1095.62\n",
       "2019/06/05  1181.5  1091.81\n",
       "2019/06/06     NaN      NaN\n",
       "2019/06/07  1179.8  1087.87\n",
       "2019/06/08     NaN      NaN\n",
       "2019/06/09     NaN      NaN\n",
       "2019/06/10  1179.5  1087.55\n",
       "2019/06/11  1184.0  1092.10\n",
       "2019/06/12  1181.7  1088.67\n",
       "2019/06/13  1181.7  1089.38\n",
       "2019/06/14  1184.7  1093.45\n",
       "2019/06/15     NaN      NaN\n",
       "2019/06/16     NaN      NaN\n",
       "2019/06/17  1184.0  1090.79\n",
       "2019/06/18  1186.3  1092.81\n",
       "2019/06/19  1185.0  1092.12\n",
       "2019/06/20  1177.0  1089.16\n",
       "2019/06/21  1167.7  1087.90\n",
       "2019/06/22     NaN      NaN\n",
       "2019/06/23     NaN      NaN\n",
       "2019/06/24  1162.0  1082.19\n",
       "2019/06/25  1157.9  1078.97\n",
       "2019/06/26  1154.7  1077.35\n",
       "2019/06/27  1158.2  1075.00\n",
       "2019/06/28  1156.8  1073.35\n",
       "2019/06/29     NaN      NaN\n",
       "2019/06/30     NaN      NaN\n",
       "2019/07/01  1156.4  1066.74\n",
       "2019/07/02  1155.4  1066.80\n",
       "\n",
       "[369 rows x 2 columns]"
      ]
     },
     "execution_count": 305,
     "metadata": {},
     "output_type": "execute_result"
    }
   ],
   "source": [
    "f = '8.8.1.1 주요국통화의 대원화 환.xls'\n",
    "df = pd.read_excel(f, encoding = 'cp949', index_col=0, header=3)\n",
    "df.shape\n",
    "df"
   ]
  },
  {
   "cell_type": "code",
   "execution_count": 192,
   "metadata": {},
   "outputs": [],
   "source": [
    "df.columns = ['미국달러', '일본엔']"
   ]
  },
  {
   "cell_type": "code",
   "execution_count": 199,
   "metadata": {},
   "outputs": [],
   "source": [
    "df2 = df.dropna()"
   ]
  },
  {
   "cell_type": "code",
   "execution_count": 200,
   "metadata": {},
   "outputs": [
    {
     "name": "stdout",
     "output_type": "stream",
     "text": [
      "<class 'pandas.core.frame.DataFrame'>\n",
      "Index: 369 entries, 2018/06/29 to 2019/07/02\n",
      "Data columns (total 2 columns):\n",
      "미국달러    248 non-null float64\n",
      "일본엔     248 non-null float64\n",
      "dtypes: float64(2)\n",
      "memory usage: 18.6+ KB\n"
     ]
    }
   ],
   "source": [
    "df.info()\n",
    "# 데이터 형 확인"
   ]
  },
  {
   "cell_type": "code",
   "execution_count": 207,
   "metadata": {},
   "outputs": [
    {
     "data": {
      "text/plain": [
       "20"
      ]
     },
     "execution_count": 207,
     "metadata": {},
     "output_type": "execute_result"
    }
   ],
   "source": [
    "window_week = 4\n",
    "window_day = window_week * 5 # 5 일\n",
    "predict_day = 5\n",
    "window_day"
   ]
  },
  {
   "cell_type": "markdown",
   "metadata": {},
   "source": [
    "X, Y 갯수 체크\n",
    "\n",
    "- 데이터가 30개 있으면? 20개로부터 5일 예측하므로 (20+5) = 1샘플, 총 5샘플\n",
    "- 현재 데이터 248개 샘플, 총 223쌍의 X,Y를 만들어야 합니다.\n",
    "- X[224, 2 * 20], y[224, 2 * 5 ]"
   ]
  },
  {
   "cell_type": "code",
   "execution_count": 231,
   "metadata": {},
   "outputs": [
    {
     "data": {
      "text/plain": [
       "(248, 25, 224)"
      ]
     },
     "execution_count": 231,
     "metadata": {},
     "output_type": "execute_result"
    }
   ],
   "source": [
    "len(df2), window_day+predict_day, len(df2) - (window_day+predict_day-1)"
   ]
  },
  {
   "cell_type": "code",
   "execution_count": 232,
   "metadata": {},
   "outputs": [
    {
     "data": {
      "text/plain": [
       "(24, 224)"
      ]
     },
     "execution_count": 232,
     "metadata": {},
     "output_type": "execute_result"
    }
   ],
   "source": [
    "offset = window_day+predict_day-1\n",
    "offset, len(df2)-offset"
   ]
  },
  {
   "cell_type": "code",
   "execution_count": 230,
   "metadata": {},
   "outputs": [
    {
     "data": {
      "text/plain": [
       "((243, 2), (228, 2))"
      ]
     },
     "execution_count": 230,
     "metadata": {},
     "output_type": "execute_result"
    }
   ],
   "source": [
    "before = df2.iloc[:-predict_day] # 최근 데이터 5개 빼고\n",
    "later = df2.iloc[window_day:] # 과거 데이터 20개 빼고\n",
    "before.shape, later.shape\n"
   ]
  },
  {
   "cell_type": "code",
   "execution_count": 243,
   "metadata": {},
   "outputs": [
    {
     "data": {
      "text/plain": [
       "(224, 20, 5)"
      ]
     },
     "execution_count": 243,
     "metadata": {},
     "output_type": "execute_result"
    }
   ],
   "source": [
    "m = len(df2) - (predict_day + window_day - 1)\n",
    "m, window_day, predict_day"
   ]
  },
  {
   "cell_type": "code",
   "execution_count": 251,
   "metadata": {},
   "outputs": [],
   "source": [
    "x_list = []\n",
    "y_list = []\n",
    "\n",
    "for i in range(m):\n",
    "    x = df2.iloc[i:i+window_day] #20일간의 데이터\n",
    "    y = df2.iloc[i+window_day:i+window_day+predict_day] # 그 다음 5일간의 데이터\n",
    "    x_list.append(x.values) # 날짜 인덱스 빼고 값만 저장\n",
    "    y_list.append(y.values)"
   ]
  },
  {
   "cell_type": "code",
   "execution_count": 272,
   "metadata": {},
   "outputs": [
    {
     "data": {
      "text/plain": [
       "((224, 20, 2), (224, 5, 2))"
      ]
     },
     "execution_count": 272,
     "metadata": {},
     "output_type": "execute_result"
    }
   ],
   "source": [
    "X = np.array(x_list)\n",
    "y = np.array(y_list)\n",
    "X.shape, y.shape #(m-인스턴스, day, 특징수(달러,엔화))"
   ]
  },
  {
   "cell_type": "code",
   "execution_count": 273,
   "metadata": {},
   "outputs": [
    {
     "data": {
      "text/plain": [
       "((224, 40), (224, 10))"
      ]
     },
     "execution_count": 273,
     "metadata": {},
     "output_type": "execute_result"
    }
   ],
   "source": [
    "X = np.reshape(X, [m, -1])\n",
    "y = np.reshape(y, [m, -1])\n",
    "X.shape, y.shape # (달러,엔화,달러,엔화....)"
   ]
  },
  {
   "cell_type": "code",
   "execution_count": 274,
   "metadata": {},
   "outputs": [
    {
     "data": {
      "text/plain": [
       "((194, 40), (30, 40), (194, 10), (30, 10))"
      ]
     },
     "execution_count": 274,
     "metadata": {},
     "output_type": "execute_result"
    }
   ],
   "source": [
    "offset = 30\n",
    "X_train = X[offset:]\n",
    "x_test = x[:offset]\n",
    "y_train = y[offset:]\n",
    "y_test = y[:offset]\n",
    "\n",
    "X_train.shape, X_test.shape, y_train.shape, y_test.shape"
   ]
  },
  {
   "cell_type": "code",
   "execution_count": 307,
   "metadata": {},
   "outputs": [
    {
     "data": {
      "text/plain": [
       "array([[1123.1 , 1012.03, 1128.1 , ..., 1013.39, 1121.2 , 1000.94],\n",
       "       [1128.1 , 1014.98, 1126.8 , ..., 1000.94, 1119.2 ,  999.42],\n",
       "       [1126.8 , 1009.54, 1127.3 , ...,  999.42, 1126.2 , 1008.15],\n",
       "       ...,\n",
       "       [1162.  , 1082.19, 1157.9 , ..., 1075.  , 1156.8 , 1073.35],\n",
       "       [1157.9 , 1078.97, 1154.7 , ..., 1073.35, 1156.4 , 1066.74],\n",
       "       [1154.7 , 1077.35, 1158.2 , ..., 1066.74, 1155.4 , 1066.8 ]])"
      ]
     },
     "execution_count": 307,
     "metadata": {},
     "output_type": "execute_result"
    }
   ],
   "source": [
    "# 모델선택, 학습\n",
    "from sklearn.linear_model import LinearRegression, Ridge, Lasso\n",
    "lr = Lasso(alpha=1.0).fit(X_train, y_train)\n"
   ]
  },
  {
   "cell_type": "code",
   "execution_count": 276,
   "metadata": {},
   "outputs": [
    {
     "data": {
      "text/plain": [
       "(0.9184648749535445, -0.4608138315986671)"
      ]
     },
     "execution_count": 276,
     "metadata": {},
     "output_type": "execute_result"
    }
   ],
   "source": [
    "# 성능 측정\n",
    "lr.score(X_train, y_train), lr.score(X_test, y_test)"
   ]
  },
  {
   "cell_type": "code",
   "execution_count": 297,
   "metadata": {},
   "outputs": [
    {
     "data": {
      "text/plain": [
       "(5, 2)"
      ]
     },
     "execution_count": 297,
     "metadata": {},
     "output_type": "execute_result"
    }
   ],
   "source": [
    "# 그래프로 시각화\n",
    "최근20일데이터 = df2.iloc[-window_day:].values.reshape([1,-1])\n",
    "미래의5일예측 = lr.predict(최근20일데이터)\n",
    "미래의5일예측 = np.reshape(미래의5일예측, [predict_day, 2]) # 다시 3차원으로 변환\n",
    "미래의5일예측.shape"
   ]
  },
  {
   "cell_type": "code",
   "execution_count": 298,
   "metadata": {},
   "outputs": [
    {
     "data": {
      "text/plain": [
       "(224, 40)"
      ]
     },
     "execution_count": 298,
     "metadata": {},
     "output_type": "execute_result"
    }
   ],
   "source": [
    "X.shape"
   ]
  },
  {
   "cell_type": "code",
   "execution_count": 304,
   "metadata": {},
   "outputs": [
    {
     "data": {
      "text/plain": [
       "[<matplotlib.lines.Line2D at 0x1b84ee0b668>]"
      ]
     },
     "execution_count": 304,
     "metadata": {},
     "output_type": "execute_result"
    },
    {
     "data": {
      "image/png": "[encoded data removed]",
      "text/plain": [
       "<Figure size 432x288 with 1 Axes>"
      ]
     },
     "metadata": {
      "needs_background": "light"
     },
     "output_type": "display_data"
    }
   ],
   "source": [
    "usa = df2.iloc[:,0].values\n",
    "japan = df2.iloc[:,1].values\n",
    "x_num = np.arange(len(usa))\n",
    "x1_num = np.arange(len(usa),len(usa)+len(미래의5일예측))\n",
    "plt.plot(x_num, usa)\n",
    "plt.plot(x_num, japan)\n",
    "plt.plot(x1_num, 미래의5일예측[:,0])\n",
    "plt.plot(x1_num, 미래의5일예측[:,1])"
   ]
  },
  {
   "cell_type": "markdown",
   "metadata": {},
   "source": [
    "자신이 관심있는 증권 종목 미래 가격 예측하기"
   ]
  },
  {
   "cell_type": "code",
   "execution_count": null,
   "metadata": {},
   "outputs": [],
   "source": []
  },
  {
   "cell_type": "code",
   "execution_count": null,
   "metadata": {},
   "outputs": [],
   "source": []
  },
  {
   "cell_type": "code",
   "execution_count": null,
   "metadata": {},
   "outputs": [],
   "source": []
  }
 ],
 "metadata": {
  "kernelspec": {
   "display_name": "Python 3",
   "language": "python",
   "name": "python3"
  },
  "language_info": {
   "codemirror_mode": {
    "name": "ipython",
    "version": 3
   },
   "file_extension": ".py",
   "mimetype": "text/x-python",
   "name": "python",
   "nbconvert_exporter": "python",
   "pygments_lexer": "ipython3",
   "version": "3.7.3"
  }
 },
 "nbformat": 4,
 "nbformat_minor": 2
}
