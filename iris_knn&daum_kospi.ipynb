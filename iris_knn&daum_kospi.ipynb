{
 "cells": [
  {
   "cell_type": "markdown",
   "metadata": {},
   "source": [
    "KNN 으로 붓꽃 분류 하기\n",
    "- UCI 데이터셋 다운로드\n",
    "- pandas 로 읽기\n",
    "- 입력(X:꽃잎과 받침이 길이 너비)과 출력(Y:품종) 분리\n",
    "- 150 개의 인스턴스(샘플), 학습용(75%), 테스트용(25%) 분리\n",
    "- 모델을 선정 -> K(K:3-5개 정도)NN\n",
    "- 목표 : 테스트 샘플의 분류 정확도를 높이기"
   ]
  },
  {
   "cell_type": "code",
   "execution_count": 3,
   "metadata": {},
   "outputs": [],
   "source": [
    "import numpy as np\n",
    "import pandas as pd\n",
    "import matplotlib.pyplot as plt\n",
    "import mglearn"
   ]
  },
  {
   "cell_type": "code",
   "execution_count": 2,
   "metadata": {},
   "outputs": [
    {
     "data": {
      "text/plain": [
       "(150, 5)"
      ]
     },
     "execution_count": 2,
     "metadata": {},
     "output_type": "execute_result"
    }
   ],
   "source": [
    "df = pd.read_csv('iris.data', header=None) #None : 컬럼명 없을때\n",
    "df.shape\n"
   ]
  },
  {
   "cell_type": "code",
   "execution_count": 3,
   "metadata": {},
   "outputs": [
    {
     "data": {
      "text/html": [
       "<div>\n",
       "<style scoped>\n",
       "    .dataframe tbody tr th:only-of-type {\n",
       "        vertical-align: middle;\n",
       "    }\n",
       "\n",
       "    .dataframe tbody tr th {\n",
       "        vertical-align: top;\n",
       "    }\n",
       "\n",
       "    .dataframe thead th {\n",
       "        text-align: right;\n",
       "    }\n",
       "</style>\n",
       "<table border=\"1\" class=\"dataframe\">\n",
       "  <thead>\n",
       "    <tr style=\"text-align: right;\">\n",
       "      <th></th>\n",
       "      <th>0</th>\n",
       "      <th>1</th>\n",
       "      <th>2</th>\n",
       "      <th>3</th>\n",
       "      <th>4</th>\n",
       "    </tr>\n",
       "  </thead>\n",
       "  <tbody>\n",
       "    <tr>\n",
       "      <th>0</th>\n",
       "      <td>5.1</td>\n",
       "      <td>3.5</td>\n",
       "      <td>1.4</td>\n",
       "      <td>0.2</td>\n",
       "      <td>Iris-setosa</td>\n",
       "    </tr>\n",
       "    <tr>\n",
       "      <th>1</th>\n",
       "      <td>4.9</td>\n",
       "      <td>3.0</td>\n",
       "      <td>1.4</td>\n",
       "      <td>0.2</td>\n",
       "      <td>Iris-setosa</td>\n",
       "    </tr>\n",
       "    <tr>\n",
       "      <th>2</th>\n",
       "      <td>4.7</td>\n",
       "      <td>3.2</td>\n",
       "      <td>1.3</td>\n",
       "      <td>0.2</td>\n",
       "      <td>Iris-setosa</td>\n",
       "    </tr>\n",
       "    <tr>\n",
       "      <th>3</th>\n",
       "      <td>4.6</td>\n",
       "      <td>3.1</td>\n",
       "      <td>1.5</td>\n",
       "      <td>0.2</td>\n",
       "      <td>Iris-setosa</td>\n",
       "    </tr>\n",
       "    <tr>\n",
       "      <th>4</th>\n",
       "      <td>5.0</td>\n",
       "      <td>3.6</td>\n",
       "      <td>1.4</td>\n",
       "      <td>0.2</td>\n",
       "      <td>Iris-setosa</td>\n",
       "    </tr>\n",
       "  </tbody>\n",
       "</table>\n",
       "</div>"
      ],
      "text/plain": [
       "     0    1    2    3            4\n",
       "0  5.1  3.5  1.4  0.2  Iris-setosa\n",
       "1  4.9  3.0  1.4  0.2  Iris-setosa\n",
       "2  4.7  3.2  1.3  0.2  Iris-setosa\n",
       "3  4.6  3.1  1.5  0.2  Iris-setosa\n",
       "4  5.0  3.6  1.4  0.2  Iris-setosa"
      ]
     },
     "execution_count": 3,
     "metadata": {},
     "output_type": "execute_result"
    }
   ],
   "source": [
    "df.head()"
   ]
  },
  {
   "cell_type": "code",
   "execution_count": 4,
   "metadata": {},
   "outputs": [
    {
     "name": "stdout",
     "output_type": "stream",
     "text": [
      "<class 'pandas.core.frame.DataFrame'>\n",
      "RangeIndex: 150 entries, 0 to 149\n",
      "Data columns (total 5 columns):\n",
      "0    150 non-null float64\n",
      "1    150 non-null float64\n",
      "2    150 non-null float64\n",
      "3    150 non-null float64\n",
      "4    150 non-null object\n",
      "dtypes: float64(4), object(1)\n",
      "memory usage: 5.9+ KB\n"
     ]
    }
   ],
   "source": [
    "df.info() # 컬럼 타입, 숫자로 변환할지 확인"
   ]
  },
  {
   "cell_type": "markdown",
   "metadata": {},
   "source": [
    "- 입력(X:꽃잎과 받침이 길이 너비)과 출력(Y:품종) 분리"
   ]
  },
  {
   "cell_type": "code",
   "execution_count": 5,
   "metadata": {},
   "outputs": [
    {
     "data": {
      "text/plain": [
       "((150, 4), (150, 4))"
      ]
     },
     "execution_count": 5,
     "metadata": {},
     "output_type": "execute_result"
    }
   ],
   "source": [
    "X = df.iloc[:, :4]\n",
    "y = df.iloc[:, :-1]\n",
    "X.shape, y.shape # X는 2차원, y는 1차원,나중에 문제되면 이부분 확인필요"
   ]
  },
  {
   "cell_type": "code",
   "execution_count": null,
   "metadata": {},
   "outputs": [],
   "source": []
  },
  {
   "cell_type": "markdown",
   "metadata": {},
   "source": [
    "150 개의 인스턴스(샘플), 학습용(75%), 테스트용(25%) 분리 "
   ]
  },
  {
   "cell_type": "code",
   "execution_count": 6,
   "metadata": {},
   "outputs": [],
   "source": [
    "from sklearn.model_selection import train_test_split"
   ]
  },
  {
   "cell_type": "code",
   "execution_count": null,
   "metadata": {},
   "outputs": [],
   "source": []
  },
  {
   "cell_type": "code",
   "execution_count": 7,
   "metadata": {},
   "outputs": [
    {
     "data": {
      "text/plain": [
       "((112, 4), (38, 4))"
      ]
     },
     "execution_count": 7,
     "metadata": {},
     "output_type": "execute_result"
    }
   ],
   "source": [
    "X_train, X_test, y_train, y_test = train_test_split(X, y, test_size=0.25, random_state=42)\n",
    "X_train.shape, X_test.shape"
   ]
  },
  {
   "cell_type": "code",
   "execution_count": 8,
   "metadata": {},
   "outputs": [],
   "source": [
    "from sklearn.neighbors import KNeighborsClassifier"
   ]
  },
  {
   "cell_type": "code",
   "execution_count": 9,
   "metadata": {},
   "outputs": [],
   "source": [
    "knn = KNeighborsClassifier(5)\n",
    "#knn.fit(X_train, y_train) "
   ]
  },
  {
   "cell_type": "code",
   "execution_count": 10,
   "metadata": {},
   "outputs": [],
   "source": [
    "#knn.predict(X_test) #예측하기"
   ]
  },
  {
   "cell_type": "code",
   "execution_count": 12,
   "metadata": {},
   "outputs": [],
   "source": [
    "#knn.score(X_train, y_train), knn.score(X_test, y_test)"
   ]
  },
  {
   "cell_type": "markdown",
   "metadata": {},
   "source": [
    "코스피 200이 거래 데이터, 종가 예측하기\n",
    "- 샘플 : 하루의 총 일거래 정보"
   ]
  },
  {
   "cell_type": "code",
   "execution_count": 16,
   "metadata": {},
   "outputs": [
    {
     "data": {
      "text/plain": [
       "3"
      ]
     },
     "execution_count": 16,
     "metadata": {},
     "output_type": "execute_result"
    }
   ],
   "source": [
    "url='https://finance.daum.net/domestic/kospi200'\n",
    "url='코스피200 _ 다음 금융.html'#웹페이지를 다른 이름으로 저장\n",
    "tables = pd.read_html(url, index_col=0)\n",
    "len(tables)"
   ]
  },
  {
   "cell_type": "code",
   "execution_count": 18,
   "metadata": {},
   "outputs": [
    {
     "name": "stdout",
     "output_type": "stream",
     "text": [
      "(10, 6)\n",
      "(10, 8)\n",
      "(10, 7)\n"
     ]
    }
   ],
   "source": [
    "\n",
    "for table in tables:\n",
    "    print(table.shape)"
   ]
  },
  {
   "cell_type": "code",
   "execution_count": 38,
   "metadata": {},
   "outputs": [
    {
     "data": {
      "text/html": [
       "<div>\n",
       "<style scoped>\n",
       "    .dataframe tbody tr th:only-of-type {\n",
       "        vertical-align: middle;\n",
       "    }\n",
       "\n",
       "    .dataframe tbody tr th {\n",
       "        vertical-align: top;\n",
       "    }\n",
       "\n",
       "    .dataframe thead th {\n",
       "        text-align: right;\n",
       "    }\n",
       "</style>\n",
       "<table border=\"1\" class=\"dataframe\">\n",
       "  <thead>\n",
       "    <tr style=\"text-align: right;\">\n",
       "      <th></th>\n",
       "      <th>종가</th>\n",
       "      <th>전일비</th>\n",
       "      <th>등락률</th>\n",
       "      <th>거래량</th>\n",
       "      <th>거래대금</th>\n",
       "      <th>개인(억)</th>\n",
       "      <th>외국인(억)</th>\n",
       "      <th>기관(억)</th>\n",
       "    </tr>\n",
       "    <tr>\n",
       "      <th>일자</th>\n",
       "      <th></th>\n",
       "      <th></th>\n",
       "      <th></th>\n",
       "      <th></th>\n",
       "      <th></th>\n",
       "      <th></th>\n",
       "      <th></th>\n",
       "      <th></th>\n",
       "    </tr>\n",
       "  </thead>\n",
       "  <tbody>\n",
       "    <tr>\n",
       "      <th>19.07.02</th>\n",
       "      <td>276.88</td>\n",
       "      <td>0.39</td>\n",
       "      <td>-0.14</td>\n",
       "      <td>25220</td>\n",
       "      <td>937073</td>\n",
       "      <td>289</td>\n",
       "      <td>186</td>\n",
       "      <td>-455</td>\n",
       "    </tr>\n",
       "    <tr>\n",
       "      <th>19.07.01</th>\n",
       "      <td>277.27</td>\n",
       "      <td>0.23</td>\n",
       "      <td>-0.08</td>\n",
       "      <td>74357</td>\n",
       "      <td>3446049</td>\n",
       "      <td>-214</td>\n",
       "      <td>1286</td>\n",
       "      <td>365</td>\n",
       "    </tr>\n",
       "    <tr>\n",
       "      <th>19.06.28</th>\n",
       "      <td>277.50</td>\n",
       "      <td>0.25</td>\n",
       "      <td>-0.09</td>\n",
       "      <td>67598</td>\n",
       "      <td>2879563</td>\n",
       "      <td>-1802</td>\n",
       "      <td>3011</td>\n",
       "      <td>-1189</td>\n",
       "    </tr>\n",
       "    <tr>\n",
       "      <th>19.06.27</th>\n",
       "      <td>277.75</td>\n",
       "      <td>2.22</td>\n",
       "      <td>0.81</td>\n",
       "      <td>66303</td>\n",
       "      <td>3357666</td>\n",
       "      <td>-4165</td>\n",
       "      <td>1837</td>\n",
       "      <td>2415</td>\n",
       "    </tr>\n",
       "    <tr>\n",
       "      <th>19.06.26</th>\n",
       "      <td>275.53</td>\n",
       "      <td>0.25</td>\n",
       "      <td>0.09</td>\n",
       "      <td>58818</td>\n",
       "      <td>2636531</td>\n",
       "      <td>-712</td>\n",
       "      <td>157</td>\n",
       "      <td>557</td>\n",
       "    </tr>\n",
       "    <tr>\n",
       "      <th>19.06.25</th>\n",
       "      <td>275.28</td>\n",
       "      <td>0.30</td>\n",
       "      <td>-0.11</td>\n",
       "      <td>60506</td>\n",
       "      <td>2635188</td>\n",
       "      <td>-364</td>\n",
       "      <td>277</td>\n",
       "      <td>-12</td>\n",
       "    </tr>\n",
       "    <tr>\n",
       "      <th>19.06.24</th>\n",
       "      <td>275.58</td>\n",
       "      <td>0.10</td>\n",
       "      <td>0.04</td>\n",
       "      <td>55539</td>\n",
       "      <td>2235175</td>\n",
       "      <td>-978</td>\n",
       "      <td>-1048</td>\n",
       "      <td>1966</td>\n",
       "    </tr>\n",
       "    <tr>\n",
       "      <th>19.06.21</th>\n",
       "      <td>275.48</td>\n",
       "      <td>0.53</td>\n",
       "      <td>-0.19</td>\n",
       "      <td>77279</td>\n",
       "      <td>3275700</td>\n",
       "      <td>538</td>\n",
       "      <td>206</td>\n",
       "      <td>-767</td>\n",
       "    </tr>\n",
       "    <tr>\n",
       "      <th>19.06.20</th>\n",
       "      <td>276.01</td>\n",
       "      <td>0.70</td>\n",
       "      <td>0.25</td>\n",
       "      <td>55336</td>\n",
       "      <td>2417864</td>\n",
       "      <td>-1342</td>\n",
       "      <td>-434</td>\n",
       "      <td>1762</td>\n",
       "    </tr>\n",
       "    <tr>\n",
       "      <th>19.06.19</th>\n",
       "      <td>275.31</td>\n",
       "      <td>3.95</td>\n",
       "      <td>1.46</td>\n",
       "      <td>69733</td>\n",
       "      <td>3134202</td>\n",
       "      <td>-4430</td>\n",
       "      <td>2876</td>\n",
       "      <td>1606</td>\n",
       "    </tr>\n",
       "  </tbody>\n",
       "</table>\n",
       "</div>"
      ],
      "text/plain": [
       "              종가   전일비   등락률    거래량     거래대금  개인(억)  외국인(억)  기관(억)\n",
       "일자                                                                \n",
       "19.07.02  276.88  0.39 -0.14  25220   937073    289     186   -455\n",
       "19.07.01  277.27  0.23 -0.08  74357  3446049   -214    1286    365\n",
       "19.06.28  277.50  0.25 -0.09  67598  2879563  -1802    3011  -1189\n",
       "19.06.27  277.75  2.22  0.81  66303  3357666  -4165    1837   2415\n",
       "19.06.26  275.53  0.25  0.09  58818  2636531   -712     157    557\n",
       "19.06.25  275.28  0.30 -0.11  60506  2635188   -364     277    -12\n",
       "19.06.24  275.58  0.10  0.04  55539  2235175   -978   -1048   1966\n",
       "19.06.21  275.48  0.53 -0.19  77279  3275700    538     206   -767\n",
       "19.06.20  276.01  0.70  0.25  55336  2417864  -1342    -434   1762\n",
       "19.06.19  275.31  3.95  1.46  69733  3134202  -4430    2876   1606"
      ]
     },
     "execution_count": 38,
     "metadata": {},
     "output_type": "execute_result"
    }
   ],
   "source": [
    "df = tables[1]\n",
    "tables[1]"
   ]
  },
  {
   "cell_type": "code",
   "execution_count": 21,
   "metadata": {},
   "outputs": [],
   "source": [
    "#전일비와 등락률을 수치데이터로 변환\n",
    "df['전일비'] = df['전일비'].replace('▼','',regex=True)\n",
    "df['전일비'] = df['전일비'].replace('▲','',regex=True)\n",
    "df['등락률'] = df['등락률'].replace('%','',regex=True)"
   ]
  },
  {
   "cell_type": "code",
   "execution_count": 22,
   "metadata": {},
   "outputs": [],
   "source": [
    "df['전일비'] = df['전일비'].astype(np.float)\n",
    "df['등락률'] = df['등락률'].astype(np.float)"
   ]
  },
  {
   "cell_type": "code",
   "execution_count": 47,
   "metadata": {},
   "outputs": [
    {
     "data": {
      "text/plain": [
       "일자\n",
       "19.07.02    276.88\n",
       "19.07.01    277.27\n",
       "19.06.28    277.50\n",
       "19.06.27    277.75\n",
       "19.06.26    275.53\n",
       "Name: 종가, dtype: float64"
      ]
     },
     "execution_count": 47,
     "metadata": {},
     "output_type": "execute_result"
    }
   ],
   "source": [
    "\n",
    "# 입력X 와 출력Y 분리\n",
    "# x_0, x_1, x_2(아래첨자)...\n",
    "y = df['종가']\n",
    "X = df.iloc[:, 1:]\n",
    "X.shape, y.shape\n",
    "y.head()"
   ]
  },
  {
   "cell_type": "code",
   "execution_count": 24,
   "metadata": {},
   "outputs": [],
   "source": [
    "\n",
    "offset = 2 #test 용 갯수\n",
    "m_max = len(X)\n",
    "X_train = X[offset:m_max]\n",
    "X_test = X[0:offset]\n",
    "y_train = y[offset:m_max]\n",
    "y_test = y[0:offset]"
   ]
  },
  {
   "cell_type": "code",
   "execution_count": 25,
   "metadata": {},
   "outputs": [],
   "source": [
    "from sklearn.neighbors import KNeighborsRegressor #Regressor 실수 예측용"
   ]
  },
  {
   "cell_type": "code",
   "execution_count": 49,
   "metadata": {},
   "outputs": [
    {
     "data": {
      "text/plain": [
       "일자\n",
       "19.06.28    277.50\n",
       "19.06.27    277.75\n",
       "19.06.26    275.53\n",
       "19.06.25    275.28\n",
       "19.06.24    275.58\n",
       "19.06.21    275.48\n",
       "19.06.20    276.01\n",
       "19.06.19    275.31\n",
       "Name: 종가, dtype: float64"
      ]
     },
     "execution_count": 49,
     "metadata": {},
     "output_type": "execute_result"
    }
   ],
   "source": [
    "\n",
    "knn = KNeighborsRegressor(n_neighbors=1) #클래스의 instance 생성 문법\n",
    "knn.fit(X_train, y_train)\n",
    "y_train"
   ]
  },
  {
   "cell_type": "code",
   "execution_count": 27,
   "metadata": {},
   "outputs": [
    {
     "data": {
      "text/plain": [
       "array([275.58, 277.75])"
      ]
     },
     "execution_count": 27,
     "metadata": {},
     "output_type": "execute_result"
    }
   ],
   "source": [
    "\n",
    "knn.predict(X_test)"
   ]
  },
  {
   "cell_type": "code",
   "execution_count": 29,
   "metadata": {},
   "outputs": [
    {
     "data": {
      "text/plain": [
       "1.0"
      ]
     },
     "execution_count": 29,
     "metadata": {},
     "output_type": "execute_result"
    }
   ],
   "source": [
    "#71\n",
    "knn.score(X_train, y_train) # trainset 에 k=1이므로 당연히 100%"
   ]
  },
  {
   "cell_type": "code",
   "execution_count": 30,
   "metadata": {},
   "outputs": [
    {
     "data": {
      "text/plain": [
       "-24.251808021041175"
      ]
     },
     "execution_count": 30,
     "metadata": {},
     "output_type": "execute_result"
    }
   ],
   "source": [
    "#.score()의 리턴 2종류 : classfication 정확도, regression 결정계수\n",
    "knn.score(X_test, y_test) # 이 모델은 신뢰 X"
   ]
  },
  {
   "cell_type": "markdown",
   "metadata": {},
   "source": [
    "KNN 장단점\n",
    "- 장점 : 이해하기 매우 쉬운 모델, k를 많이 조정하지 않아도 좋은 성능, 좋은 시작점\n",
    "- 단점 : 전처리가 중요하다(정규화 필요), 특성(컬럼)이 많으면 동작 X, 특성값이 대부분이 0이면(희소한, sparse) \n",
    "            -++--++X\n",
    "- 이러한 단점을 해결한 선형 모델(linear model)"
   ]
  },
  {
   "cell_type": "code",
   "execution_count": 32,
   "metadata": {},
   "outputs": [],
   "source": [
    "#p.74\n",
    "import mglearn"
   ]
  },
  {
   "cell_type": "code",
   "execution_count": 37,
   "metadata": {},
   "outputs": [
    {
     "name": "stdout",
     "output_type": "stream",
     "text": [
      "w[0]: 0.393906  b: -0.031804\n"
     ]
    },
    {
     "name": "stderr",
     "output_type": "stream",
     "text": [
      "C:\\Users\\wtime\\Anaconda3\\lib\\site-packages\\sklearn\\model_selection\\_search.py:841: DeprecationWarning: The default of the `iid` parameter will change from True to False in version 0.22 and will be removed in 0.24. This will change numeric results when test-set sizes are unequal.\n",
      "  DeprecationWarning)\n"
     ]
    },
    {
     "data": {
      "image/png": "[encoded data removed]",
      "text/plain": [
       "<Figure size 576x576 with 1 Axes>"
      ]
     },
     "metadata": {
      "needs_background": "light"
     },
     "output_type": "display_data"
    },
    {
     "data": {
      "image/png": "[encoded data removed]",
      "text/plain": [
       "<Figure size 720x216 with 1 Axes>"
      ]
     },
     "metadata": {
      "needs_background": "light"
     },
     "output_type": "display_data"
    }
   ],
   "source": [
    "mglearn.plots.plot_linear_regression_wave()\n",
    "mglearn.plots.plot_cross_val_selection()"
   ]
  },
  {
   "cell_type": "code",
   "execution_count": null,
   "metadata": {},
   "outputs": [],
   "source": []
  }
 ],
 "metadata": {
  "kernelspec": {
   "display_name": "Python 3",
   "language": "python",
   "name": "python3"
  },
  "language_info": {
   "codemirror_mode": {
    "name": "ipython",
    "version": 3
   },
   "file_extension": ".py",
   "mimetype": "text/x-python",
   "name": "python",
   "nbconvert_exporter": "python",
   "pygments_lexer": "ipython3",
   "version": "3.7.3"
  }
 },
 "nbformat": 4,
 "nbformat_minor": 2
}
