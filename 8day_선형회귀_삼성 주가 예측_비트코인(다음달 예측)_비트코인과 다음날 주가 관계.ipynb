{
 "cells": [
  {
   "cell_type": "markdown",
   "metadata": {},
   "source": [
    "5. 삼성 전자 주식 다음달 가격 얼마일까? (회귀)\n",
    "6. 비트코인 다음 달 어떻게 될까? (회귀)\n",
    "7. 전날 비트 코인 상승하면 다음날 주가와이 상관관계"
   ]
  },
  {
   "cell_type": "markdown",
   "metadata": {},
   "source": [
    "1. 목표 설정\n",
    "    1. Y(출력): 미래 30일의 국내 특정 주식과 비트코인의 종가\n",
    "    1. X(입력) : 최근 60일간의 데이터\n",
    "        1. step : 하루 간격\n",
    "        1. 양 : 1 년(2018년 6월 ~ 2019년 6월)\n",
    "2. 데이터 획득\n",
    "    1. 국내 기업 1개, 비트 코인\n",
    "3. 데이터 정제\n",
    "    1. 누락\n",
    "4. 데이터 전처리\n",
    "    1. 특수기호, 문자 > 수치 변환\n",
    "    1. 두 데이터 날짜 기준으로 통합(axis=1(좌우로))\n",
    "        1. 외국(2018-01-01), 국내(2018.1.1), (18.1.1)\n",
    "        1. 날짜 포맷을 (YYYY-MM-DD)으로 변환 후 통합\n",
    "1. 비트코인 가격 변화와 주가와이 상관관계(correlation)\n",
    "    1. cov()\n",
    "5. 입력X/출력 Y 분리\n",
    "    1. m개의 x,y 쌍\n",
    "    1. x(m, 60, 15) (국내증시컬럼 + 비트코인컬럼) > reshape > (m, 60 * 15)\n",
    "    2. y(m, 30, 1) == (m, 30 * 2)\n",
    "6. 학습용/검증용(test) 분리\n",
    "    1. 섞으면 안되므로 직접 분리\n",
    "    1. 가장 과거의 데이터 10%를 검증용으로 사용\n",
    "7. 모델 선정\n",
    "    1. Ridge 모델, 학습용 데이터로 학습\n",
    "    1. 성능 측정\n",
    "8. 그래프로 시각화\n",
    "    1. 과거\n",
    "    1. 미래의 예측( x(1, 60 * 15) > return > y_hat(1, 30 * 2)\n",
    "        1. 미래 예측(1, 30 * 2) > (30,2) 국내(30), 비트코인(30) >  그래프로 그리기"
   ]
  },
  {
   "cell_type": "code",
   "execution_count": 1,
   "metadata": {},
   "outputs": [],
   "source": [
    "import numpy as np\n",
    "import pandas as pd\n",
    "import matplotlib.pyplot as plt"
   ]
  },
  {
   "cell_type": "code",
   "execution_count": 28,
   "metadata": {},
   "outputs": [],
   "source": [
    "#주소중간에 _day 가 추가됩니다\n",
    "samsung_url='https://finance.naver.com/item/sise_day.nhn?code=005930'"
   ]
  },
  {
   "cell_type": "code",
   "execution_count": 29,
   "metadata": {},
   "outputs": [
    {
     "data": {
      "text/plain": [
       "(15, 7)"
      ]
     },
     "execution_count": 29,
     "metadata": {},
     "output_type": "execute_result"
    }
   ],
   "source": [
    "tables = pd.read_html(samsung_url+'&page='+str(1))\n",
    "len(tables)\n",
    "samsung = tables[0]\n",
    "samsung.shape"
   ]
  },
  {
   "cell_type": "code",
   "execution_count": 30,
   "metadata": {},
   "outputs": [
    {
     "data": {
      "text/plain": [
       "27"
      ]
     },
     "execution_count": 30,
     "metadata": {},
     "output_type": "execute_result"
    }
   ],
   "source": [
    "samsungs = []\n",
    "for i in range(1, 28):\n",
    "    tables = pd.read_html(samsung_url+'&page='+str(i))\n",
    "    samsung = tables[0]\n",
    "    samsungs.append(samsung)\n",
    "len(samsungs)"
   ]
  },
  {
   "cell_type": "code",
   "execution_count": 31,
   "metadata": {},
   "outputs": [
    {
     "data": {
      "text/plain": [
       "(405, 7)"
      ]
     },
     "execution_count": 31,
     "metadata": {},
     "output_type": "execute_result"
    }
   ],
   "source": [
    "\n",
    "samsung = pd.concat(samsungs, axis=0)\n",
    "samsung.shape"
   ]
  },
  {
   "cell_type": "code",
   "execution_count": 34,
   "metadata": {},
   "outputs": [
    {
     "data": {
      "text/html": [
       "<div>\n",
       "<style scoped>\n",
       "    .dataframe tbody tr th:only-of-type {\n",
       "        vertical-align: middle;\n",
       "    }\n",
       "\n",
       "    .dataframe tbody tr th {\n",
       "        vertical-align: top;\n",
       "    }\n",
       "\n",
       "    .dataframe thead th {\n",
       "        text-align: right;\n",
       "    }\n",
       "</style>\n",
       "<table border=\"1\" class=\"dataframe\">\n",
       "  <thead>\n",
       "    <tr style=\"text-align: right;\">\n",
       "      <th></th>\n",
       "      <th>날짜</th>\n",
       "      <th>종가</th>\n",
       "      <th>전일비</th>\n",
       "      <th>시가</th>\n",
       "      <th>고가</th>\n",
       "      <th>저가</th>\n",
       "      <th>거래량</th>\n",
       "    </tr>\n",
       "  </thead>\n",
       "  <tbody>\n",
       "    <tr>\n",
       "      <th>0</th>\n",
       "      <td>NaN</td>\n",
       "      <td>NaN</td>\n",
       "      <td>NaN</td>\n",
       "      <td>NaN</td>\n",
       "      <td>NaN</td>\n",
       "      <td>NaN</td>\n",
       "      <td>NaN</td>\n",
       "    </tr>\n",
       "    <tr>\n",
       "      <th>1</th>\n",
       "      <td>2019.07.03</td>\n",
       "      <td>45700.0</td>\n",
       "      <td>550.0</td>\n",
       "      <td>45750.0</td>\n",
       "      <td>46350.0</td>\n",
       "      <td>45600.0</td>\n",
       "      <td>3743794.0</td>\n",
       "    </tr>\n",
       "    <tr>\n",
       "      <th>2</th>\n",
       "      <td>2019.07.02</td>\n",
       "      <td>46250.0</td>\n",
       "      <td>350.0</td>\n",
       "      <td>46200.0</td>\n",
       "      <td>46900.0</td>\n",
       "      <td>45850.0</td>\n",
       "      <td>8463073.0</td>\n",
       "    </tr>\n",
       "    <tr>\n",
       "      <th>3</th>\n",
       "      <td>2019.07.01</td>\n",
       "      <td>46600.0</td>\n",
       "      <td>400.0</td>\n",
       "      <td>47350.0</td>\n",
       "      <td>47400.0</td>\n",
       "      <td>46250.0</td>\n",
       "      <td>11383522.0</td>\n",
       "    </tr>\n",
       "    <tr>\n",
       "      <th>4</th>\n",
       "      <td>2019.06.28</td>\n",
       "      <td>47000.0</td>\n",
       "      <td>500.0</td>\n",
       "      <td>47000.0</td>\n",
       "      <td>47000.0</td>\n",
       "      <td>46700.0</td>\n",
       "      <td>12949231.0</td>\n",
       "    </tr>\n",
       "  </tbody>\n",
       "</table>\n",
       "</div>"
      ],
      "text/plain": [
       "           날짜       종가    전일비       시가       고가       저가         거래량\n",
       "0         NaN      NaN    NaN      NaN      NaN      NaN         NaN\n",
       "1  2019.07.03  45700.0  550.0  45750.0  46350.0  45600.0   3743794.0\n",
       "2  2019.07.02  46250.0  350.0  46200.0  46900.0  45850.0   8463073.0\n",
       "3  2019.07.01  46600.0  400.0  47350.0  47400.0  46250.0  11383522.0\n",
       "4  2019.06.28  47000.0  500.0  47000.0  47000.0  46700.0  12949231.0"
      ]
     },
     "execution_count": 34,
     "metadata": {},
     "output_type": "execute_result"
    }
   ],
   "source": [
    "samsung.head()"
   ]
  },
  {
   "cell_type": "code",
   "execution_count": 15,
   "metadata": {},
   "outputs": [
    {
     "name": "stdout",
     "output_type": "stream",
     "text": [
      "(15, 7)\n",
      "(1, 12)\n"
     ]
    }
   ],
   "source": [
    "# 몇번 째 테이블이 일일데이터일까 찾기\n",
    "for t in tables:\n",
    "    print(t.shape)\n"
   ]
  },
  {
   "cell_type": "code",
   "execution_count": 16,
   "metadata": {},
   "outputs": [
    {
     "data": {
      "text/html": [
       "<div>\n",
       "<style scoped>\n",
       "    .dataframe tbody tr th:only-of-type {\n",
       "        vertical-align: middle;\n",
       "    }\n",
       "\n",
       "    .dataframe tbody tr th {\n",
       "        vertical-align: top;\n",
       "    }\n",
       "\n",
       "    .dataframe thead th {\n",
       "        text-align: right;\n",
       "    }\n",
       "</style>\n",
       "<table border=\"1\" class=\"dataframe\">\n",
       "  <thead>\n",
       "    <tr style=\"text-align: right;\">\n",
       "      <th></th>\n",
       "      <th>날짜</th>\n",
       "      <th>종가</th>\n",
       "      <th>전일비</th>\n",
       "      <th>시가</th>\n",
       "      <th>고가</th>\n",
       "      <th>저가</th>\n",
       "      <th>거래량</th>\n",
       "    </tr>\n",
       "  </thead>\n",
       "  <tbody>\n",
       "    <tr>\n",
       "      <th>0</th>\n",
       "      <td>NaN</td>\n",
       "      <td>NaN</td>\n",
       "      <td>NaN</td>\n",
       "      <td>NaN</td>\n",
       "      <td>NaN</td>\n",
       "      <td>NaN</td>\n",
       "      <td>NaN</td>\n",
       "    </tr>\n",
       "    <tr>\n",
       "      <th>1</th>\n",
       "      <td>2019.07.03</td>\n",
       "      <td>45650.0</td>\n",
       "      <td>600.0</td>\n",
       "      <td>45750.0</td>\n",
       "      <td>46350.0</td>\n",
       "      <td>45600.0</td>\n",
       "      <td>3627894.0</td>\n",
       "    </tr>\n",
       "    <tr>\n",
       "      <th>2</th>\n",
       "      <td>2019.07.02</td>\n",
       "      <td>46250.0</td>\n",
       "      <td>350.0</td>\n",
       "      <td>46200.0</td>\n",
       "      <td>46900.0</td>\n",
       "      <td>45850.0</td>\n",
       "      <td>8463073.0</td>\n",
       "    </tr>\n",
       "    <tr>\n",
       "      <th>3</th>\n",
       "      <td>2019.07.01</td>\n",
       "      <td>46600.0</td>\n",
       "      <td>400.0</td>\n",
       "      <td>47350.0</td>\n",
       "      <td>47400.0</td>\n",
       "      <td>46250.0</td>\n",
       "      <td>11383522.0</td>\n",
       "    </tr>\n",
       "    <tr>\n",
       "      <th>4</th>\n",
       "      <td>2019.06.28</td>\n",
       "      <td>47000.0</td>\n",
       "      <td>500.0</td>\n",
       "      <td>47000.0</td>\n",
       "      <td>47000.0</td>\n",
       "      <td>46700.0</td>\n",
       "      <td>12949231.0</td>\n",
       "    </tr>\n",
       "  </tbody>\n",
       "</table>\n",
       "</div>"
      ],
      "text/plain": [
       "           날짜       종가    전일비       시가       고가       저가         거래량\n",
       "0         NaN      NaN    NaN      NaN      NaN      NaN         NaN\n",
       "1  2019.07.03  45650.0  600.0  45750.0  46350.0  45600.0   3627894.0\n",
       "2  2019.07.02  46250.0  350.0  46200.0  46900.0  45850.0   8463073.0\n",
       "3  2019.07.01  46600.0  400.0  47350.0  47400.0  46250.0  11383522.0\n",
       "4  2019.06.28  47000.0  500.0  47000.0  47000.0  46700.0  12949231.0"
      ]
     },
     "execution_count": 16,
     "metadata": {},
     "output_type": "execute_result"
    }
   ],
   "source": [
    "samsung.head()"
   ]
  },
  {
   "cell_type": "code",
   "execution_count": 17,
   "metadata": {},
   "outputs": [
    {
     "data": {
      "text/html": [
       "<div>\n",
       "<style scoped>\n",
       "    .dataframe tbody tr th:only-of-type {\n",
       "        vertical-align: middle;\n",
       "    }\n",
       "\n",
       "    .dataframe tbody tr th {\n",
       "        vertical-align: top;\n",
       "    }\n",
       "\n",
       "    .dataframe thead th {\n",
       "        text-align: right;\n",
       "    }\n",
       "</style>\n",
       "<table border=\"1\" class=\"dataframe\">\n",
       "  <thead>\n",
       "    <tr style=\"text-align: right;\">\n",
       "      <th></th>\n",
       "      <th>종가</th>\n",
       "      <th>전일비</th>\n",
       "      <th>시가</th>\n",
       "      <th>고가</th>\n",
       "      <th>저가</th>\n",
       "      <th>거래량</th>\n",
       "    </tr>\n",
       "    <tr>\n",
       "      <th>날짜</th>\n",
       "      <th></th>\n",
       "      <th></th>\n",
       "      <th></th>\n",
       "      <th></th>\n",
       "      <th></th>\n",
       "      <th></th>\n",
       "    </tr>\n",
       "  </thead>\n",
       "  <tbody>\n",
       "    <tr>\n",
       "      <th>NaN</th>\n",
       "      <td>NaN</td>\n",
       "      <td>NaN</td>\n",
       "      <td>NaN</td>\n",
       "      <td>NaN</td>\n",
       "      <td>NaN</td>\n",
       "      <td>NaN</td>\n",
       "    </tr>\n",
       "    <tr>\n",
       "      <th>2019.07.03</th>\n",
       "      <td>45650.0</td>\n",
       "      <td>600.0</td>\n",
       "      <td>45750.0</td>\n",
       "      <td>46350.0</td>\n",
       "      <td>45600.0</td>\n",
       "      <td>3627894.0</td>\n",
       "    </tr>\n",
       "    <tr>\n",
       "      <th>2019.07.02</th>\n",
       "      <td>46250.0</td>\n",
       "      <td>350.0</td>\n",
       "      <td>46200.0</td>\n",
       "      <td>46900.0</td>\n",
       "      <td>45850.0</td>\n",
       "      <td>8463073.0</td>\n",
       "    </tr>\n",
       "    <tr>\n",
       "      <th>2019.07.01</th>\n",
       "      <td>46600.0</td>\n",
       "      <td>400.0</td>\n",
       "      <td>47350.0</td>\n",
       "      <td>47400.0</td>\n",
       "      <td>46250.0</td>\n",
       "      <td>11383522.0</td>\n",
       "    </tr>\n",
       "    <tr>\n",
       "      <th>2019.06.28</th>\n",
       "      <td>47000.0</td>\n",
       "      <td>500.0</td>\n",
       "      <td>47000.0</td>\n",
       "      <td>47000.0</td>\n",
       "      <td>46700.0</td>\n",
       "      <td>12949231.0</td>\n",
       "    </tr>\n",
       "    <tr>\n",
       "      <th>2019.06.27</th>\n",
       "      <td>46500.0</td>\n",
       "      <td>800.0</td>\n",
       "      <td>46000.0</td>\n",
       "      <td>46600.0</td>\n",
       "      <td>45750.0</td>\n",
       "      <td>12603534.0</td>\n",
       "    </tr>\n",
       "    <tr>\n",
       "      <th>NaN</th>\n",
       "      <td>NaN</td>\n",
       "      <td>NaN</td>\n",
       "      <td>NaN</td>\n",
       "      <td>NaN</td>\n",
       "      <td>NaN</td>\n",
       "      <td>NaN</td>\n",
       "    </tr>\n",
       "    <tr>\n",
       "      <th>NaN</th>\n",
       "      <td>NaN</td>\n",
       "      <td>NaN</td>\n",
       "      <td>NaN</td>\n",
       "      <td>NaN</td>\n",
       "      <td>NaN</td>\n",
       "      <td>NaN</td>\n",
       "    </tr>\n",
       "    <tr>\n",
       "      <th>NaN</th>\n",
       "      <td>NaN</td>\n",
       "      <td>NaN</td>\n",
       "      <td>NaN</td>\n",
       "      <td>NaN</td>\n",
       "      <td>NaN</td>\n",
       "      <td>NaN</td>\n",
       "    </tr>\n",
       "    <tr>\n",
       "      <th>2019.06.26</th>\n",
       "      <td>45700.0</td>\n",
       "      <td>100.0</td>\n",
       "      <td>45800.0</td>\n",
       "      <td>46000.0</td>\n",
       "      <td>45600.0</td>\n",
       "      <td>9226097.0</td>\n",
       "    </tr>\n",
       "    <tr>\n",
       "      <th>2019.06.25</th>\n",
       "      <td>45600.0</td>\n",
       "      <td>100.0</td>\n",
       "      <td>45200.0</td>\n",
       "      <td>45800.0</td>\n",
       "      <td>45200.0</td>\n",
       "      <td>7076774.0</td>\n",
       "    </tr>\n",
       "    <tr>\n",
       "      <th>2019.06.24</th>\n",
       "      <td>45500.0</td>\n",
       "      <td>200.0</td>\n",
       "      <td>45200.0</td>\n",
       "      <td>45800.0</td>\n",
       "      <td>45200.0</td>\n",
       "      <td>6085066.0</td>\n",
       "    </tr>\n",
       "    <tr>\n",
       "      <th>2019.06.21</th>\n",
       "      <td>45700.0</td>\n",
       "      <td>200.0</td>\n",
       "      <td>45750.0</td>\n",
       "      <td>45800.0</td>\n",
       "      <td>45200.0</td>\n",
       "      <td>9454913.0</td>\n",
       "    </tr>\n",
       "    <tr>\n",
       "      <th>2019.06.20</th>\n",
       "      <td>45500.0</td>\n",
       "      <td>150.0</td>\n",
       "      <td>44850.0</td>\n",
       "      <td>45500.0</td>\n",
       "      <td>44850.0</td>\n",
       "      <td>7147785.0</td>\n",
       "    </tr>\n",
       "    <tr>\n",
       "      <th>NaN</th>\n",
       "      <td>NaN</td>\n",
       "      <td>NaN</td>\n",
       "      <td>NaN</td>\n",
       "      <td>NaN</td>\n",
       "      <td>NaN</td>\n",
       "      <td>NaN</td>\n",
       "    </tr>\n",
       "    <tr>\n",
       "      <th>NaN</th>\n",
       "      <td>NaN</td>\n",
       "      <td>NaN</td>\n",
       "      <td>NaN</td>\n",
       "      <td>NaN</td>\n",
       "      <td>NaN</td>\n",
       "      <td>NaN</td>\n",
       "    </tr>\n",
       "    <tr>\n",
       "      <th>2019.07.03</th>\n",
       "      <td>45650.0</td>\n",
       "      <td>600.0</td>\n",
       "      <td>45750.0</td>\n",
       "      <td>46350.0</td>\n",
       "      <td>45600.0</td>\n",
       "      <td>3627894.0</td>\n",
       "    </tr>\n",
       "    <tr>\n",
       "      <th>2019.07.02</th>\n",
       "      <td>46250.0</td>\n",
       "      <td>350.0</td>\n",
       "      <td>46200.0</td>\n",
       "      <td>46900.0</td>\n",
       "      <td>45850.0</td>\n",
       "      <td>8463073.0</td>\n",
       "    </tr>\n",
       "    <tr>\n",
       "      <th>2019.07.01</th>\n",
       "      <td>46600.0</td>\n",
       "      <td>400.0</td>\n",
       "      <td>47350.0</td>\n",
       "      <td>47400.0</td>\n",
       "      <td>46250.0</td>\n",
       "      <td>11383522.0</td>\n",
       "    </tr>\n",
       "    <tr>\n",
       "      <th>2019.06.28</th>\n",
       "      <td>47000.0</td>\n",
       "      <td>500.0</td>\n",
       "      <td>47000.0</td>\n",
       "      <td>47000.0</td>\n",
       "      <td>46700.0</td>\n",
       "      <td>12949231.0</td>\n",
       "    </tr>\n",
       "    <tr>\n",
       "      <th>2019.06.27</th>\n",
       "      <td>46500.0</td>\n",
       "      <td>800.0</td>\n",
       "      <td>46000.0</td>\n",
       "      <td>46600.0</td>\n",
       "      <td>45750.0</td>\n",
       "      <td>12603534.0</td>\n",
       "    </tr>\n",
       "    <tr>\n",
       "      <th>NaN</th>\n",
       "      <td>NaN</td>\n",
       "      <td>NaN</td>\n",
       "      <td>NaN</td>\n",
       "      <td>NaN</td>\n",
       "      <td>NaN</td>\n",
       "      <td>NaN</td>\n",
       "    </tr>\n",
       "    <tr>\n",
       "      <th>NaN</th>\n",
       "      <td>NaN</td>\n",
       "      <td>NaN</td>\n",
       "      <td>NaN</td>\n",
       "      <td>NaN</td>\n",
       "      <td>NaN</td>\n",
       "      <td>NaN</td>\n",
       "    </tr>\n",
       "    <tr>\n",
       "      <th>NaN</th>\n",
       "      <td>NaN</td>\n",
       "      <td>NaN</td>\n",
       "      <td>NaN</td>\n",
       "      <td>NaN</td>\n",
       "      <td>NaN</td>\n",
       "      <td>NaN</td>\n",
       "    </tr>\n",
       "    <tr>\n",
       "      <th>2019.06.26</th>\n",
       "      <td>45700.0</td>\n",
       "      <td>100.0</td>\n",
       "      <td>45800.0</td>\n",
       "      <td>46000.0</td>\n",
       "      <td>45600.0</td>\n",
       "      <td>9226097.0</td>\n",
       "    </tr>\n",
       "    <tr>\n",
       "      <th>2019.06.25</th>\n",
       "      <td>45600.0</td>\n",
       "      <td>100.0</td>\n",
       "      <td>45200.0</td>\n",
       "      <td>45800.0</td>\n",
       "      <td>45200.0</td>\n",
       "      <td>7076774.0</td>\n",
       "    </tr>\n",
       "    <tr>\n",
       "      <th>2019.06.24</th>\n",
       "      <td>45500.0</td>\n",
       "      <td>200.0</td>\n",
       "      <td>45200.0</td>\n",
       "      <td>45800.0</td>\n",
       "      <td>45200.0</td>\n",
       "      <td>6085066.0</td>\n",
       "    </tr>\n",
       "    <tr>\n",
       "      <th>2019.06.21</th>\n",
       "      <td>45700.0</td>\n",
       "      <td>200.0</td>\n",
       "      <td>45750.0</td>\n",
       "      <td>45800.0</td>\n",
       "      <td>45200.0</td>\n",
       "      <td>9454913.0</td>\n",
       "    </tr>\n",
       "    <tr>\n",
       "      <th>2019.06.20</th>\n",
       "      <td>45500.0</td>\n",
       "      <td>150.0</td>\n",
       "      <td>44850.0</td>\n",
       "      <td>45500.0</td>\n",
       "      <td>44850.0</td>\n",
       "      <td>7147785.0</td>\n",
       "    </tr>\n",
       "    <tr>\n",
       "      <th>NaN</th>\n",
       "      <td>NaN</td>\n",
       "      <td>NaN</td>\n",
       "      <td>NaN</td>\n",
       "      <td>NaN</td>\n",
       "      <td>NaN</td>\n",
       "      <td>NaN</td>\n",
       "    </tr>\n",
       "    <tr>\n",
       "      <th>...</th>\n",
       "      <td>...</td>\n",
       "      <td>...</td>\n",
       "      <td>...</td>\n",
       "      <td>...</td>\n",
       "      <td>...</td>\n",
       "      <td>...</td>\n",
       "    </tr>\n",
       "    <tr>\n",
       "      <th>NaN</th>\n",
       "      <td>NaN</td>\n",
       "      <td>NaN</td>\n",
       "      <td>NaN</td>\n",
       "      <td>NaN</td>\n",
       "      <td>NaN</td>\n",
       "      <td>NaN</td>\n",
       "    </tr>\n",
       "    <tr>\n",
       "      <th>2019.07.03</th>\n",
       "      <td>45650.0</td>\n",
       "      <td>600.0</td>\n",
       "      <td>45750.0</td>\n",
       "      <td>46350.0</td>\n",
       "      <td>45600.0</td>\n",
       "      <td>3627894.0</td>\n",
       "    </tr>\n",
       "    <tr>\n",
       "      <th>2019.07.02</th>\n",
       "      <td>46250.0</td>\n",
       "      <td>350.0</td>\n",
       "      <td>46200.0</td>\n",
       "      <td>46900.0</td>\n",
       "      <td>45850.0</td>\n",
       "      <td>8463073.0</td>\n",
       "    </tr>\n",
       "    <tr>\n",
       "      <th>2019.07.01</th>\n",
       "      <td>46600.0</td>\n",
       "      <td>400.0</td>\n",
       "      <td>47350.0</td>\n",
       "      <td>47400.0</td>\n",
       "      <td>46250.0</td>\n",
       "      <td>11383522.0</td>\n",
       "    </tr>\n",
       "    <tr>\n",
       "      <th>2019.06.28</th>\n",
       "      <td>47000.0</td>\n",
       "      <td>500.0</td>\n",
       "      <td>47000.0</td>\n",
       "      <td>47000.0</td>\n",
       "      <td>46700.0</td>\n",
       "      <td>12949231.0</td>\n",
       "    </tr>\n",
       "    <tr>\n",
       "      <th>2019.06.27</th>\n",
       "      <td>46500.0</td>\n",
       "      <td>800.0</td>\n",
       "      <td>46000.0</td>\n",
       "      <td>46600.0</td>\n",
       "      <td>45750.0</td>\n",
       "      <td>12603534.0</td>\n",
       "    </tr>\n",
       "    <tr>\n",
       "      <th>NaN</th>\n",
       "      <td>NaN</td>\n",
       "      <td>NaN</td>\n",
       "      <td>NaN</td>\n",
       "      <td>NaN</td>\n",
       "      <td>NaN</td>\n",
       "      <td>NaN</td>\n",
       "    </tr>\n",
       "    <tr>\n",
       "      <th>NaN</th>\n",
       "      <td>NaN</td>\n",
       "      <td>NaN</td>\n",
       "      <td>NaN</td>\n",
       "      <td>NaN</td>\n",
       "      <td>NaN</td>\n",
       "      <td>NaN</td>\n",
       "    </tr>\n",
       "    <tr>\n",
       "      <th>NaN</th>\n",
       "      <td>NaN</td>\n",
       "      <td>NaN</td>\n",
       "      <td>NaN</td>\n",
       "      <td>NaN</td>\n",
       "      <td>NaN</td>\n",
       "      <td>NaN</td>\n",
       "    </tr>\n",
       "    <tr>\n",
       "      <th>2019.06.26</th>\n",
       "      <td>45700.0</td>\n",
       "      <td>100.0</td>\n",
       "      <td>45800.0</td>\n",
       "      <td>46000.0</td>\n",
       "      <td>45600.0</td>\n",
       "      <td>9226097.0</td>\n",
       "    </tr>\n",
       "    <tr>\n",
       "      <th>2019.06.25</th>\n",
       "      <td>45600.0</td>\n",
       "      <td>100.0</td>\n",
       "      <td>45200.0</td>\n",
       "      <td>45800.0</td>\n",
       "      <td>45200.0</td>\n",
       "      <td>7076774.0</td>\n",
       "    </tr>\n",
       "    <tr>\n",
       "      <th>2019.06.24</th>\n",
       "      <td>45500.0</td>\n",
       "      <td>200.0</td>\n",
       "      <td>45200.0</td>\n",
       "      <td>45800.0</td>\n",
       "      <td>45200.0</td>\n",
       "      <td>6085066.0</td>\n",
       "    </tr>\n",
       "    <tr>\n",
       "      <th>2019.06.21</th>\n",
       "      <td>45700.0</td>\n",
       "      <td>200.0</td>\n",
       "      <td>45750.0</td>\n",
       "      <td>45800.0</td>\n",
       "      <td>45200.0</td>\n",
       "      <td>9454913.0</td>\n",
       "    </tr>\n",
       "    <tr>\n",
       "      <th>2019.06.20</th>\n",
       "      <td>45500.0</td>\n",
       "      <td>150.0</td>\n",
       "      <td>44850.0</td>\n",
       "      <td>45500.0</td>\n",
       "      <td>44850.0</td>\n",
       "      <td>7147785.0</td>\n",
       "    </tr>\n",
       "    <tr>\n",
       "      <th>NaN</th>\n",
       "      <td>NaN</td>\n",
       "      <td>NaN</td>\n",
       "      <td>NaN</td>\n",
       "      <td>NaN</td>\n",
       "      <td>NaN</td>\n",
       "      <td>NaN</td>\n",
       "    </tr>\n",
       "    <tr>\n",
       "      <th>NaN</th>\n",
       "      <td>NaN</td>\n",
       "      <td>NaN</td>\n",
       "      <td>NaN</td>\n",
       "      <td>NaN</td>\n",
       "      <td>NaN</td>\n",
       "      <td>NaN</td>\n",
       "    </tr>\n",
       "    <tr>\n",
       "      <th>2019.07.03</th>\n",
       "      <td>45650.0</td>\n",
       "      <td>600.0</td>\n",
       "      <td>45750.0</td>\n",
       "      <td>46350.0</td>\n",
       "      <td>45600.0</td>\n",
       "      <td>3627894.0</td>\n",
       "    </tr>\n",
       "    <tr>\n",
       "      <th>2019.07.02</th>\n",
       "      <td>46250.0</td>\n",
       "      <td>350.0</td>\n",
       "      <td>46200.0</td>\n",
       "      <td>46900.0</td>\n",
       "      <td>45850.0</td>\n",
       "      <td>8463073.0</td>\n",
       "    </tr>\n",
       "    <tr>\n",
       "      <th>2019.07.01</th>\n",
       "      <td>46600.0</td>\n",
       "      <td>400.0</td>\n",
       "      <td>47350.0</td>\n",
       "      <td>47400.0</td>\n",
       "      <td>46250.0</td>\n",
       "      <td>11383522.0</td>\n",
       "    </tr>\n",
       "    <tr>\n",
       "      <th>2019.06.28</th>\n",
       "      <td>47000.0</td>\n",
       "      <td>500.0</td>\n",
       "      <td>47000.0</td>\n",
       "      <td>47000.0</td>\n",
       "      <td>46700.0</td>\n",
       "      <td>12949231.0</td>\n",
       "    </tr>\n",
       "    <tr>\n",
       "      <th>2019.06.27</th>\n",
       "      <td>46500.0</td>\n",
       "      <td>800.0</td>\n",
       "      <td>46000.0</td>\n",
       "      <td>46600.0</td>\n",
       "      <td>45750.0</td>\n",
       "      <td>12603534.0</td>\n",
       "    </tr>\n",
       "    <tr>\n",
       "      <th>NaN</th>\n",
       "      <td>NaN</td>\n",
       "      <td>NaN</td>\n",
       "      <td>NaN</td>\n",
       "      <td>NaN</td>\n",
       "      <td>NaN</td>\n",
       "      <td>NaN</td>\n",
       "    </tr>\n",
       "    <tr>\n",
       "      <th>NaN</th>\n",
       "      <td>NaN</td>\n",
       "      <td>NaN</td>\n",
       "      <td>NaN</td>\n",
       "      <td>NaN</td>\n",
       "      <td>NaN</td>\n",
       "      <td>NaN</td>\n",
       "    </tr>\n",
       "    <tr>\n",
       "      <th>NaN</th>\n",
       "      <td>NaN</td>\n",
       "      <td>NaN</td>\n",
       "      <td>NaN</td>\n",
       "      <td>NaN</td>\n",
       "      <td>NaN</td>\n",
       "      <td>NaN</td>\n",
       "    </tr>\n",
       "    <tr>\n",
       "      <th>2019.06.26</th>\n",
       "      <td>45700.0</td>\n",
       "      <td>100.0</td>\n",
       "      <td>45800.0</td>\n",
       "      <td>46000.0</td>\n",
       "      <td>45600.0</td>\n",
       "      <td>9226097.0</td>\n",
       "    </tr>\n",
       "    <tr>\n",
       "      <th>2019.06.25</th>\n",
       "      <td>45600.0</td>\n",
       "      <td>100.0</td>\n",
       "      <td>45200.0</td>\n",
       "      <td>45800.0</td>\n",
       "      <td>45200.0</td>\n",
       "      <td>7076774.0</td>\n",
       "    </tr>\n",
       "    <tr>\n",
       "      <th>2019.06.24</th>\n",
       "      <td>45500.0</td>\n",
       "      <td>200.0</td>\n",
       "      <td>45200.0</td>\n",
       "      <td>45800.0</td>\n",
       "      <td>45200.0</td>\n",
       "      <td>6085066.0</td>\n",
       "    </tr>\n",
       "    <tr>\n",
       "      <th>2019.06.21</th>\n",
       "      <td>45700.0</td>\n",
       "      <td>200.0</td>\n",
       "      <td>45750.0</td>\n",
       "      <td>45800.0</td>\n",
       "      <td>45200.0</td>\n",
       "      <td>9454913.0</td>\n",
       "    </tr>\n",
       "    <tr>\n",
       "      <th>2019.06.20</th>\n",
       "      <td>45500.0</td>\n",
       "      <td>150.0</td>\n",
       "      <td>44850.0</td>\n",
       "      <td>45500.0</td>\n",
       "      <td>44850.0</td>\n",
       "      <td>7147785.0</td>\n",
       "    </tr>\n",
       "    <tr>\n",
       "      <th>NaN</th>\n",
       "      <td>NaN</td>\n",
       "      <td>NaN</td>\n",
       "      <td>NaN</td>\n",
       "      <td>NaN</td>\n",
       "      <td>NaN</td>\n",
       "      <td>NaN</td>\n",
       "    </tr>\n",
       "  </tbody>\n",
       "</table>\n",
       "<p>405 rows × 6 columns</p>\n",
       "</div>"
      ],
      "text/plain": [
       "                 종가    전일비       시가       고가       저가         거래량\n",
       "날짜                                                               \n",
       "NaN             NaN    NaN      NaN      NaN      NaN         NaN\n",
       "2019.07.03  45650.0  600.0  45750.0  46350.0  45600.0   3627894.0\n",
       "2019.07.02  46250.0  350.0  46200.0  46900.0  45850.0   8463073.0\n",
       "2019.07.01  46600.0  400.0  47350.0  47400.0  46250.0  11383522.0\n",
       "2019.06.28  47000.0  500.0  47000.0  47000.0  46700.0  12949231.0\n",
       "2019.06.27  46500.0  800.0  46000.0  46600.0  45750.0  12603534.0\n",
       "NaN             NaN    NaN      NaN      NaN      NaN         NaN\n",
       "NaN             NaN    NaN      NaN      NaN      NaN         NaN\n",
       "NaN             NaN    NaN      NaN      NaN      NaN         NaN\n",
       "2019.06.26  45700.0  100.0  45800.0  46000.0  45600.0   9226097.0\n",
       "2019.06.25  45600.0  100.0  45200.0  45800.0  45200.0   7076774.0\n",
       "2019.06.24  45500.0  200.0  45200.0  45800.0  45200.0   6085066.0\n",
       "2019.06.21  45700.0  200.0  45750.0  45800.0  45200.0   9454913.0\n",
       "2019.06.20  45500.0  150.0  44850.0  45500.0  44850.0   7147785.0\n",
       "NaN             NaN    NaN      NaN      NaN      NaN         NaN\n",
       "NaN             NaN    NaN      NaN      NaN      NaN         NaN\n",
       "2019.07.03  45650.0  600.0  45750.0  46350.0  45600.0   3627894.0\n",
       "2019.07.02  46250.0  350.0  46200.0  46900.0  45850.0   8463073.0\n",
       "2019.07.01  46600.0  400.0  47350.0  47400.0  46250.0  11383522.0\n",
       "2019.06.28  47000.0  500.0  47000.0  47000.0  46700.0  12949231.0\n",
       "2019.06.27  46500.0  800.0  46000.0  46600.0  45750.0  12603534.0\n",
       "NaN             NaN    NaN      NaN      NaN      NaN         NaN\n",
       "NaN             NaN    NaN      NaN      NaN      NaN         NaN\n",
       "NaN             NaN    NaN      NaN      NaN      NaN         NaN\n",
       "2019.06.26  45700.0  100.0  45800.0  46000.0  45600.0   9226097.0\n",
       "2019.06.25  45600.0  100.0  45200.0  45800.0  45200.0   7076774.0\n",
       "2019.06.24  45500.0  200.0  45200.0  45800.0  45200.0   6085066.0\n",
       "2019.06.21  45700.0  200.0  45750.0  45800.0  45200.0   9454913.0\n",
       "2019.06.20  45500.0  150.0  44850.0  45500.0  44850.0   7147785.0\n",
       "NaN             NaN    NaN      NaN      NaN      NaN         NaN\n",
       "...             ...    ...      ...      ...      ...         ...\n",
       "NaN             NaN    NaN      NaN      NaN      NaN         NaN\n",
       "2019.07.03  45650.0  600.0  45750.0  46350.0  45600.0   3627894.0\n",
       "2019.07.02  46250.0  350.0  46200.0  46900.0  45850.0   8463073.0\n",
       "2019.07.01  46600.0  400.0  47350.0  47400.0  46250.0  11383522.0\n",
       "2019.06.28  47000.0  500.0  47000.0  47000.0  46700.0  12949231.0\n",
       "2019.06.27  46500.0  800.0  46000.0  46600.0  45750.0  12603534.0\n",
       "NaN             NaN    NaN      NaN      NaN      NaN         NaN\n",
       "NaN             NaN    NaN      NaN      NaN      NaN         NaN\n",
       "NaN             NaN    NaN      NaN      NaN      NaN         NaN\n",
       "2019.06.26  45700.0  100.0  45800.0  46000.0  45600.0   9226097.0\n",
       "2019.06.25  45600.0  100.0  45200.0  45800.0  45200.0   7076774.0\n",
       "2019.06.24  45500.0  200.0  45200.0  45800.0  45200.0   6085066.0\n",
       "2019.06.21  45700.0  200.0  45750.0  45800.0  45200.0   9454913.0\n",
       "2019.06.20  45500.0  150.0  44850.0  45500.0  44850.0   7147785.0\n",
       "NaN             NaN    NaN      NaN      NaN      NaN         NaN\n",
       "NaN             NaN    NaN      NaN      NaN      NaN         NaN\n",
       "2019.07.03  45650.0  600.0  45750.0  46350.0  45600.0   3627894.0\n",
       "2019.07.02  46250.0  350.0  46200.0  46900.0  45850.0   8463073.0\n",
       "2019.07.01  46600.0  400.0  47350.0  47400.0  46250.0  11383522.0\n",
       "2019.06.28  47000.0  500.0  47000.0  47000.0  46700.0  12949231.0\n",
       "2019.06.27  46500.0  800.0  46000.0  46600.0  45750.0  12603534.0\n",
       "NaN             NaN    NaN      NaN      NaN      NaN         NaN\n",
       "NaN             NaN    NaN      NaN      NaN      NaN         NaN\n",
       "NaN             NaN    NaN      NaN      NaN      NaN         NaN\n",
       "2019.06.26  45700.0  100.0  45800.0  46000.0  45600.0   9226097.0\n",
       "2019.06.25  45600.0  100.0  45200.0  45800.0  45200.0   7076774.0\n",
       "2019.06.24  45500.0  200.0  45200.0  45800.0  45200.0   6085066.0\n",
       "2019.06.21  45700.0  200.0  45750.0  45800.0  45200.0   9454913.0\n",
       "2019.06.20  45500.0  150.0  44850.0  45500.0  44850.0   7147785.0\n",
       "NaN             NaN    NaN      NaN      NaN      NaN         NaN\n",
       "\n",
       "[405 rows x 6 columns]"
      ]
     },
     "execution_count": 17,
     "metadata": {},
     "output_type": "execute_result"
    }
   ],
   "source": [
    "samsung.set_index('날짜') # 날짜 컬럼을 인덱스로"
   ]
  },
  {
   "cell_type": "code",
   "execution_count": 21,
   "metadata": {},
   "outputs": [
    {
     "data": {
      "text/plain": [
       "2"
      ]
     },
     "execution_count": 21,
     "metadata": {},
     "output_type": "execute_result"
    }
   ],
   "source": [
    "bitcoin_url = 'https://coinmarketcap.com/currencies/bitcoin/historical-data/?start=20180601&end=20190601'\n",
    "tables = pd.read_html(bitcoin_url)\n",
    "len(tables)\n",
    "\n",
    "bitcoin = tables[0]\n",
    "len(tables)"
   ]
  },
  {
   "cell_type": "markdown",
   "metadata": {},
   "source": [
    "두 데이터 날짜 기준으로 통합(axis=1)\n",
    "- 외국(2018-01-01), 국내(2018.1.1),(18.1.1)\n",
    "- 날짜 포맷을 (YYYY-MM-DD) 으로 변환 후 통합"
   ]
  },
  {
   "cell_type": "code",
   "execution_count": 35,
   "metadata": {},
   "outputs": [],
   "source": [
    "# 날짜를 인덱스로\n",
    "samsung = samsung.set_index('날짜')"
   ]
  },
  {
   "cell_type": "code",
   "execution_count": 36,
   "metadata": {},
   "outputs": [],
   "source": [
    "bitcoin = bitcoin.set_index('Date')"
   ]
  },
  {
   "cell_type": "code",
   "execution_count": 37,
   "metadata": {},
   "outputs": [
    {
     "data": {
      "text/plain": [
       "Index([         nan, '2019.07.03', '2019.07.02', '2019.07.01', '2019.06.28',\n",
       "       '2019.06.27',          nan,          nan,          nan, '2019.06.26',\n",
       "       ...\n",
       "       '2018.06.04',          nan,          nan,          nan, '2018.06.01',\n",
       "       '2018.05.31', '2018.05.30', '2018.05.29', '2018.05.28',          nan],\n",
       "      dtype='object', name='날짜', length=405)"
      ]
     },
     "execution_count": 37,
     "metadata": {},
     "output_type": "execute_result"
    }
   ],
   "source": [
    "samsung.index"
   ]
  },
  {
   "cell_type": "code",
   "execution_count": 38,
   "metadata": {},
   "outputs": [
    {
     "data": {
      "text/plain": [
       "Index(['Jun 01, 2019', 'May 31, 2019', 'May 30, 2019', 'May 29, 2019',\n",
       "       'May 28, 2019', 'May 27, 2019', 'May 26, 2019', 'May 25, 2019',\n",
       "       'May 24, 2019', 'May 23, 2019',\n",
       "       ...\n",
       "       'Jun 10, 2018', 'Jun 09, 2018', 'Jun 08, 2018', 'Jun 07, 2018',\n",
       "       'Jun 06, 2018', 'Jun 05, 2018', 'Jun 04, 2018', 'Jun 03, 2018',\n",
       "       'Jun 02, 2018', 'Jun 01, 2018'],\n",
       "      dtype='object', name='Date', length=366)"
      ]
     },
     "execution_count": 38,
     "metadata": {},
     "output_type": "execute_result"
    }
   ],
   "source": [
    "bitcoin.index"
   ]
  },
  {
   "cell_type": "code",
   "execution_count": 41,
   "metadata": {},
   "outputs": [
    {
     "data": {
      "text/plain": [
       "DatetimeIndex(['2019-06-01', '2019-05-31', '2019-05-30', '2019-05-29',\n",
       "               '2019-05-28', '2019-05-27', '2019-05-26', '2019-05-25',\n",
       "               '2019-05-24', '2019-05-23',\n",
       "               ...\n",
       "               '2018-06-10', '2018-06-09', '2018-06-08', '2018-06-07',\n",
       "               '2018-06-06', '2018-06-05', '2018-06-04', '2018-06-03',\n",
       "               '2018-06-02', '2018-06-01'],\n",
       "              dtype='datetime64[ns]', name='Date', length=366, freq=None)"
      ]
     },
     "execution_count": 41,
     "metadata": {},
     "output_type": "execute_result"
    }
   ],
   "source": [
    "#두 데이터  인덱스 형식이 맞지 않음\n",
    "pd.to_datetime(bitcoin.index) # 비트토인 인덱스를 날짜로 바꾸기"
   ]
  },
  {
   "cell_type": "code",
   "execution_count": 42,
   "metadata": {},
   "outputs": [
    {
     "data": {
      "text/plain": [
       "DatetimeIndex([       'NaT', '2019-07-03', '2019-07-02', '2019-07-01',\n",
       "               '2019-06-28', '2019-06-27',        'NaT',        'NaT',\n",
       "                      'NaT', '2019-06-26',\n",
       "               ...\n",
       "               '2018-06-04',        'NaT',        'NaT',        'NaT',\n",
       "               '2018-06-01', '2018-05-31', '2018-05-30', '2018-05-29',\n",
       "               '2018-05-28',        'NaT'],\n",
       "              dtype='datetime64[ns]', name='날짜', length=405, freq=None)"
      ]
     },
     "execution_count": 42,
     "metadata": {},
     "output_type": "execute_result"
    }
   ],
   "source": [
    "pd.to_datetime(samsung.index) # 삼성 인덱스를 날짜로 바꾸기"
   ]
  },
  {
   "cell_type": "code",
   "execution_count": 44,
   "metadata": {},
   "outputs": [],
   "source": [
    "# 인덱스 타입을 날짜 타입으로 변환, 두번 실행 X\n",
    "bitcoin.index = pd.to_datetime(bitcoin.index) # 삼성 인덱스를 날짜로 바꾸기\n",
    "samsung.index = pd.to_datetime(samsung.index) # 삼성 인덱스를 날짜로 바꾸기"
   ]
  },
  {
   "cell_type": "code",
   "execution_count": 45,
   "metadata": {},
   "outputs": [
    {
     "data": {
      "text/html": [
       "<div>\n",
       "<style scoped>\n",
       "    .dataframe tbody tr th:only-of-type {\n",
       "        vertical-align: middle;\n",
       "    }\n",
       "\n",
       "    .dataframe tbody tr th {\n",
       "        vertical-align: top;\n",
       "    }\n",
       "\n",
       "    .dataframe thead th {\n",
       "        text-align: right;\n",
       "    }\n",
       "</style>\n",
       "<table border=\"1\" class=\"dataframe\">\n",
       "  <thead>\n",
       "    <tr style=\"text-align: right;\">\n",
       "      <th></th>\n",
       "      <th>Open*</th>\n",
       "      <th>High</th>\n",
       "      <th>Low</th>\n",
       "      <th>Close**</th>\n",
       "      <th>Volume</th>\n",
       "      <th>Market Cap</th>\n",
       "    </tr>\n",
       "    <tr>\n",
       "      <th>Date</th>\n",
       "      <th></th>\n",
       "      <th></th>\n",
       "      <th></th>\n",
       "      <th></th>\n",
       "      <th></th>\n",
       "      <th></th>\n",
       "    </tr>\n",
       "  </thead>\n",
       "  <tbody>\n",
       "    <tr>\n",
       "      <th>2019-06-01</th>\n",
       "      <td>8573.84</td>\n",
       "      <td>8625.60</td>\n",
       "      <td>8481.58</td>\n",
       "      <td>8564.02</td>\n",
       "      <td>22488303544</td>\n",
       "      <td>151890214310</td>\n",
       "    </tr>\n",
       "    <tr>\n",
       "      <th>2019-05-31</th>\n",
       "      <td>8320.29</td>\n",
       "      <td>8586.66</td>\n",
       "      <td>8172.55</td>\n",
       "      <td>8574.50</td>\n",
       "      <td>25365190957</td>\n",
       "      <td>152059886414</td>\n",
       "    </tr>\n",
       "    <tr>\n",
       "      <th>2019-05-30</th>\n",
       "      <td>8661.76</td>\n",
       "      <td>9008.31</td>\n",
       "      <td>8221.27</td>\n",
       "      <td>8319.47</td>\n",
       "      <td>29246528551</td>\n",
       "      <td>147525141134</td>\n",
       "    </tr>\n",
       "    <tr>\n",
       "      <th>2019-05-29</th>\n",
       "      <td>8718.59</td>\n",
       "      <td>8755.85</td>\n",
       "      <td>8482.73</td>\n",
       "      <td>8659.49</td>\n",
       "      <td>23473479966</td>\n",
       "      <td>153537047655</td>\n",
       "    </tr>\n",
       "    <tr>\n",
       "      <th>2019-05-28</th>\n",
       "      <td>8802.76</td>\n",
       "      <td>8807.02</td>\n",
       "      <td>8634.72</td>\n",
       "      <td>8719.96</td>\n",
       "      <td>24226919267</td>\n",
       "      <td>154590202287</td>\n",
       "    </tr>\n",
       "  </tbody>\n",
       "</table>\n",
       "</div>"
      ],
      "text/plain": [
       "              Open*     High      Low  Close**       Volume    Market Cap\n",
       "Date                                                                     \n",
       "2019-06-01  8573.84  8625.60  8481.58  8564.02  22488303544  151890214310\n",
       "2019-05-31  8320.29  8586.66  8172.55  8574.50  25365190957  152059886414\n",
       "2019-05-30  8661.76  9008.31  8221.27  8319.47  29246528551  147525141134\n",
       "2019-05-29  8718.59  8755.85  8482.73  8659.49  23473479966  153537047655\n",
       "2019-05-28  8802.76  8807.02  8634.72  8719.96  24226919267  154590202287"
      ]
     },
     "execution_count": 45,
     "metadata": {},
     "output_type": "execute_result"
    }
   ],
   "source": [
    "bitcoin.head()"
   ]
  },
  {
   "cell_type": "code",
   "execution_count": 46,
   "metadata": {},
   "outputs": [
    {
     "data": {
      "text/html": [
       "<div>\n",
       "<style scoped>\n",
       "    .dataframe tbody tr th:only-of-type {\n",
       "        vertical-align: middle;\n",
       "    }\n",
       "\n",
       "    .dataframe tbody tr th {\n",
       "        vertical-align: top;\n",
       "    }\n",
       "\n",
       "    .dataframe thead th {\n",
       "        text-align: right;\n",
       "    }\n",
       "</style>\n",
       "<table border=\"1\" class=\"dataframe\">\n",
       "  <thead>\n",
       "    <tr style=\"text-align: right;\">\n",
       "      <th></th>\n",
       "      <th>종가</th>\n",
       "      <th>전일비</th>\n",
       "      <th>시가</th>\n",
       "      <th>고가</th>\n",
       "      <th>저가</th>\n",
       "      <th>거래량</th>\n",
       "    </tr>\n",
       "    <tr>\n",
       "      <th>날짜</th>\n",
       "      <th></th>\n",
       "      <th></th>\n",
       "      <th></th>\n",
       "      <th></th>\n",
       "      <th></th>\n",
       "      <th></th>\n",
       "    </tr>\n",
       "  </thead>\n",
       "  <tbody>\n",
       "    <tr>\n",
       "      <th>NaT</th>\n",
       "      <td>NaN</td>\n",
       "      <td>NaN</td>\n",
       "      <td>NaN</td>\n",
       "      <td>NaN</td>\n",
       "      <td>NaN</td>\n",
       "      <td>NaN</td>\n",
       "    </tr>\n",
       "    <tr>\n",
       "      <th>2019-07-03</th>\n",
       "      <td>45700.0</td>\n",
       "      <td>550.0</td>\n",
       "      <td>45750.0</td>\n",
       "      <td>46350.0</td>\n",
       "      <td>45600.0</td>\n",
       "      <td>3743794.0</td>\n",
       "    </tr>\n",
       "    <tr>\n",
       "      <th>2019-07-02</th>\n",
       "      <td>46250.0</td>\n",
       "      <td>350.0</td>\n",
       "      <td>46200.0</td>\n",
       "      <td>46900.0</td>\n",
       "      <td>45850.0</td>\n",
       "      <td>8463073.0</td>\n",
       "    </tr>\n",
       "    <tr>\n",
       "      <th>2019-07-01</th>\n",
       "      <td>46600.0</td>\n",
       "      <td>400.0</td>\n",
       "      <td>47350.0</td>\n",
       "      <td>47400.0</td>\n",
       "      <td>46250.0</td>\n",
       "      <td>11383522.0</td>\n",
       "    </tr>\n",
       "    <tr>\n",
       "      <th>2019-06-28</th>\n",
       "      <td>47000.0</td>\n",
       "      <td>500.0</td>\n",
       "      <td>47000.0</td>\n",
       "      <td>47000.0</td>\n",
       "      <td>46700.0</td>\n",
       "      <td>12949231.0</td>\n",
       "    </tr>\n",
       "  </tbody>\n",
       "</table>\n",
       "</div>"
      ],
      "text/plain": [
       "                 종가    전일비       시가       고가       저가         거래량\n",
       "날짜                                                               \n",
       "NaT             NaN    NaN      NaN      NaN      NaN         NaN\n",
       "2019-07-03  45700.0  550.0  45750.0  46350.0  45600.0   3743794.0\n",
       "2019-07-02  46250.0  350.0  46200.0  46900.0  45850.0   8463073.0\n",
       "2019-07-01  46600.0  400.0  47350.0  47400.0  46250.0  11383522.0\n",
       "2019-06-28  47000.0  500.0  47000.0  47000.0  46700.0  12949231.0"
      ]
     },
     "execution_count": 46,
     "metadata": {},
     "output_type": "execute_result"
    }
   ],
   "source": [
    "samsung.head()"
   ]
  },
  {
   "cell_type": "code",
   "execution_count": 49,
   "metadata": {},
   "outputs": [
    {
     "data": {
      "text/plain": [
       "(244, 12)"
      ]
     },
     "execution_count": 49,
     "metadata": {},
     "output_type": "execute_result"
    }
   ],
   "source": [
    "df  = pd.concat((samsung, bitcoin), axis=1).dropna() # 인덱스 기준으로 합치기\n",
    "df.shape"
   ]
  },
  {
   "cell_type": "code",
   "execution_count": 51,
   "metadata": {},
   "outputs": [
    {
     "data": {
      "text/plain": [
       "종가            float64\n",
       "전일비           float64\n",
       "시가            float64\n",
       "고가            float64\n",
       "저가            float64\n",
       "거래량           float64\n",
       "Open*         float64\n",
       "High          float64\n",
       "Low           float64\n",
       "Close**       float64\n",
       "Volume        float64\n",
       "Market Cap    float64\n",
       "dtype: object"
      ]
     },
     "execution_count": 51,
     "metadata": {},
     "output_type": "execute_result"
    }
   ],
   "source": [
    "df.dtypes # 타입 확인, 변환 필요없음"
   ]
  },
  {
   "cell_type": "code",
   "execution_count": 53,
   "metadata": {},
   "outputs": [
    {
     "data": {
      "text/plain": [
       "종가            1.086810e+07\n",
       "전일비           1.280000e+05\n",
       "시가            1.086810e+07\n",
       "고가            1.097580e+07\n",
       "저가            1.075555e+07\n",
       "거래량           2.750724e+09\n",
       "Open*         1.366062e+06\n",
       "High          1.392758e+06\n",
       "Low           1.339061e+06\n",
       "Close**       1.365799e+06\n",
       "Volume        1.973326e+12\n",
       "Market Cap    2.374280e+13\n",
       "dtype: float64"
      ]
     },
     "execution_count": 53,
     "metadata": {},
     "output_type": "execute_result"
    }
   ],
   "source": [
    "df.sum() # 누락 데이터 확인, 누락값 있으면 sum이 안됨"
   ]
  },
  {
   "cell_type": "code",
   "execution_count": 57,
   "metadata": {},
   "outputs": [
    {
     "data": {
      "text/plain": [
       "0"
      ]
     },
     "execution_count": 57,
     "metadata": {},
     "output_type": "execute_result"
    }
   ],
   "source": [
    "df.isna().sum().sum() # nulll 이 있는지 확인 isna()"
   ]
  },
  {
   "cell_type": "code",
   "execution_count": 54,
   "metadata": {},
   "outputs": [
    {
     "data": {
      "text/html": [
       "<div>\n",
       "<style scoped>\n",
       "    .dataframe tbody tr th:only-of-type {\n",
       "        vertical-align: middle;\n",
       "    }\n",
       "\n",
       "    .dataframe tbody tr th {\n",
       "        vertical-align: top;\n",
       "    }\n",
       "\n",
       "    .dataframe thead th {\n",
       "        text-align: right;\n",
       "    }\n",
       "</style>\n",
       "<table border=\"1\" class=\"dataframe\">\n",
       "  <thead>\n",
       "    <tr style=\"text-align: right;\">\n",
       "      <th></th>\n",
       "      <th>종가</th>\n",
       "      <th>전일비</th>\n",
       "      <th>시가</th>\n",
       "      <th>고가</th>\n",
       "      <th>저가</th>\n",
       "      <th>거래량</th>\n",
       "      <th>Open*</th>\n",
       "      <th>High</th>\n",
       "      <th>Low</th>\n",
       "      <th>Close**</th>\n",
       "      <th>Volume</th>\n",
       "      <th>Market Cap</th>\n",
       "    </tr>\n",
       "  </thead>\n",
       "  <tbody>\n",
       "    <tr>\n",
       "      <th>count</th>\n",
       "      <td>244.000000</td>\n",
       "      <td>244.000000</td>\n",
       "      <td>244.000000</td>\n",
       "      <td>244.000000</td>\n",
       "      <td>244.000000</td>\n",
       "      <td>2.440000e+02</td>\n",
       "      <td>244.000000</td>\n",
       "      <td>244.000000</td>\n",
       "      <td>244.000000</td>\n",
       "      <td>244.000000</td>\n",
       "      <td>2.440000e+02</td>\n",
       "      <td>2.440000e+02</td>\n",
       "    </tr>\n",
       "    <tr>\n",
       "      <th>mean</th>\n",
       "      <td>44541.393443</td>\n",
       "      <td>524.590164</td>\n",
       "      <td>44541.393443</td>\n",
       "      <td>44982.786885</td>\n",
       "      <td>44080.122951</td>\n",
       "      <td>1.127346e+07</td>\n",
       "      <td>5598.614672</td>\n",
       "      <td>5708.022869</td>\n",
       "      <td>5487.953197</td>\n",
       "      <td>5597.538361</td>\n",
       "      <td>8.087400e+09</td>\n",
       "      <td>9.730654e+10</td>\n",
       "    </tr>\n",
       "    <tr>\n",
       "      <th>std</th>\n",
       "      <td>2616.501077</td>\n",
       "      <td>445.496251</td>\n",
       "      <td>2663.568359</td>\n",
       "      <td>2616.332608</td>\n",
       "      <td>2605.084532</td>\n",
       "      <td>3.923683e+06</td>\n",
       "      <td>1514.608753</td>\n",
       "      <td>1542.730010</td>\n",
       "      <td>1476.931675</td>\n",
       "      <td>1512.541132</td>\n",
       "      <td>6.225952e+09</td>\n",
       "      <td>2.597773e+10</td>\n",
       "    </tr>\n",
       "    <tr>\n",
       "      <th>min</th>\n",
       "      <td>37450.000000</td>\n",
       "      <td>0.000000</td>\n",
       "      <td>37450.000000</td>\n",
       "      <td>37600.000000</td>\n",
       "      <td>36850.000000</td>\n",
       "      <td>4.762460e+06</td>\n",
       "      <td>3253.120000</td>\n",
       "      <td>3329.560000</td>\n",
       "      <td>3206.540000</td>\n",
       "      <td>3242.480000</td>\n",
       "      <td>3.230550e+09</td>\n",
       "      <td>5.649438e+10</td>\n",
       "    </tr>\n",
       "    <tr>\n",
       "      <th>25%</th>\n",
       "      <td>43012.500000</td>\n",
       "      <td>200.000000</td>\n",
       "      <td>43012.500000</td>\n",
       "      <td>43437.500000</td>\n",
       "      <td>42400.000000</td>\n",
       "      <td>8.298381e+06</td>\n",
       "      <td>3957.602500</td>\n",
       "      <td>4031.850000</td>\n",
       "      <td>3899.502500</td>\n",
       "      <td>3956.197500</td>\n",
       "      <td>4.324805e+09</td>\n",
       "      <td>6.936442e+10</td>\n",
       "    </tr>\n",
       "    <tr>\n",
       "      <th>50%</th>\n",
       "      <td>44975.000000</td>\n",
       "      <td>400.000000</td>\n",
       "      <td>44925.000000</td>\n",
       "      <td>45500.000000</td>\n",
       "      <td>44500.000000</td>\n",
       "      <td>1.079669e+07</td>\n",
       "      <td>6205.425000</td>\n",
       "      <td>6300.355000</td>\n",
       "      <td>6029.725000</td>\n",
       "      <td>6179.620000</td>\n",
       "      <td>5.304537e+09</td>\n",
       "      <td>1.064328e+11</td>\n",
       "    </tr>\n",
       "    <tr>\n",
       "      <th>75%</th>\n",
       "      <td>46362.500000</td>\n",
       "      <td>762.500000</td>\n",
       "      <td>46462.500000</td>\n",
       "      <td>46850.000000</td>\n",
       "      <td>46000.000000</td>\n",
       "      <td>1.305694e+07</td>\n",
       "      <td>6599.830000</td>\n",
       "      <td>6743.025000</td>\n",
       "      <td>6498.092500</td>\n",
       "      <td>6601.707500</td>\n",
       "      <td>9.347169e+09</td>\n",
       "      <td>1.140496e+11</td>\n",
       "    </tr>\n",
       "    <tr>\n",
       "      <th>max</th>\n",
       "      <td>51300.000000</td>\n",
       "      <td>2200.000000</td>\n",
       "      <td>51800.000000</td>\n",
       "      <td>51800.000000</td>\n",
       "      <td>50700.000000</td>\n",
       "      <td>2.625465e+07</td>\n",
       "      <td>8802.760000</td>\n",
       "      <td>9008.310000</td>\n",
       "      <td>8668.700000</td>\n",
       "      <td>8805.780000</td>\n",
       "      <td>3.316720e+10</td>\n",
       "      <td>1.560938e+11</td>\n",
       "    </tr>\n",
       "  </tbody>\n",
       "</table>\n",
       "</div>"
      ],
      "text/plain": [
       "                 종가          전일비            시가            고가            저가  \\\n",
       "count    244.000000   244.000000    244.000000    244.000000    244.000000   \n",
       "mean   44541.393443   524.590164  44541.393443  44982.786885  44080.122951   \n",
       "std     2616.501077   445.496251   2663.568359   2616.332608   2605.084532   \n",
       "min    37450.000000     0.000000  37450.000000  37600.000000  36850.000000   \n",
       "25%    43012.500000   200.000000  43012.500000  43437.500000  42400.000000   \n",
       "50%    44975.000000   400.000000  44925.000000  45500.000000  44500.000000   \n",
       "75%    46362.500000   762.500000  46462.500000  46850.000000  46000.000000   \n",
       "max    51300.000000  2200.000000  51800.000000  51800.000000  50700.000000   \n",
       "\n",
       "                거래량        Open*         High          Low      Close**  \\\n",
       "count  2.440000e+02   244.000000   244.000000   244.000000   244.000000   \n",
       "mean   1.127346e+07  5598.614672  5708.022869  5487.953197  5597.538361   \n",
       "std    3.923683e+06  1514.608753  1542.730010  1476.931675  1512.541132   \n",
       "min    4.762460e+06  3253.120000  3329.560000  3206.540000  3242.480000   \n",
       "25%    8.298381e+06  3957.602500  4031.850000  3899.502500  3956.197500   \n",
       "50%    1.079669e+07  6205.425000  6300.355000  6029.725000  6179.620000   \n",
       "75%    1.305694e+07  6599.830000  6743.025000  6498.092500  6601.707500   \n",
       "max    2.625465e+07  8802.760000  9008.310000  8668.700000  8805.780000   \n",
       "\n",
       "             Volume    Market Cap  \n",
       "count  2.440000e+02  2.440000e+02  \n",
       "mean   8.087400e+09  9.730654e+10  \n",
       "std    6.225952e+09  2.597773e+10  \n",
       "min    3.230550e+09  5.649438e+10  \n",
       "25%    4.324805e+09  6.936442e+10  \n",
       "50%    5.304537e+09  1.064328e+11  \n",
       "75%    9.347169e+09  1.140496e+11  \n",
       "max    3.316720e+10  1.560938e+11  "
      ]
     },
     "execution_count": 54,
     "metadata": {},
     "output_type": "execute_result"
    }
   ],
   "source": [
    "df.describe() # 수치 데이터 면서 누락이 없음"
   ]
  },
  {
   "cell_type": "code",
   "execution_count": 59,
   "metadata": {},
   "outputs": [
    {
     "data": {
      "text/html": [
       "<div>\n",
       "<style scoped>\n",
       "    .dataframe tbody tr th:only-of-type {\n",
       "        vertical-align: middle;\n",
       "    }\n",
       "\n",
       "    .dataframe tbody tr th {\n",
       "        vertical-align: top;\n",
       "    }\n",
       "\n",
       "    .dataframe thead th {\n",
       "        text-align: right;\n",
       "    }\n",
       "</style>\n",
       "<table border=\"1\" class=\"dataframe\">\n",
       "  <thead>\n",
       "    <tr style=\"text-align: right;\">\n",
       "      <th></th>\n",
       "      <th>종가</th>\n",
       "      <th>전일비</th>\n",
       "      <th>시가</th>\n",
       "      <th>고가</th>\n",
       "      <th>저가</th>\n",
       "      <th>거래량</th>\n",
       "      <th>Open*</th>\n",
       "      <th>High</th>\n",
       "      <th>Low</th>\n",
       "      <th>Close**</th>\n",
       "      <th>Volume</th>\n",
       "      <th>Market Cap</th>\n",
       "    </tr>\n",
       "  </thead>\n",
       "  <tbody>\n",
       "    <tr>\n",
       "      <th>종가</th>\n",
       "      <td>6.846078e+06</td>\n",
       "      <td>-1.755498e+04</td>\n",
       "      <td>6.807220e+06</td>\n",
       "      <td>6.780417e+06</td>\n",
       "      <td>6.748902e+06</td>\n",
       "      <td>-1.768174e+09</td>\n",
       "      <td>1.509873e+06</td>\n",
       "      <td>1.509372e+06</td>\n",
       "      <td>1.519761e+06</td>\n",
       "      <td>1.530810e+06</td>\n",
       "      <td>-1.766514e+12</td>\n",
       "      <td>2.530176e+13</td>\n",
       "    </tr>\n",
       "    <tr>\n",
       "      <th>전일비</th>\n",
       "      <td>-1.755498e+04</td>\n",
       "      <td>1.984669e+05</td>\n",
       "      <td>-1.146445e+04</td>\n",
       "      <td>2.638181e+04</td>\n",
       "      <td>-4.971497e+04</td>\n",
       "      <td>8.561799e+08</td>\n",
       "      <td>-1.569126e+04</td>\n",
       "      <td>-2.158713e+04</td>\n",
       "      <td>-1.742792e+04</td>\n",
       "      <td>-2.561715e+04</td>\n",
       "      <td>-1.813583e+11</td>\n",
       "      <td>-4.628508e+11</td>\n",
       "    </tr>\n",
       "    <tr>\n",
       "      <th>시가</th>\n",
       "      <td>6.807220e+06</td>\n",
       "      <td>-1.146445e+04</td>\n",
       "      <td>7.094596e+06</td>\n",
       "      <td>6.898380e+06</td>\n",
       "      <td>6.874931e+06</td>\n",
       "      <td>-1.543646e+09</td>\n",
       "      <td>1.544614e+06</td>\n",
       "      <td>1.544355e+06</td>\n",
       "      <td>1.547371e+06</td>\n",
       "      <td>1.560183e+06</td>\n",
       "      <td>-1.646136e+12</td>\n",
       "      <td>2.579749e+13</td>\n",
       "    </tr>\n",
       "    <tr>\n",
       "      <th>고가</th>\n",
       "      <td>6.780417e+06</td>\n",
       "      <td>2.638181e+04</td>\n",
       "      <td>6.898380e+06</td>\n",
       "      <td>6.845196e+06</td>\n",
       "      <td>6.757650e+06</td>\n",
       "      <td>-1.307755e+09</td>\n",
       "      <td>1.532320e+06</td>\n",
       "      <td>1.531849e+06</td>\n",
       "      <td>1.541699e+06</td>\n",
       "      <td>1.551951e+06</td>\n",
       "      <td>-1.657222e+12</td>\n",
       "      <td>2.567207e+13</td>\n",
       "    </tr>\n",
       "    <tr>\n",
       "      <th>저가</th>\n",
       "      <td>6.748902e+06</td>\n",
       "      <td>-4.971497e+04</td>\n",
       "      <td>6.874931e+06</td>\n",
       "      <td>6.757650e+06</td>\n",
       "      <td>6.786465e+06</td>\n",
       "      <td>-1.902252e+09</td>\n",
       "      <td>1.518191e+06</td>\n",
       "      <td>1.521359e+06</td>\n",
       "      <td>1.524395e+06</td>\n",
       "      <td>1.540312e+06</td>\n",
       "      <td>-1.758229e+12</td>\n",
       "      <td>2.544846e+13</td>\n",
       "    </tr>\n",
       "    <tr>\n",
       "      <th>거래량</th>\n",
       "      <td>-1.768174e+09</td>\n",
       "      <td>8.561799e+08</td>\n",
       "      <td>-1.543646e+09</td>\n",
       "      <td>-1.307755e+09</td>\n",
       "      <td>-1.902252e+09</td>\n",
       "      <td>1.539529e+13</td>\n",
       "      <td>-6.895658e+08</td>\n",
       "      <td>-7.620610e+08</td>\n",
       "      <td>-6.713624e+08</td>\n",
       "      <td>-7.452021e+08</td>\n",
       "      <td>8.860541e+14</td>\n",
       "      <td>-1.248894e+16</td>\n",
       "    </tr>\n",
       "    <tr>\n",
       "      <th>Open*</th>\n",
       "      <td>1.509873e+06</td>\n",
       "      <td>-1.569126e+04</td>\n",
       "      <td>1.544614e+06</td>\n",
       "      <td>1.532320e+06</td>\n",
       "      <td>1.518191e+06</td>\n",
       "      <td>-6.895658e+08</td>\n",
       "      <td>2.294040e+06</td>\n",
       "      <td>2.326722e+06</td>\n",
       "      <td>2.226557e+06</td>\n",
       "      <td>2.271367e+06</td>\n",
       "      <td>1.577697e+12</td>\n",
       "      <td>3.895097e+13</td>\n",
       "    </tr>\n",
       "    <tr>\n",
       "      <th>High</th>\n",
       "      <td>1.509372e+06</td>\n",
       "      <td>-2.158713e+04</td>\n",
       "      <td>1.544355e+06</td>\n",
       "      <td>1.531849e+06</td>\n",
       "      <td>1.521359e+06</td>\n",
       "      <td>-7.620610e+08</td>\n",
       "      <td>2.326722e+06</td>\n",
       "      <td>2.380016e+06</td>\n",
       "      <td>2.264298e+06</td>\n",
       "      <td>2.324452e+06</td>\n",
       "      <td>1.850203e+12</td>\n",
       "      <td>3.988235e+13</td>\n",
       "    </tr>\n",
       "    <tr>\n",
       "      <th>Low</th>\n",
       "      <td>1.519761e+06</td>\n",
       "      <td>-1.742792e+04</td>\n",
       "      <td>1.547371e+06</td>\n",
       "      <td>1.541699e+06</td>\n",
       "      <td>1.524395e+06</td>\n",
       "      <td>-6.713624e+08</td>\n",
       "      <td>2.226557e+06</td>\n",
       "      <td>2.264298e+06</td>\n",
       "      <td>2.181327e+06</td>\n",
       "      <td>2.226544e+06</td>\n",
       "      <td>1.453797e+12</td>\n",
       "      <td>3.818191e+13</td>\n",
       "    </tr>\n",
       "    <tr>\n",
       "      <th>Close**</th>\n",
       "      <td>1.530810e+06</td>\n",
       "      <td>-2.561715e+04</td>\n",
       "      <td>1.560183e+06</td>\n",
       "      <td>1.551951e+06</td>\n",
       "      <td>1.540312e+06</td>\n",
       "      <td>-7.452021e+08</td>\n",
       "      <td>2.271367e+06</td>\n",
       "      <td>2.324452e+06</td>\n",
       "      <td>2.226544e+06</td>\n",
       "      <td>2.287781e+06</td>\n",
       "      <td>1.706507e+12</td>\n",
       "      <td>3.925147e+13</td>\n",
       "    </tr>\n",
       "    <tr>\n",
       "      <th>Volume</th>\n",
       "      <td>-1.766514e+12</td>\n",
       "      <td>-1.813583e+11</td>\n",
       "      <td>-1.646136e+12</td>\n",
       "      <td>-1.657222e+12</td>\n",
       "      <td>-1.758229e+12</td>\n",
       "      <td>8.860541e+14</td>\n",
       "      <td>1.577697e+12</td>\n",
       "      <td>1.850203e+12</td>\n",
       "      <td>1.453797e+12</td>\n",
       "      <td>1.706507e+12</td>\n",
       "      <td>3.876248e+19</td>\n",
       "      <td>3.587102e+19</td>\n",
       "    </tr>\n",
       "    <tr>\n",
       "      <th>Market Cap</th>\n",
       "      <td>2.530176e+13</td>\n",
       "      <td>-4.628508e+11</td>\n",
       "      <td>2.579749e+13</td>\n",
       "      <td>2.567207e+13</td>\n",
       "      <td>2.544846e+13</td>\n",
       "      <td>-1.248894e+16</td>\n",
       "      <td>3.895097e+13</td>\n",
       "      <td>3.988235e+13</td>\n",
       "      <td>3.818191e+13</td>\n",
       "      <td>3.925147e+13</td>\n",
       "      <td>3.587102e+19</td>\n",
       "      <td>6.748424e+20</td>\n",
       "    </tr>\n",
       "  </tbody>\n",
       "</table>\n",
       "</div>"
      ],
      "text/plain": [
       "                      종가           전일비            시가            고가  \\\n",
       "종가          6.846078e+06 -1.755498e+04  6.807220e+06  6.780417e+06   \n",
       "전일비        -1.755498e+04  1.984669e+05 -1.146445e+04  2.638181e+04   \n",
       "시가          6.807220e+06 -1.146445e+04  7.094596e+06  6.898380e+06   \n",
       "고가          6.780417e+06  2.638181e+04  6.898380e+06  6.845196e+06   \n",
       "저가          6.748902e+06 -4.971497e+04  6.874931e+06  6.757650e+06   \n",
       "거래량        -1.768174e+09  8.561799e+08 -1.543646e+09 -1.307755e+09   \n",
       "Open*       1.509873e+06 -1.569126e+04  1.544614e+06  1.532320e+06   \n",
       "High        1.509372e+06 -2.158713e+04  1.544355e+06  1.531849e+06   \n",
       "Low         1.519761e+06 -1.742792e+04  1.547371e+06  1.541699e+06   \n",
       "Close**     1.530810e+06 -2.561715e+04  1.560183e+06  1.551951e+06   \n",
       "Volume     -1.766514e+12 -1.813583e+11 -1.646136e+12 -1.657222e+12   \n",
       "Market Cap  2.530176e+13 -4.628508e+11  2.579749e+13  2.567207e+13   \n",
       "\n",
       "                      저가           거래량         Open*          High  \\\n",
       "종가          6.748902e+06 -1.768174e+09  1.509873e+06  1.509372e+06   \n",
       "전일비        -4.971497e+04  8.561799e+08 -1.569126e+04 -2.158713e+04   \n",
       "시가          6.874931e+06 -1.543646e+09  1.544614e+06  1.544355e+06   \n",
       "고가          6.757650e+06 -1.307755e+09  1.532320e+06  1.531849e+06   \n",
       "저가          6.786465e+06 -1.902252e+09  1.518191e+06  1.521359e+06   \n",
       "거래량        -1.902252e+09  1.539529e+13 -6.895658e+08 -7.620610e+08   \n",
       "Open*       1.518191e+06 -6.895658e+08  2.294040e+06  2.326722e+06   \n",
       "High        1.521359e+06 -7.620610e+08  2.326722e+06  2.380016e+06   \n",
       "Low         1.524395e+06 -6.713624e+08  2.226557e+06  2.264298e+06   \n",
       "Close**     1.540312e+06 -7.452021e+08  2.271367e+06  2.324452e+06   \n",
       "Volume     -1.758229e+12  8.860541e+14  1.577697e+12  1.850203e+12   \n",
       "Market Cap  2.544846e+13 -1.248894e+16  3.895097e+13  3.988235e+13   \n",
       "\n",
       "                     Low       Close**        Volume    Market Cap  \n",
       "종가          1.519761e+06  1.530810e+06 -1.766514e+12  2.530176e+13  \n",
       "전일비        -1.742792e+04 -2.561715e+04 -1.813583e+11 -4.628508e+11  \n",
       "시가          1.547371e+06  1.560183e+06 -1.646136e+12  2.579749e+13  \n",
       "고가          1.541699e+06  1.551951e+06 -1.657222e+12  2.567207e+13  \n",
       "저가          1.524395e+06  1.540312e+06 -1.758229e+12  2.544846e+13  \n",
       "거래량        -6.713624e+08 -7.452021e+08  8.860541e+14 -1.248894e+16  \n",
       "Open*       2.226557e+06  2.271367e+06  1.577697e+12  3.895097e+13  \n",
       "High        2.264298e+06  2.324452e+06  1.850203e+12  3.988235e+13  \n",
       "Low         2.181327e+06  2.226544e+06  1.453797e+12  3.818191e+13  \n",
       "Close**     2.226544e+06  2.287781e+06  1.706507e+12  3.925147e+13  \n",
       "Volume      1.453797e+12  1.706507e+12  3.876248e+19  3.587102e+19  \n",
       "Market Cap  3.818191e+13  3.925147e+13  3.587102e+19  6.748424e+20  "
      ]
     },
     "execution_count": 59,
     "metadata": {},
     "output_type": "execute_result"
    }
   ],
   "source": [
    "df.cov() # 상관관계 확인 "
   ]
  },
  {
   "cell_type": "markdown",
   "metadata": {},
   "source": [
    "전날 비트 코인 상승하면 다음날 자가와의 상관관계"
   ]
  },
  {
   "cell_type": "code",
   "execution_count": 76,
   "metadata": {},
   "outputs": [
    {
     "data": {
      "text/plain": [
       "(244,)"
      ]
     },
     "execution_count": 76,
     "metadata": {},
     "output_type": "execute_result"
    }
   ],
   "source": [
    "비트코인변화 = df['Open*'] - df['Close**']\n",
    "주가변화 = df['시가'] - df['종가']\n",
    "과거비트코인변화 = 비트코인변화.iloc[:-1]\n",
    "다음날주가변화 = 주가변화.iloc[1:]\n",
    "\n",
    "비트코인변화.shape\n",
    "주가변화.shape"
   ]
  },
  {
   "cell_type": "code",
   "execution_count": 81,
   "metadata": {},
   "outputs": [
    {
     "data": {
      "text/plain": [
       "array([[ 1.        , -0.07316871],\n",
       "       [-0.07316871,  1.        ]])"
      ]
     },
     "execution_count": 81,
     "metadata": {},
     "output_type": "execute_result"
    }
   ],
   "source": [
    "#상관관계가 0에 가까우므로 둘은 상관관계가 없다 ->0.07316871\n",
    "np.corrcoef(과거비트코인변화, 다음날주가변화)"
   ]
  },
  {
   "cell_type": "code",
   "execution_count": 69,
   "metadata": {},
   "outputs": [
    {
     "data": {
      "text/plain": [
       "<matplotlib.collections.PathCollection at 0x20787a8c898>"
      ]
     },
     "execution_count": 69,
     "metadata": {},
     "output_type": "execute_result"
    },
    {
     "data": {
      "image/png": "[encoded data removed]",
      "text/plain": [
       "<Figure size 432x288 with 1 Axes>"
      ]
     },
     "metadata": {
      "needs_background": "light"
     },
     "output_type": "display_data"
    }
   ],
   "source": [
    "plt.scatter(과거비트코인변화, 다음날주가변화)\n",
    "# x축(비트코인 변화량), y축(주가 변화량)"
   ]
  },
  {
   "cell_type": "markdown",
   "metadata": {},
   "source": [
    "6. 입력X /출력Y 분리\n",
    "    - m개의 x,y 쌍\n",
    "    - x(m, 60, 15) (국내증시컬럼 + 비트코인컬럼) > reshape > (m, 60*15)\n",
    "    - y(m, 30, 2) > (m, 30 * 2) "
   ]
  },
  {
   "cell_type": "code",
   "execution_count": 83,
   "metadata": {},
   "outputs": [
    {
     "data": {
      "text/plain": [
       "(244, 155)"
      ]
     },
     "execution_count": 83,
     "metadata": {},
     "output_type": "execute_result"
    }
   ],
   "source": [
    "len(df)\n",
    "input_seq = 60\n",
    "output_seq = 30\n",
    "m = len(df) - (input_seq + output_seq) + 1\n",
    "len(df), m"
   ]
  },
  {
   "cell_type": "code",
   "execution_count": 137,
   "metadata": {},
   "outputs": [],
   "source": [
    "#df = df/ df.sum() # max 정규화\n",
    "df = (df - df.min()) / (df.max()-df.min()) #min_max 정규화\n",
    "x_list = []\n",
    "y_list = []\n",
    "for i in range(m):\n",
    "    x = df.iloc[i:i+input_seq]\n",
    "    y = df.iloc[i+input_seq:i+input_seq+output_seq][['종가', 'Close**']]\n",
    "    x_list.append(x)\n",
    "    y_list.append(y)"
   ]
  },
  {
   "cell_type": "code",
   "execution_count": 138,
   "metadata": {},
   "outputs": [
    {
     "data": {
      "text/plain": [
       "((155, 60, 12), (155, 30, 2))"
      ]
     },
     "execution_count": 138,
     "metadata": {},
     "output_type": "execute_result"
    }
   ],
   "source": [
    "len(x_list), type(x_list) # (155, 60, 12)\n",
    "#numpy 배열로 변환\n",
    "x_3d = np.stack(x_list, axis=0)\n",
    "y_3d = np.stack(y_list, axis=0)\n",
    "\n",
    "x_3d.shape, y_3d.shape"
   ]
  },
  {
   "cell_type": "code",
   "execution_count": 139,
   "metadata": {},
   "outputs": [],
   "source": [
    "korea_close_index = 0\n",
    "bitcoin_close_index = 9"
   ]
  },
  {
   "cell_type": "code",
   "execution_count": 140,
   "metadata": {},
   "outputs": [
    {
     "data": {
      "text/plain": [
       "<matplotlib.axes._subplots.AxesSubplot at 0x20796fb0eb8>"
      ]
     },
     "execution_count": 140,
     "metadata": {},
     "output_type": "execute_result"
    },
    {
     "data": {
      "image/png": "[encoded data removed]",
      "text/plain": [
       "<Figure size 432x288 with 1 Axes>"
      ]
     },
     "metadata": {
      "needs_background": "light"
     },
     "output_type": "display_data"
    }
   ],
   "source": [
    "df['종가'].plot()\n",
    "df['Close**'].plot()"
   ]
  },
  {
   "cell_type": "markdown",
   "metadata": {},
   "source": [
    "7. 학습용/검증용(test) 분리\n",
    "    - 섞으면 안되므로 직접 분리\n",
    "    - 가장 과거의 데이터 10% 를 검증용으로 사용"
   ]
  },
  {
   "cell_type": "code",
   "execution_count": 158,
   "metadata": {},
   "outputs": [
    {
     "data": {
      "text/plain": [
       "(155, 60, 12)"
      ]
     },
     "execution_count": 158,
     "metadata": {},
     "output_type": "execute_result"
    }
   ],
   "source": [
    "test_ratio = 0.1\n",
    "len(x_3d)\n",
    "test_m = int( len(x_3d) * test_ratio )\n",
    "\n",
    "x_3d.shape"
   ]
  },
  {
   "cell_type": "code",
   "execution_count": 160,
   "metadata": {},
   "outputs": [
    {
     "data": {
      "text/plain": [
       "(155, 720)"
      ]
     },
     "execution_count": 160,
     "metadata": {},
     "output_type": "execute_result"
    }
   ],
   "source": [
    "m = len(x_3d)\n",
    "x_2d = np.reshape(x_3d, [m, -1])\n",
    "y_2d = np.reshape(y_3d, [m, -1])\n",
    "\n",
    "x_test = x_2d[:test_m]\n",
    "x_train = x_2d[test_m:]\n",
    "y_test = y_2d[:test_m]\n",
    "y_train = y_2d[test_m:]\n",
    "test_m\n",
    "x_2d.shape"
   ]
  },
  {
   "cell_type": "code",
   "execution_count": 143,
   "metadata": {},
   "outputs": [],
   "source": [
    "#model, Linear Regression , 가중치를 작게 제약시킨다 > 모든 정보를 활용해서 예측\n",
    "from sklearn.linear_model import Ridge, Lasso\n",
    "model = Ridge(normalize=True, solver='lsqr').fit(x_train, y_train) # 2차원 이하만 가능"
   ]
  },
  {
   "cell_type": "code",
   "execution_count": 148,
   "metadata": {},
   "outputs": [
    {
     "data": {
      "text/plain": [
       "(0.9767361862972054, -14.854996557273719)"
      ]
     },
     "execution_count": 148,
     "metadata": {},
     "output_type": "execute_result"
    }
   ],
   "source": [
    "model.score(x_train, y_train), model.score(x_test, y_test) #과적합 발생"
   ]
  },
  {
   "cell_type": "code",
   "execution_count": 166,
   "metadata": {},
   "outputs": [
    {
     "data": {
      "text/plain": [
       "60"
      ]
     },
     "execution_count": 166,
     "metadata": {},
     "output_type": "execute_result"
    }
   ],
   "source": [
    "#가장 최근 데이터\n",
    "recent = df.iloc[-input_seq:]\n",
    "recent = np.reshape(np.array(recent), [1, -1])\n",
    "recent.shape\n",
    "input_seq"
   ]
  },
  {
   "cell_type": "code",
   "execution_count": 164,
   "metadata": {},
   "outputs": [
    {
     "data": {
      "text/plain": [
       "30"
      ]
     },
     "execution_count": 164,
     "metadata": {},
     "output_type": "execute_result"
    }
   ],
   "source": [
    "p = model.predict(recent)#미래 예측\n",
    "p = np.reshape(p, [output_seq, -1])\n",
    "p.shape\n",
    "# output_seq"
   ]
  },
  {
   "cell_type": "code",
   "execution_count": 165,
   "metadata": {},
   "outputs": [
    {
     "data": {
      "text/plain": [
       "array([0.82846606, 0.83686755, 0.80535445, 0.74785701, 0.70322264,\n",
       "       0.65517003, 0.68295159, 0.74717617, 0.77644706, 0.82169161,\n",
       "       0.82342871, 0.79052933, 0.78019502, 0.71785633, 0.68633352,\n",
       "       0.69877174, 0.67496745, 0.64249303, 0.5562043 , 0.45246021,\n",
       "       0.38502142, 0.41042091, 0.42164824, 0.43112005, 0.39601188,\n",
       "       0.35215686, 0.33439696, 0.27436681, 0.2375275 , 0.18932426])"
      ]
     },
     "execution_count": 165,
     "metadata": {},
     "output_type": "execute_result"
    },
    {
     "data": {
      "image/png": "[encoded data removed]",
      "text/plain": [
       "<Figure size 432x288 with 1 Axes>"
      ]
     },
     "metadata": {
      "needs_background": "light"
     },
     "output_type": "display_data"
    }
   ],
   "source": [
    "xm = len(df)\n",
    "plt.plot(np.arange(xm), df['종가'].values, label='samsung')\n",
    "plt.plot(np.arange(xm), df['Close**'].values, label='bitcoin')\n",
    "plt.plot(np.arange(xm,xm+output_seq), p[:, 0], label='samsung')\n",
    "plt.plot(np.arange(xm,xm+output_seq), p[:, 1], label='bitcoin')\n",
    "plt.legend()\n",
    "\n",
    "p[:, 0]"
   ]
  },
  {
   "cell_type": "code",
   "execution_count": null,
   "metadata": {},
   "outputs": [],
   "source": []
  },
  {
   "cell_type": "code",
   "execution_count": null,
   "metadata": {},
   "outputs": [],
   "source": []
  },
  {
   "cell_type": "code",
   "execution_count": null,
   "metadata": {},
   "outputs": [],
   "source": []
  },
  {
   "cell_type": "code",
   "execution_count": null,
   "metadata": {},
   "outputs": [],
   "source": []
  },
  {
   "cell_type": "code",
   "execution_count": null,
   "metadata": {},
   "outputs": [],
   "source": []
  },
  {
   "cell_type": "code",
   "execution_count": null,
   "metadata": {},
   "outputs": [],
   "source": []
  }
 ],
 "metadata": {
  "kernelspec": {
   "display_name": "Python 3",
   "language": "python",
   "name": "python3"
  },
  "language_info": {
   "codemirror_mode": {
    "name": "ipython",
    "version": 3
   },
   "file_extension": ".py",
   "mimetype": "text/x-python",
   "name": "python",
   "nbconvert_exporter": "python",
   "pygments_lexer": "ipython3",
   "version": "3.7.3"
  }
 },
 "nbformat": 4,
 "nbformat_minor": 2
}
